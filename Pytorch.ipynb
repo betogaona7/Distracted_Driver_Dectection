{
  "nbformat": 4,
  "nbformat_minor": 0,
  "metadata": {
    "colab": {
      "name": "Pytorch.ipynb",
      "version": "0.3.2",
      "provenance": [],
      "collapsed_sections": []
    },
    "kernelspec": {
      "name": "python3",
      "display_name": "Python 3"
    },
    "accelerator": "GPU"
  },
  "cells": [
    {
      "cell_type": "markdown",
      "metadata": {
        "id": "YHj2YxWpYO5q",
        "colab_type": "text"
      },
      "source": [
        "### Connect with Colab"
      ]
    },
    {
      "cell_type": "code",
      "metadata": {
        "id": "XUK4BHalYMtB",
        "colab_type": "code",
        "colab": {}
      },
      "source": [
        "from google.colab import drive\n",
        "drive.mount(\"/betogaona7\")"
      ],
      "execution_count": 0,
      "outputs": []
    },
    {
      "cell_type": "code",
      "metadata": {
        "id": "sNj7bCfkX262",
        "colab_type": "code",
        "outputId": "067e567e-cfe5-4394-dc5f-144c4c5d798b",
        "colab": {
          "base_uri": "https://localhost:8080/",
          "height": 34
        }
      },
      "source": [
        "%cd ./../betogaona7/My\\ Drive/app/Distracted"
      ],
      "execution_count": 3,
      "outputs": [
        {
          "output_type": "stream",
          "text": [
            "/betogaona7/My Drive/app/Distracted\n"
          ],
          "name": "stdout"
        }
      ]
    },
    {
      "cell_type": "markdown",
      "metadata": {
        "id": "GjoEVFdWYcPS",
        "colab_type": "text"
      },
      "source": [
        "### Imports "
      ]
    },
    {
      "cell_type": "code",
      "metadata": {
        "id": "nLQNhD8SYdnm",
        "colab_type": "code",
        "colab": {}
      },
      "source": [
        "import os \n",
        "import random\n",
        "from PIL import Image \n",
        "import matplotlib.pyplot as plt\n",
        "import numpy as np\n",
        "from collections import OrderedDict\n",
        "import csv\n",
        "\n",
        "\n",
        "from torch.utils.data.sampler import SubsetRandomSampler\n",
        "\n",
        "import torch\n",
        "import torch.nn as nn\n",
        "import torch.functional as F\n",
        "from torch import optim\n",
        "\n",
        "from torchvision import models, datasets, transforms, utils\n",
        "from torchvision.models.vgg import VGG\n",
        "from torch.utils.data import Dataset"
      ],
      "execution_count": 0,
      "outputs": []
    },
    {
      "cell_type": "markdown",
      "metadata": {
        "id": "dGMGPRaLt3NH",
        "colab_type": "text"
      },
      "source": [
        "### Helper functions"
      ]
    },
    {
      "cell_type": "code",
      "metadata": {
        "id": "ALCMyKj6t5wd",
        "colab_type": "code",
        "colab": {}
      },
      "source": [
        "def unnormalize(img):\n",
        "  img = (img/2)+0.5 \n",
        "  npimg = img.numpy()\n",
        "  return np.transpose(npimg, (1, 2, 0))\n",
        "\n",
        "def plot_imgs(images = [], titles = [], figsize = (10,10)):\n",
        "  size = len(images)\n",
        "  fig = plt.figure(figsize=figsize)\n",
        "  i = 1\n",
        "  for image in images:\n",
        "    ax = fig.add_subplot(1,size,i)\n",
        "    ax.set_xticks([])\n",
        "    ax.set_yticks([])\n",
        "    ax.set_title(titles[i-1])\n",
        "    ax.imshow(image)\n",
        "    i += 1\n",
        "  return None\n",
        "\n",
        "def decode_label(label):\n",
        "  actions = [\"safe driving\",\n",
        "             \"texting - right\",\n",
        "             \"talking on the phone - right\",\n",
        "             \"texting - left\",\n",
        "             \"talking on the phone - left\",\n",
        "             \"operating the radio\",\n",
        "             \"drinking\",\n",
        "             \"reaching behing\",\n",
        "             \"hair and makeup\",\n",
        "             \"talking to passanger\"]\n",
        "  return actions[label]\n",
        "\n",
        "def transform_matrix_offset_center(matrix, x, y):\n",
        "  o_x = float(x) / 2 + 0.5\n",
        "  o_y = float(y) / 2 + 0.5\n",
        "  offset_matrix = np.array([[1, 0, o_x], [0, 1, o_y], [0, 0, 1]])\n",
        "  reset_matrix = np.array([[1, 0, -o_x], [0, 1, -o_y], [0, 0, 1]])\n",
        "  transform_matrix = np.dot(np.dot(offset_matrix, matrix), reset_matrix)\n",
        "  return transform_matrix"
      ],
      "execution_count": 0,
      "outputs": []
    },
    {
      "cell_type": "markdown",
      "metadata": {
        "id": "IZE9OOJ3ba98",
        "colab_type": "text"
      },
      "source": [
        "### Build dataset "
      ]
    },
    {
      "cell_type": "code",
      "metadata": {
        "id": "_bvkjXcSJvWj",
        "colab_type": "code",
        "outputId": "eac140b6-af14-4a4a-bf09-765c31048479",
        "colab": {
          "base_uri": "https://localhost:8080/",
          "height": 86
        }
      },
      "source": [
        "datadir = './data/train'\n",
        "valid_size= 0.20\n",
        "\n",
        "train_transforms = transforms.Compose([transforms.RandomAffine(0.2, shear=0.2, scale=(1, 1.2)),\n",
        "                                       transforms.Resize((64, 64)),\n",
        "                                       transforms.ColorJitter(0.2),\n",
        "                                       transforms.ToTensor(),\n",
        "                                       transforms.Normalize((0.5, 0.5, 0.5), (0.5, 0.5, 0.5))])\n",
        "\n",
        "valid_transforms = transforms.Compose([transforms.Resize((64, 64)),\n",
        "                                       transforms.ToTensor(),\n",
        "                                       transforms.Normalize((0.5, 0.5, 0.5), (0.5, 0.5, 0.5))])\n",
        "\n",
        "train_data = datasets.ImageFolder(datadir, transform=train_transforms)\n",
        "valid_data = datasets.ImageFolder(datadir, transform=valid_transforms)\n",
        "\n",
        "num_train = len(train_data)\n",
        "indices = list(range(num_train))\n",
        "split = int(np.floor(valid_size * num_train))\n",
        "np.random.shuffle(indices)\n",
        "\n",
        "train_idx, valid_idx = indices[split:], indices[:split]\n",
        "train_sampler = SubsetRandomSampler(train_idx)\n",
        "valid_sampler = SubsetRandomSampler(valid_idx)\n",
        "\n",
        "trainloader = torch.utils.data.DataLoader(train_data, sampler=train_sampler, num_workers=8, batch_size=256)\n",
        "validloader = torch.utils.data.DataLoader(valid_data, sampler=valid_sampler, num_workers=8, batch_size=256)\n",
        "\n",
        "print(len(train_idx), \" samples in training. \")\n",
        "print(len(valid_idx), \" samples in validation.\")\n",
        "print(len(train_idx)+len(valid_idx), \" total samples.\")\n",
        "print(\"Classes: \", trainloader.dataset.classes)"
      ],
      "execution_count": 7,
      "outputs": [
        {
          "output_type": "stream",
          "text": [
            "17940  samples in training. \n",
            "4484  samples in validation.\n",
            "22424  total samples.\n",
            "Classes:  ['c0', 'c1', 'c2', 'c3', 'c4', 'c5', 'c6', 'c7', 'c8', 'c9']\n"
          ],
          "name": "stdout"
        }
      ]
    },
    {
      "cell_type": "markdown",
      "metadata": {
        "id": "S6qV6ROkW2xo",
        "colab_type": "text"
      },
      "source": [
        "### Visualize training samples"
      ]
    },
    {
      "cell_type": "code",
      "metadata": {
        "id": "CWyDw7_Zs0Hl",
        "colab_type": "code",
        "outputId": "d63999e2-d59d-47c6-96a6-9428625fd108",
        "colab": {
          "base_uri": "https://localhost:8080/",
          "height": 195
        }
      },
      "source": [
        "batch = next(iter(trainloader))\n",
        "\n",
        "imgs = []\n",
        "actions = []\n",
        "for i in range(5):\n",
        "  sample = random.randint(0, 31)\n",
        "  img = unnormalize(batch[0][sample])\n",
        "  action = decode_label(int(batch[1][sample]))\n",
        "  imgs.append(img)\n",
        "  actions.append(action)\n",
        "\n",
        "plot_imgs(imgs, actions, (15,15))"
      ],
      "execution_count": 8,
      "outputs": [
        {
          "output_type": "display_data",
          "data": {
            "image/png": "[encoded data removed]",
            "text/plain": [
              "<Figure size 1080x1080 with 5 Axes>"
            ]
          },
          "metadata": {
            "tags": []
          }
        }
      ]
    },
    {
      "cell_type": "markdown",
      "metadata": {
        "id": "IbENsk_dxuq1",
        "colab_type": "text"
      },
      "source": [
        "## Model"
      ]
    },
    {
      "cell_type": "code",
      "metadata": {
        "id": "DVEblVNyxuZ8",
        "colab_type": "code",
        "colab": {}
      },
      "source": [
        "model = models.vgg16_bn(pretrained=True)\n",
        "model"
      ],
      "execution_count": 0,
      "outputs": []
    },
    {
      "cell_type": "markdown",
      "metadata": {
        "id": "MxzwgLHt02Q-",
        "colab_type": "text"
      },
      "source": [
        "### Modify pretrained model"
      ]
    },
    {
      "cell_type": "code",
      "metadata": {
        "id": "Iu04xUL5pZBo",
        "colab_type": "code",
        "colab": {}
      },
      "source": [
        "model.classifier = nn.Sequential(OrderedDict([('0', nn.Linear(25088, 1024)),\n",
        "                                              ('1', nn.Linear(1024, 10))\n",
        "                                              ]))\n",
        "model"
      ],
      "execution_count": 0,
      "outputs": []
    },
    {
      "cell_type": "markdown",
      "metadata": {
        "id": "npxzf9eWB9bV",
        "colab_type": "text"
      },
      "source": [
        "## Training"
      ]
    },
    {
      "cell_type": "markdown",
      "metadata": {
        "id": "u4Dai87SCCo_",
        "colab_type": "text"
      },
      "source": [
        "### Check for GPU"
      ]
    },
    {
      "cell_type": "code",
      "metadata": {
        "id": "av2FWCjZCGmx",
        "colab_type": "code",
        "outputId": "7d8fc5a0-77d1-458a-a6b5-087c093cbad1",
        "colab": {
          "base_uri": "https://localhost:8080/",
          "height": 34
        }
      },
      "source": [
        "device = torch.device(\"cuda:0\" if torch.cuda.is_available() else \"cpu\")\n",
        "device"
      ],
      "execution_count": 11,
      "outputs": [
        {
          "output_type": "execute_result",
          "data": {
            "text/plain": [
              "device(type='cuda', index=0)"
            ]
          },
          "metadata": {
            "tags": []
          },
          "execution_count": 11
        }
      ]
    },
    {
      "cell_type": "code",
      "metadata": {
        "id": "DzK4RI0N2k_Q",
        "colab_type": "code",
        "colab": {}
      },
      "source": [
        "model.to(device)\n",
        "criterion = nn.CrossEntropyLoss()\n",
        "optimizer = optim.Adam(model.parameters())"
      ],
      "execution_count": 0,
      "outputs": []
    },
    {
      "cell_type": "markdown",
      "metadata": {
        "id": "z2VQpyslCh9V",
        "colab_type": "text"
      },
      "source": [
        "### Train a single epoch"
      ]
    },
    {
      "cell_type": "code",
      "metadata": {
        "id": "nq5ITWdqCSuJ",
        "colab_type": "code",
        "colab": {}
      },
      "source": [
        "counter = []\n",
        "history = []\n",
        "iteration = 0\n",
        "\n",
        "\n",
        "for i, batch in enumerate(trainloader):\n",
        "  images, labels = batch\n",
        "  images, labels = images.to(device), labels.to(device)\n",
        "  optimizer.zero_grad()\n",
        "  \n",
        "  outputs = model.forward(images)\n",
        "  loss = criterion(outputs, labels)\n",
        "  loss.backward()\n",
        "  optimizer.step()\n",
        "  print(\"Minibatch: {} loss: {}\".format(i, loss.item()))\n",
        "  iteration += i\n",
        "  counter.append(iteration)\n",
        "  history.append(loss.item())\n"
      ],
      "execution_count": 0,
      "outputs": []
    },
    {
      "cell_type": "code",
      "metadata": {
        "id": "a4Kit9aYexw3",
        "colab_type": "code",
        "outputId": "8d36cc0a-1f49-425b-9b91-b8d889e79de0",
        "colab": {
          "base_uri": "https://localhost:8080/",
          "height": 269
        }
      },
      "source": [
        "torch.save(model.state_dict(), \"./pytorch-model.pth\")\n",
        "plt.plot(counter, history)\n",
        "plt.show()"
      ],
      "execution_count": 0,
      "outputs": [
        {
          "output_type": "display_data",
          "data": {
            "image/png": "[encoded data removed]",
            "text/plain": [
              "<Figure size 432x288 with 1 Axes>"
            ]
          },
          "metadata": {
            "tags": []
          }
        }
      ]
    },
    {
      "cell_type": "markdown",
      "metadata": {
        "id": "63_wVNroEMF3",
        "colab_type": "text"
      },
      "source": [
        "### Full training"
      ]
    },
    {
      "cell_type": "code",
      "metadata": {
        "id": "kvK44puqJgLL",
        "colab_type": "code",
        "colab": {}
      },
      "source": [
        "def validation(model, validloader, criterion):\n",
        "  correct = 0\n",
        "  total = 0\n",
        "  for minibatch, batch in enumerate(validloader):\n",
        "    images, labels = batch[0].to(device), batch[1].to(device)\n",
        "    outputs = model(images)\n",
        "    _, predicted = torch.max(outputs.data, 1)\n",
        "    total += labels.size(0)\n",
        "    correct += (predicted == labels).sum().item()\n",
        "  return 100 * correct / total"
      ],
      "execution_count": 0,
      "outputs": []
    },
    {
      "cell_type": "code",
      "metadata": {
        "id": "wiEUYgHfPFOk",
        "colab_type": "code",
        "colab": {}
      },
      "source": [
        "epochs = 10\n",
        "print_every = 20"
      ],
      "execution_count": 0,
      "outputs": []
    },
    {
      "cell_type": "code",
      "metadata": {
        "id": "WJl_9_p6lRIO",
        "colab_type": "code",
        "colab": {}
      },
      "source": [
        "best = 100\n",
        "\n",
        "for epoch in range(epochs):\n",
        "  for minibatch, batch in enumerate(trainloader):\n",
        "    images, labels = batch[0].to(device), batch[1].to(device)\n",
        "    optimizer.zero_grad()\n",
        "    \n",
        "    outputs = model.forward(images)\n",
        "    loss = criterion(outputs, labels)\n",
        "    loss.backward()\n",
        "    optimizer.step()\n",
        "    if minibatch % print_every == 0:\n",
        "      model.eval()\n",
        "      with torch.no_grad():\n",
        "        accuracy = validation(model, validloader, criterion)\n",
        "        training_loss = loss.item()\n",
        "        print(\"Epoch: {}/{}.. \".format(epoch+1, epochs),\n",
        "              \"Loss: {:.5f}.. \".format(training_loss),\n",
        "              \"Accuracy: {}.. \".format(accuracy))\n",
        "        if best > training_loss:\n",
        "          torch.save(model.state_dict(), \"./lessloss-accuracy-pytorch6.pth\")\n",
        "          best = training_loss\n",
        "      model.train()\n",
        "      \n",
        "torch.save(model.state_dict(), \"./full-trained-pytorch6.pth\")"
      ],
      "execution_count": 0,
      "outputs": []
    },
    {
      "cell_type": "markdown",
      "metadata": {
        "id": "3rhAvnKnQJSX",
        "colab_type": "text"
      },
      "source": [
        "### Evaluate"
      ]
    },
    {
      "cell_type": "code",
      "metadata": {
        "id": "Chp-nDBEJg-b",
        "colab_type": "code",
        "outputId": "6fa24460-e045-40ce-e09d-9e93fd75fc6f",
        "colab": {
          "base_uri": "https://localhost:8080/",
          "height": 34
        }
      },
      "source": [
        "saved_file = \"./lessloss-accuracy-pytorch5.pth\"\n",
        "saved_file2 = \"./full-trained-pytorch5.pth\"\n",
        "\n",
        "state_dict = torch.load(saved_file)\n",
        "model.load_state_dict(state_dict)\n",
        "\n",
        "model.eval()\n",
        "with torch.no_grad():\n",
        "  acc = validation(model, validloader, criterion)\n",
        "  print(\"Validation accuracy: \", acc)"
      ],
      "execution_count": 14,
      "outputs": [
        {
          "output_type": "stream",
          "text": [
            "Validation accuracy:  99.64317573595004\n"
          ],
          "name": "stdout"
        }
      ]
    },
    {
      "cell_type": "code",
      "metadata": {
        "id": "q3EPH1SQRQ3z",
        "colab_type": "code",
        "outputId": "22b9dc27-72a9-4304-995e-52e358056663",
        "colab": {
          "base_uri": "https://localhost:8080/",
          "height": 191
        }
      },
      "source": [
        "class_correct = list(0. for i in range(10))\n",
        "class_total = list(0. for i in range(10))\n",
        "\n",
        "with torch.no_grad():\n",
        "  for minibatch, batch in enumerate(validloader):\n",
        "    images, labels = batch[0].to(device), batch[1].to(device)\n",
        "    outputs = model(images)\n",
        "    _, predicted = torch.max(outputs, 1)\n",
        "    c = (predicted == labels).squeeze()\n",
        "    \n",
        "    for sample in range(32):\n",
        "      try:\n",
        "        label = labels[sample]\n",
        "        class_correct[label] += c[sample].item()\n",
        "        class_total[label] += 1\n",
        "      except:\n",
        "        break\n",
        "      \n",
        "for i in range(10):\n",
        "  print(\"Accuracy of %5s : %2d %%\" % (decode_label(i), 100*class_correct[i]/class_total[i]))\n",
        "    "
      ],
      "execution_count": 15,
      "outputs": [
        {
          "output_type": "stream",
          "text": [
            "Accuracy of safe driving : 100 %\n",
            "Accuracy of texting - right : 100 %\n",
            "Accuracy of talking on the phone - right : 100 %\n",
            "Accuracy of texting - left : 98 %\n",
            "Accuracy of talking on the phone - left : 100 %\n",
            "Accuracy of operating the radio : 100 %\n",
            "Accuracy of drinking : 100 %\n",
            "Accuracy of reaching behing : 100 %\n",
            "Accuracy of hair and makeup : 100 %\n",
            "Accuracy of talking to passanger : 100 %\n"
          ],
          "name": "stdout"
        }
      ]
    },
    {
      "cell_type": "markdown",
      "metadata": {
        "id": "pNMdXJSeQhWw",
        "colab_type": "text"
      },
      "source": [
        "## Test "
      ]
    },
    {
      "cell_type": "markdown",
      "metadata": {
        "id": "KQi66kQJkO3v",
        "colab_type": "text"
      },
      "source": [
        "### Move test images to virtual environment file system"
      ]
    },
    {
      "cell_type": "code",
      "metadata": {
        "id": "UOegKHCsHECx",
        "colab_type": "code",
        "colab": {}
      },
      "source": [
        "!ls ./../../../../content/"
      ],
      "execution_count": 0,
      "outputs": []
    },
    {
      "cell_type": "code",
      "metadata": {
        "id": "i2K1W7h-i7yz",
        "colab_type": "code",
        "colab": {}
      },
      "source": [
        "!cp data/test.zip  ./../../../../content/"
      ],
      "execution_count": 0,
      "outputs": []
    },
    {
      "cell_type": "code",
      "metadata": {
        "id": "ML7NxX0wqdxO",
        "colab_type": "code",
        "colab": {}
      },
      "source": [
        "%cd /content\n",
        "%ls "
      ],
      "execution_count": 0,
      "outputs": []
    },
    {
      "cell_type": "code",
      "metadata": {
        "id": "BNmfy0azj6vh",
        "colab_type": "code",
        "colab": {}
      },
      "source": [
        "!unzip -qq test.zip"
      ],
      "execution_count": 0,
      "outputs": []
    },
    {
      "cell_type": "code",
      "metadata": {
        "id": "nu9I6N5uqTvV",
        "colab_type": "code",
        "colab": {}
      },
      "source": [
        "%rm test.zip"
      ],
      "execution_count": 0,
      "outputs": []
    },
    {
      "cell_type": "code",
      "metadata": {
        "id": "4GEVLPdDjwCe",
        "colab_type": "code",
        "colab": {}
      },
      "source": [
        "%cd ./../betogaona7/My\\ Drive/app/Distracted"
      ],
      "execution_count": 0,
      "outputs": []
    },
    {
      "cell_type": "markdown",
      "metadata": {
        "id": "gWX11cAawm4I",
        "colab_type": "text"
      },
      "source": [
        "### Get test data"
      ]
    },
    {
      "cell_type": "code",
      "metadata": {
        "id": "YtINPYFKwp3x",
        "colab_type": "code",
        "colab": {}
      },
      "source": [
        "def get_data(src):\n",
        "  data = []\n",
        "  total = 0\n",
        "  for path, subdir, files in os.walk(src):\n",
        "    for file in files:\n",
        "      if file[-3:] == 'jpg': \n",
        "        data.append(os.path.join(path, file))\n",
        "      total += 1\n",
        "  return data, total\n",
        "\n",
        "\n",
        "test_data, total = get_data(\"./../../../../content/test/\")"
      ],
      "execution_count": 0,
      "outputs": []
    },
    {
      "cell_type": "code",
      "metadata": {
        "id": "mJLFeo3NxH-s",
        "colab_type": "code",
        "outputId": "3bbc20b0-0d98-45ff-db08-af2f4f635948",
        "colab": {
          "base_uri": "https://localhost:8080/",
          "height": 34
        }
      },
      "source": [
        "print(\"Test sample: \", test_data[0], \" Total samples: \", total)"
      ],
      "execution_count": 24,
      "outputs": [
        {
          "output_type": "stream",
          "text": [
            "Test sample:  ./../../../../content/test/img_17237.jpg  Total samples:  79726\n"
          ],
          "name": "stdout"
        }
      ]
    },
    {
      "cell_type": "code",
      "metadata": {
        "id": "sReU7ppjxWgX",
        "colab_type": "code",
        "colab": {}
      },
      "source": [
        "class stateFarmTestset(Dataset):\n",
        "  def __init__(self, data, transform=None):\n",
        "    self.data = data\n",
        "    self.transform = transform\n",
        "    \n",
        "  def __getitem__(self, index):\n",
        "    img = self.data[index]\n",
        "    img_name = img[27:]\n",
        "    \n",
        "    img = Image.open(img)\n",
        "    \n",
        "    if self.transform is not None:\n",
        "      img = self.transform(img)\n",
        "    \n",
        "    return img, img_name\n",
        "  \n",
        "  def __len__(self):\n",
        "    return len(self.data)"
      ],
      "execution_count": 0,
      "outputs": []
    },
    {
      "cell_type": "code",
      "metadata": {
        "id": "kRZfsFIrcfh6",
        "colab_type": "code",
        "colab": {}
      },
      "source": [
        "test_transforms = transforms.Compose([transforms.Resize((64, 64)),\n",
        "                                      transforms.ToTensor(),\n",
        "                                      transforms.Normalize((0.5, 0.5, 0.5), (0.5, 0.5, 0.5))])\n",
        "\n",
        "test_dataset = stateFarmTestset(test_data, transform = test_transforms)\n",
        "testloader = torch.utils.data.DataLoader(test_dataset, shuffle=False, num_workers=8, batch_size=256)"
      ],
      "execution_count": 0,
      "outputs": []
    },
    {
      "cell_type": "markdown",
      "metadata": {
        "id": "OXASpPS3zwbk",
        "colab_type": "text"
      },
      "source": [
        "### Visualize test sample"
      ]
    },
    {
      "cell_type": "code",
      "metadata": {
        "id": "iR6wptPJghNQ",
        "colab_type": "code",
        "outputId": "2565aebe-f81f-410b-e7b9-2a5e314fbc95",
        "colab": {
          "base_uri": "https://localhost:8080/",
          "height": 339
        }
      },
      "source": [
        "sample = random.randint(0, 64)\n",
        "\n",
        "batch = next(iter(testloader))\n",
        "\n",
        "img = unnormalize(batch[0][sample])\n",
        "img_name = batch[1][sample]\n",
        "\n",
        "print(img.shape)\n",
        "plot_imgs([img], [img_name], (5,5))"
      ],
      "execution_count": 28,
      "outputs": [
        {
          "output_type": "stream",
          "text": [
            "(64, 64, 3)\n"
          ],
          "name": "stdout"
        },
        {
          "output_type": "display_data",
          "data": {
            "image/png": "[encoded data removed]",
            "text/plain": [
              "<Figure size 360x360 with 1 Axes>"
            ]
          },
          "metadata": {
            "tags": []
          }
        }
      ]
    },
    {
      "cell_type": "markdown",
      "metadata": {
        "id": "mdl4Oau62IQu",
        "colab_type": "text"
      },
      "source": [
        "### Get predictions and create CSV"
      ]
    },
    {
      "cell_type": "code",
      "metadata": {
        "id": "Wkh_i7Ke0Nnd",
        "colab_type": "code",
        "colab": {}
      },
      "source": [
        "csvfile = open(\"predictions.csv\", 'w', newline='')\n",
        "doc = csv.writer(csvfile)\n",
        "doc.writerow(['img', 'c0', 'c1', 'c2', 'c3', 'c4', 'c5', 'c6', 'c7', 'c8', 'c9'])\n",
        "\n",
        "with torch.no_grad():\n",
        "  for minibatch, batch in enumerate(testloader):\n",
        "    images, names = batch[0].to(device), batch[1]\n",
        "    outputs = model(images)\n",
        "    predictions = outputs.data\n",
        "    \n",
        "    for i in range(len(predictions)):\n",
        "      p = nn.functional.softmax(predictions[i]).cpu().numpy()\n",
        "      n = names[i]\n",
        "      doc.writerow([n, p[0], p[1], p[2], p[3], p[4], p[5], p[6], p[7], p[8], p[9]])\n",
        "      \n",
        "    if(minibatch%10 == 0):\n",
        "      print(minibatch, \" minibatches tested.\")\n",
        "    \n",
        "csvfile.close()"
      ],
      "execution_count": 0,
      "outputs": []
    },
    {
      "cell_type": "code",
      "metadata": {
        "id": "68p_O5MuHxpg",
        "colab_type": "code",
        "colab": {}
      },
      "source": [
        ""
      ],
      "execution_count": 0,
      "outputs": []
    }
  ]
}