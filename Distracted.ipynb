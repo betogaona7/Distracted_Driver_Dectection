{
  "nbformat": 4,
  "nbformat_minor": 0,
  "metadata": {
    "colab": {
      "name": "Distracted.ipynb",
      "version": "0.3.2",
      "provenance": [],
      "collapsed_sections": []
    },
    "kernelspec": {
      "name": "python3",
      "display_name": "Python 3"
    }
  },
  "cells": [
    {
      "cell_type": "markdown",
      "metadata": {
        "id": "LHHZJUxGa08N",
        "colab_type": "text"
      },
      "source": [
        "## Connect with Drive"
      ]
    },
    {
      "cell_type": "code",
      "metadata": {
        "id": "Uq5bdOPEakdN",
        "colab_type": "code",
        "colab": {}
      },
      "source": [
        "from google.colab import drive\n",
        "drive.mount(\"/betogaona7\")"
      ],
      "execution_count": 0,
      "outputs": []
    },
    {
      "cell_type": "code",
      "metadata": {
        "id": "YmNyou92atnI",
        "colab_type": "code",
        "outputId": "faef0eac-57bc-4f60-9485-e9007aa69ff8",
        "colab": {
          "base_uri": "https://localhost:8080/",
          "height": 34
        }
      },
      "source": [
        "%cd ./../betogaona7/My\\ Drive/app/Distracted"
      ],
      "execution_count": 1,
      "outputs": [
        {
          "output_type": "stream",
          "text": [
            "/betogaona7/My Drive/app/Distracted\n"
          ],
          "name": "stdout"
        }
      ]
    },
    {
      "cell_type": "code",
      "metadata": {
        "id": "J6M_jc6wf8Om",
        "colab_type": "code",
        "outputId": "23cb7e8c-4b88-434d-8d25-06a6edfd0ba9",
        "colab": {
          "base_uri": "https://localhost:8080/",
          "height": 69
        }
      },
      "source": [
        "!ls "
      ],
      "execution_count": 0,
      "outputs": [
        {
          "output_type": "stream",
          "text": [
            "data\t\t  driver_imgs_list.csv\t test.tfrecord\n",
            "Distracted.ipynb  kaggle.json\t\t train.tfrecord\n",
            "DLNF-projects\t  sample_submission.csv  Untitled0.ipynb\n"
          ],
          "name": "stdout"
        }
      ]
    },
    {
      "cell_type": "markdown",
      "metadata": {
        "id": "wh7fTEx2bC32",
        "colab_type": "text"
      },
      "source": [
        "## Imports "
      ]
    },
    {
      "cell_type": "code",
      "metadata": {
        "id": "lL2NkIhYbA0B",
        "colab_type": "code",
        "colab": {}
      },
      "source": [
        "import os \n",
        "import random\n",
        "from PIL import Image \n",
        "import numpy as np\n",
        "import matplotlib.pyplot as plt\n",
        "\n",
        "import tensorflow as tf\n",
        "\n",
        "#tf.enable_eager_execution()\n"
      ],
      "execution_count": 0,
      "outputs": []
    },
    {
      "cell_type": "markdown",
      "metadata": {
        "id": "5jSWxOnbbFSn",
        "colab_type": "text"
      },
      "source": [
        "## Create a TFRecord file"
      ]
    },
    {
      "cell_type": "code",
      "metadata": {
        "id": "ugDfG9V2lT9n",
        "colab_type": "code",
        "colab": {}
      },
      "source": [
        "def imgs_with_labels(src):\n",
        "  data = []\n",
        "  total = 0\n",
        "  for path, subdir, files in os.walk(src):\n",
        "    for file in files:\n",
        "      if file[-3:] == 'jpg': \n",
        "        data.append((os.path.join(path, file), path[-1:]))\n",
        "      total += 1\n",
        "  return data, total\n",
        "\n",
        "data, total = imgs_with_labels(\"./data/test/\")"
      ],
      "execution_count": 0,
      "outputs": []
    },
    {
      "cell_type": "code",
      "metadata": {
        "id": "owYTFog5vigm",
        "colab_type": "code",
        "outputId": "e42c520e-32e7-4f18-da25-f750bb15c824",
        "colab": {
          "base_uri": "https://localhost:8080/",
          "height": 34
        }
      },
      "source": [
        "img_path, label = data[random.randint(0, total)]\n",
        "print(\"img: \", img_path, \" label: \", label, \" total: \", total )"
      ],
      "execution_count": 0,
      "outputs": [
        {
          "output_type": "stream",
          "text": [
            "img:  ./data/test/img_26623.jpg  label:  /  total:  79726\n"
          ],
          "name": "stdout"
        }
      ]
    },
    {
      "cell_type": "code",
      "metadata": {
        "id": "IQSp7kjKl_xI",
        "colab_type": "code",
        "colab": {}
      },
      "source": [
        "def _bytes_feature(value):\n",
        "  return tf.train.Feature(bytes_list=tf.train.BytesList(value=[value]))\n",
        "\n",
        "def _int64_feature(value):\n",
        "  return tf.train.Feature(int64_list=tf.train.Int64List(value=[value]))\n",
        "\n",
        "tfr_name = \"test.tfrecord\"\n",
        "writer = tf.python_io.TFRecordWriter(tfr_name)\n",
        "\n",
        "for img_path, img_class in data:\n",
        "  img = np.array(Image.open(img_path))\n",
        "  \n",
        "  img_raw = open(img_path, 'rb').read()\n",
        "  #label = int(img_class)\n",
        "  path = str.encode(img_path)\n",
        "  \n",
        "  example = tf.train.Example(features=tf.train.Features(feature={\n",
        "      'image': _bytes_feature(img_raw),\n",
        "      #'label': _int64_feature(label),\n",
        "      'height': _int64_feature(img.shape[0]),\n",
        "      'width': _int64_feature(img.shape[1]),\n",
        "      'depth': _int64_feature(img.shape[2]),\n",
        "      'path': _bytes_feature(path) }))\n",
        "  #writer.write(example.SerializeToString())\n",
        "#writer.close()"
      ],
      "execution_count": 0,
      "outputs": []
    },
    {
      "cell_type": "code",
      "metadata": {
        "id": "RqsWpGPNupua",
        "colab_type": "code",
        "colab": {}
      },
      "source": [
        "for example in tf.python_io.tf_record_iterator(\"test.tfrecord\"):\n",
        "  result = tf.train.Example.FromString(example)\n",
        "print(result)"
      ],
      "execution_count": 0,
      "outputs": []
    },
    {
      "cell_type": "code",
      "metadata": {
        "id": "GLl_WRcY3tmt",
        "colab_type": "code",
        "outputId": "89195924-526b-4bcc-ec6b-fc6c98f252cd",
        "colab": {
          "base_uri": "https://localhost:8080/",
          "height": 52
        }
      },
      "source": [
        "!du -lh train.tfrecord\n",
        "!du -sh ./data/train/"
      ],
      "execution_count": 0,
      "outputs": [
        {
          "output_type": "stream",
          "text": [
            "911M\ttrain.tfrecord\n",
            "913M\t./data/train/\n"
          ],
          "name": "stdout"
        }
      ]
    },
    {
      "cell_type": "code",
      "metadata": {
        "id": "C3QcMMXjA1m3",
        "colab_type": "code",
        "outputId": "13b4b4b7-f7b6-45e9-cd59-77a677052cd1",
        "colab": {
          "base_uri": "https://localhost:8080/",
          "height": 52
        }
      },
      "source": [
        "!du -lh test.tfrecord\n",
        "!du -sh ./data/test/"
      ],
      "execution_count": 0,
      "outputs": [
        {
          "output_type": "stream",
          "text": [
            "3.2G\ttest.tfrecord\n",
            "3.2G\t./data/test/\n"
          ],
          "name": "stdout"
        }
      ]
    },
    {
      "cell_type": "markdown",
      "metadata": {
        "id": "VvnwbEyO_tvX",
        "colab_type": "text"
      },
      "source": [
        "## Build dataset "
      ]
    },
    {
      "cell_type": "code",
      "metadata": {
        "id": "3LHNp5RZ8g9K",
        "colab_type": "code",
        "colab": {}
      },
      "source": [
        "def StateFarmDataset(image_size, tfrecord_file, shuffle_buffer_size, batch_size):\n",
        "  img_size = tf.cast(image_size, tf.int32)\n",
        "  \n",
        "  def _parse_function(example):\n",
        "    features = {'label': tf.FixedLenFeature((), tf.int64),\n",
        "                'image': tf.FixedLenFeature((), tf.string),\n",
        "                'height': tf.FixedLenFeature((), tf.int64),\n",
        "                'width': tf.FixedLenFeature((), tf.int64),\n",
        "                'depth': tf.FixedLenFeature((), tf.int64),\n",
        "                'path': tf.FixedLenFeature((), tf.string)}\n",
        "    parsed_features = tf.parse_single_example(example, features)\n",
        "    \n",
        "    # Reconstruct image \n",
        "    image = tf.image.decode_jpeg(parsed_features['image'], 3)\n",
        "    img_shape = tf.stack([tf.cast(parsed_features['height'], tf.int32),\n",
        "                          tf.cast(parsed_features['width'], tf.int32),\n",
        "                          tf.cast(parsed_features['depth'], tf.int32)])\n",
        "    image = tf.reshape(image, img_shape)\n",
        "    \n",
        "    # Normalize the image in the range 0 to 1\n",
        "    image = tf.image.convert_image_dtype(image, tf.float32)\n",
        "    \n",
        "    # Reshape image \n",
        "    image = tf.image.resize(image, [image_size, image_size])\n",
        "        \n",
        "    # One-hot encoding\n",
        "    label = tf.one_hot(parsed_features['label'], 10, dtype=tf.int32)\n",
        "    \n",
        "    return image, label, parsed_features['path']\n",
        "  \n",
        "  dataset = tf.data.TFRecordDataset(tfrecord_file)\n",
        "  dataset = dataset.shuffle(shuffle_buffer_size)\n",
        "  dataset = dataset.map(_parse_function)\n",
        "  \n",
        "  #dataset = dataset.batch(batch_size)\n",
        "  #dataset = dataset.prefetch(1)\n",
        "  \n",
        "  return dataset         "
      ],
      "execution_count": 0,
      "outputs": []
    },
    {
      "cell_type": "code",
      "metadata": {
        "id": "_lZYHZQOFZ7Y",
        "colab_type": "code",
        "outputId": "79d5ac9c-06ed-4ad7-9664-06dbfdc76484",
        "colab": {
          "base_uri": "https://localhost:8080/",
          "height": 34
        }
      },
      "source": [
        "total = 22424\n",
        "dataset = StateFarmDataset(64, \"train.tfrecord\", total, 1)\n",
        "print(dataset)"
      ],
      "execution_count": 19,
      "outputs": [
        {
          "output_type": "stream",
          "text": [
            "<DatasetV1Adapter shapes: ((?, 64, 64, ?), (?, 10), (?,)), types: (tf.float32, tf.int32, tf.string)>\n"
          ],
          "name": "stdout"
        }
      ]
    },
    {
      "cell_type": "code",
      "metadata": {
        "id": "VobVutrvFu33",
        "colab_type": "code",
        "outputId": "6a62a6d6-71f4-42da-f3c5-bacee6071223",
        "colab": {
          "base_uri": "https://localhost:8080/",
          "height": 338
        }
      },
      "source": [
        "def test_normalization(image):\n",
        "  assert image.max() <= 1 and image.min() >= 0,\\\n",
        "        'Incorect Range. {} to {} found'.format(image().min(), image.to_numpy().max())\n",
        "  print(\"Fine.\")\n",
        "    \n",
        "\n",
        "\n",
        "iterator = dataset.make_one_shot_iterator()\n",
        "record = iterator.get_next()\n",
        "with tf.Session() as sess:\n",
        "  img, label, img_path = sess.run(record)\n",
        "  print(\"Label: \", label)\n",
        "  print(\"Img path: \", img_path)\n",
        "  print(\"Img shape: \", img.shape)\n",
        "  test_normalization(img[0])\n",
        "  #print(img)\n",
        "  plt.imshow(img[0])"
      ],
      "execution_count": 20,
      "outputs": [
        {
          "output_type": "stream",
          "text": [
            "Label:  [[1 0 0 0 0 0 0 0 0 0]]\n",
            "Img path:  [b'./data/train/c0/img_9270.jpg']\n",
            "Img shape:  (1, 64, 64, 3)\n",
            "Fine.\n"
          ],
          "name": "stdout"
        },
        {
          "output_type": "display_data",
          "data": {
            "image/png": "[encoded data removed]",
            "text/plain": [
              "<Figure size 432x288 with 1 Axes>"
            ]
          },
          "metadata": {
            "tags": []
          }
        }
      ]
    },
    {
      "cell_type": "code",
      "metadata": {
        "id": "7mwmueSikRfZ",
        "colab_type": "code",
        "outputId": "17ee6273-f41f-4100-87e7-23613f1a7010",
        "colab": {
          "base_uri": "https://localhost:8080/",
          "height": 52
        }
      },
      "source": [
        "\"\"\"\n",
        "def make_iterator(total_imgs=22424, t_size=0.9, v_size=0.1, batch_size=128):\n",
        "  tsize = int(t_size*total_imgs)\n",
        "  vsize = int(v_size*total_imgs)\n",
        "  \n",
        "  dataset = StateFarmDataset(64, \"train.tfrecord\", total, batch_size)\n",
        "  train_data= dataset.take(tsize)\n",
        "  \n",
        "  iterator = tf.data.Iterator.from_structure(output_types=train_data.output_types, output_shapes=train_data.output_shapes)\n",
        "  training_init_op = iterator.make_initializer(train_data)\n",
        "  return iterator, training_init_op\n",
        "\n",
        "\"\"\"  \n",
        "total = 22424\n",
        "tsize = int(0.90*total)\n",
        "vsize = int(0.10*total)\n",
        "batch_size = 128\n",
        "\n",
        "dataset = StateFarmDataset(64, \"train.tfrecord\", total, None)\n",
        "\n",
        "train_data = dataset.take(tsize).batch(batch_size)\n",
        "valid_data = dataset.skip(vsize).batch(batch_size)\n",
        "\n",
        "handle = tf.placeholder(tf.string, shape=[])\n",
        "\n",
        "train_iterator = tf.data.Iterator.from_string_handle(handle, train_data.output_types, train_data.output_shapes)\n",
        "\n",
        "next_elements = valid_iterator.get_next()\n",
        "\n",
        "train_iter = train_data.make_initializable_iterator()\n",
        "valid_iter = valid_data.make_initializable_iterator()\n",
        "\n",
        "\n",
        "print(\"Samples in training: \", tsize, \"Number of trainining mini-batches: \", tsize/batch_size)\n",
        "print(\"Samples in validation: \", vsize, \"Number of validation mini-batches: \", vsize/batch_size)\n",
        "\n",
        "#train_iterator = train_data.make_one_shot_iterator()\n",
        "#valid_iterator = valid_data.make_initializable_iterator()\n",
        "\n",
        "#next_elements = train_iterator.get_next()\n",
        "\n",
        "\n",
        "#features, labels, _ = train_iterator.get_next()\n",
        "#labels = tf.cast(labels, tf.int32)\n",
        "\n",
        "#train_iterator = train_data.make_initializable_iterator()\n",
        "#valid_iterator = valid_data.make_initializable_iterator()\n",
        "\n",
        "#iterator = dataset.make_one_shot_iterator()\n",
        "#features, labels, _ = iterator.get_next()\n",
        "#print(train_data, tsize)\n",
        "#print(valid_data, vsize)"
      ],
      "execution_count": 14,
      "outputs": [
        {
          "output_type": "stream",
          "text": [
            "Samples in training:  20181 Number of trainining mini-batches:  157.6640625\n",
            "Samples in validation:  2242 Number of validation mini-batches:  17.515625\n"
          ],
          "name": "stdout"
        }
      ]
    },
    {
      "cell_type": "markdown",
      "metadata": {
        "id": "49qUeQAFilxG",
        "colab_type": "text"
      },
      "source": [
        "## Build network"
      ]
    },
    {
      "cell_type": "code",
      "metadata": {
        "id": "8Ynlm9ICKblS",
        "colab_type": "code",
        "colab": {}
      },
      "source": [
        "def nn_input(img_shape):\n",
        "  return tf.placeholder(tf.float32, shape=[None, img_shape[0], img_shape[1], img_shape[2]], name=\"x\")\n",
        "\n",
        "def nn_label(n_classes):\n",
        "  return tf.placeholder(tf.float32, shape=[None, n_classes], name='y')\n",
        "\n",
        "def nn_keep_prob():\n",
        "  return tf.placeholder(tf.float32, name='keep_prob')\n",
        "\n",
        "def conv2d_maxpool(x_tensor, outs, conv_ksize, conv_strides, pool_ksize, pool_strides):\n",
        "  weights = tf.Variable(tf.truncated_normal([conv_ksize, conv_ksize, int(x_tensor.shape[3]), outs]))\n",
        "  bias = tf.Variable(tf.zeros([outs]))\n",
        "  \n",
        "  x = tf.nn.conv2d(x_tensor, weights, strides=[1, conv_strides, conv_strides, 1], padding=\"SAME\")\n",
        "  x = tf.nn.bias_add(x, bias)\n",
        "  x = tf.nn.relu(x)\n",
        "  x = tf.nn.max_pool(x, ksize=[1, pool_ksize, pool_ksize, 1], strides=[1, pool_strides, pool_strides, 1], padding=\"SAME\")\n",
        "  return x\n",
        "\n",
        "def flatten(x_tensor):\n",
        "  dimensions = x_tensor.get_shape().as_list()\n",
        "  img_flat_size = dimensions[1] * dimensions[2] * dimensions[3]\n",
        "  return tf.reshape(x_tensor, [-1, img_flat_size])\n",
        "\n",
        "def dense(x_tensor, n_outputs):\n",
        "  weights = tf.Variable(tf.truncated_normal([int(x_tensor.shape[-1]), n_outputs], mean=0.0, stddev=0.1))\n",
        "  bias = tf.Variable(tf.zeros([n_outputs]))\n",
        "  \n",
        "  x = tf.add(tf.matmul(x_tensor, weights), bias)\n",
        "  x = tf.nn.relu(x)\n",
        "  return x\n",
        "\n",
        "def nn_output(x_tensor, n_outputs):\n",
        "  weights = tf.Variable(tf.truncated_normal([int(x_tensor.shape[-1]), n_outputs], mean=0.0, stddev=0.1))\n",
        "  bias = tf.Variable(tf.zeros([n_outputs]))\n",
        "  \n",
        "  x = tf.add(tf.matmul(x_tensor, weights), bias)\n",
        "  return x"
      ],
      "execution_count": 0,
      "outputs": []
    },
    {
      "cell_type": "markdown",
      "metadata": {
        "id": "SMa5bVQ6cwSG",
        "colab_type": "text"
      },
      "source": [
        "### Unit tests"
      ]
    },
    {
      "cell_type": "code",
      "metadata": {
        "id": "uG5ov2thbf8e",
        "colab_type": "code",
        "outputId": "83541201-eda2-44d3-c845-619a667a0128",
        "colab": {
          "base_uri": "https://localhost:8080/",
          "height": 139
        }
      },
      "source": [
        "def test_nn_input(neural_net_image_input):\n",
        "    image_shape = (64, 64, 3)\n",
        "    nn_inputs_out_x = nn_input(image_shape)\n",
        "\n",
        "    assert nn_inputs_out_x.get_shape().as_list() == [None, image_shape[0], image_shape[1], image_shape[2]],\\\n",
        "        'Incorrect Image Shape.  Found {} shape'.format(nn_inputs_out_x.get_shape().as_list())\n",
        "\n",
        "    assert nn_inputs_out_x.op.type == 'Placeholder',\\\n",
        "        'Incorrect Image Type.  Found {} type'.format(nn_inputs_out_x.op.type)\n",
        "\n",
        "    assert nn_inputs_out_x.name == 'x:0', \\\n",
        "        'Incorrect Name.  Found {}'.format(nn_inputs_out_x.name)\n",
        "\n",
        "    print(\"Image input tests passed.\")\n",
        "\n",
        "\n",
        "def test_nn_label(neural_net_label_input):\n",
        "    n_classes = 10\n",
        "    nn_inputs_out_y = nn_label(n_classes)\n",
        "\n",
        "    assert nn_inputs_out_y.get_shape().as_list() == [None, n_classes],\\\n",
        "        'Incorrect Label Shape.  Found {} shape'.format(nn_inputs_out_y.get_shape().as_list())\n",
        "\n",
        "    assert nn_inputs_out_y.op.type == 'Placeholder',\\\n",
        "        'Incorrect Label Type.  Found {} type'.format(nn_inputs_out_y.op.type)\n",
        "\n",
        "    assert nn_inputs_out_y.name == 'y:0', \\\n",
        "        'Incorrect Name.  Found {}'.format(nn_inputs_out_y.name)\n",
        "\n",
        "    print(\"Label input tests passed.\")\n",
        "    \n",
        "def test_nn_keep_prob(neural_net_keep_prob_input):\n",
        "    nn_inputs_out_k = nn_keep_prob()\n",
        "\n",
        "    assert nn_inputs_out_k.get_shape().ndims is None,\\\n",
        "        'Too many dimensions found for keep prob.  Found {} dimensions.  It should be a scalar (0-Dimension Tensor).'.format(nn_inputs_out_k.get_shape().ndims)\n",
        "\n",
        "    assert nn_inputs_out_k.op.type == 'Placeholder',\\\n",
        "        'Incorrect keep prob Type.  Found {} type'.format(nn_inputs_out_k.op.type)\n",
        "\n",
        "    assert nn_inputs_out_k.name == 'keep_prob:0', \\\n",
        "        'Incorrect Name.  Found {}'.format(nn_inputs_out_k.name)\n",
        "    \n",
        "    print(\"Keep prob tests passed.\")\n",
        "    \n",
        "def test_conv2d_maxpool(conv2d_maxpool):\n",
        "    test_x = tf.placeholder(tf.float32, [None, 64, 64, 5])\n",
        "    test_num_outputs = 10\n",
        "    test_con_k = 2\n",
        "    test_con_s = 4\n",
        "    test_pool_k = 2\n",
        "    test_pool_s = 2\n",
        "\n",
        "    conv2d_maxpool_out = conv2d_maxpool(test_x, test_num_outputs, test_con_k, test_con_s, test_pool_k, test_pool_s)\n",
        "\n",
        "    assert conv2d_maxpool_out.get_shape().as_list() == [None, 8, 8, 10],\\\n",
        "        'Incorrect Shape.  Found {} shape'.format(conv2d_maxpool_out.get_shape().as_list())\n",
        "\n",
        "    print(\"Conv layer test passed.\")\n",
        "    \n",
        "def test_flatten(flatten):\n",
        "    test_x = tf.placeholder(tf.float32, [None, 10, 30, 6])\n",
        "    flat_out = flatten(test_x)\n",
        "\n",
        "    assert flat_out.get_shape().as_list() == [None, 10*30*6],\\\n",
        "        'Incorrect Shape.  Found {} shape'.format(flat_out.get_shape().as_list())\n",
        "\n",
        "    print(\"Flatten test passed.\")\n",
        "    \n",
        "def test_dense(fully_conn):\n",
        "    test_x = tf.placeholder(tf.float32, [None, 128])\n",
        "    test_num_outputs = 40\n",
        "\n",
        "    fc_out = fully_conn(test_x, test_num_outputs)\n",
        "\n",
        "    assert fc_out.get_shape().as_list() == [None, 40],\\\n",
        "        'Incorrect Shape.  Found {} shape'.format(fc_out.get_shape().as_list())\n",
        "\n",
        "    print(\"Dense layer test passed.\")\n",
        "\n",
        "\n",
        "def test_output(output):\n",
        "    test_x = tf.placeholder(tf.float32, [None, 128])\n",
        "    test_num_outputs = 40\n",
        "\n",
        "    output_out = output(test_x, test_num_outputs)\n",
        "\n",
        "    assert output_out.get_shape().as_list() == [None, 40],\\\n",
        "        'Incorrect Shape.  Found {} shape'.format(output_out.get_shape().as_list())\n",
        "\n",
        "    print(\"Output test passed\")\n",
        "\n",
        "    \n",
        "tf.reset_default_graph() \n",
        "\n",
        "test_nn_input(nn_input)\n",
        "test_nn_label(nn_label)\n",
        "test_nn_keep_prob(nn_keep_prob)\n",
        "test_conv2d_maxpool(conv2d_maxpool)\n",
        "test_flatten(flatten)\n",
        "test_dense(dense)\n",
        "test_output(nn_output)"
      ],
      "execution_count": 0,
      "outputs": [
        {
          "output_type": "stream",
          "text": [
            "Image input tests passed.\n",
            "Label input tests passed.\n",
            "Keep prob tests passed.\n",
            "Conv layer test passed.\n",
            "Flatten test passed.\n",
            "Dense layer test passed.\n",
            "Output test passed\n"
          ],
          "name": "stdout"
        }
      ]
    },
    {
      "cell_type": "code",
      "metadata": {
        "id": "IqvHqNlk0Msl",
        "colab_type": "code",
        "colab": {}
      },
      "source": [
        "def model(x, keep_prob):\n",
        "  conv1 = conv2d_maxpool(x, 128, 3, 1, pool_ksize=2, pool_strides=2)\n",
        "  conv2 = conv2d_maxpool(conv1, 64, 3, 1, pool_ksize=2, pool_strides=2)\n",
        "  conv3 = conv2d_maxpool(conv2, 32, 3, 1, pool_ksize=2, pool_strides=2)\n",
        "  conv4 = conv2d_maxpool(conv3, 16, 3, 1, pool_ksize=2, pool_strides=2)\n",
        "  \n",
        "  fc1 = flatten(conv4)\n",
        "  fc1 = dense(fc1, 1024)\n",
        "  #fc1 = tf.nn.dropout(fc1, keep_prob)\n",
        "  \n",
        "  #fc2 = dense(fc1, 512)\n",
        "  #fc2 = tf.nn.dropout(fc2, keep_prob)\n",
        "  \n",
        "  out = nn_output(fc1, 10)\n",
        "  return out \n",
        "\n",
        "#tf.reset_default_graph()\n",
        "\n",
        "x = nn_input((64, 64, 3))\n",
        "y = nn_label(10)\n",
        "keep_prob = nn_keep_prob()\n",
        "\n",
        "logits = model(x, keep_prob)\n",
        "logits = tf.identity(logits, name=\"logits\")\n",
        "\n",
        "cost = tf.reduce_mean(tf.nn.softmax_cross_entropy_with_logits_v2(logits=logits, labels=y))\n",
        "optimizer = tf.train.AdamOptimizer().minimize(cost)\n",
        "\n",
        "correct_pred = tf.equal(tf.argmax(logits, 1), tf.argmax(y, 1))\n",
        "accuracy = tf.reduce_mean(tf.cast(correct_pred, tf.float32), name=\"accuracy\")"
      ],
      "execution_count": 0,
      "outputs": []
    },
    {
      "cell_type": "code",
      "metadata": {
        "id": "gU3sqXQrhS82",
        "colab_type": "code",
        "outputId": "acd52844-95cc-46fa-8cf5-96cec2b52aa9",
        "colab": {
          "base_uri": "https://localhost:8080/",
          "height": 34
        }
      },
      "source": [
        "def test_model(model):\n",
        "    test_x = tf.placeholder(tf.float32, [None, 64, 64, 3])\n",
        "    test_k = tf.placeholder(tf.float32)\n",
        "\n",
        "    logits_out = model(test_x, test_k)\n",
        "\n",
        "    assert logits_out.get_shape().as_list() == [None, 10],\\\n",
        "        'Incorrect Model Output.  Found {}'.format(logits_out.get_shape().as_list())\n",
        "\n",
        "    print(\"Model test passed.\")\n",
        "    \n",
        "test_model(model)"
      ],
      "execution_count": 22,
      "outputs": [
        {
          "output_type": "stream",
          "text": [
            "Model test passed.\n"
          ],
          "name": "stdout"
        }
      ]
    },
    {
      "cell_type": "markdown",
      "metadata": {
        "id": "9DhpKlR55t88",
        "colab_type": "text"
      },
      "source": [
        "## Train"
      ]
    },
    {
      "cell_type": "code",
      "metadata": {
        "id": "IG3a7xeVlGIi",
        "colab_type": "code",
        "outputId": "f815ae72-f81a-42f6-a4c3-0ad483d14875",
        "colab": {
          "base_uri": "https://localhost:8080/",
          "height": 34
        }
      },
      "source": [
        "if not tf.test.gpu_device_name():\n",
        "  print(\"You don't have the GPU activated\")\n",
        "else:\n",
        "  print('Default GPU Device: {}'.format(tf.test.gpu_device_name()))"
      ],
      "execution_count": 8,
      "outputs": [
        {
          "output_type": "stream",
          "text": [
            "You don't have the GPU activated\n"
          ],
          "name": "stdout"
        }
      ]
    },
    {
      "cell_type": "markdown",
      "metadata": {
        "id": "VJf8zWtV5y_I",
        "colab_type": "text"
      },
      "source": [
        "### Single optimization"
      ]
    },
    {
      "cell_type": "code",
      "metadata": {
        "id": "drIDmI3Z3fB-",
        "colab_type": "code",
        "colab": {}
      },
      "source": [
        "def train_nn(session, optimizer, keep_probability, feature_batch, label_batch):\n",
        "  return session.run(optimizer, feed_dict={x:feature_batch, y:label_batch, keep_prob:keep_probability})\n",
        "\n",
        "def print_stats(session, feature_batch, label_batch, cost, accuracy):\n",
        "  loss = sess.run(cost, feed_dict={x:feature_batch, y:label_batch, keep_prob:1.})\n",
        "  \n",
        "  valid_acc = sess.run(accuracy, feed_dict={x:feature_batch, y:label_batch, keep_prob:1.})\n",
        "  print(\"Loss: {:>10.4f} Accuracy: {:.6f}\".format(loss, valid_acc))\n",
        "  return None"
      ],
      "execution_count": 0,
      "outputs": []
    },
    {
      "cell_type": "code",
      "metadata": {
        "id": "LvA7VA2_i7Ql",
        "colab_type": "code",
        "outputId": "7667e2d9-c939-4004-f030-5bcb60f203b9",
        "colab": {
          "base_uri": "https://localhost:8080/",
          "height": 34
        }
      },
      "source": [
        "from unittest.mock import MagicMock\n",
        "\n",
        "def test_train_nn(train_neural_network):\n",
        "    mock_session = tf.Session()\n",
        "    test_x = np.random.rand(128, 64, 64, 3)\n",
        "    test_y = np.random.rand(128, 10)\n",
        "    test_k = np.random.rand(1)\n",
        "    test_optimizer = tf.train.AdamOptimizer()\n",
        "\n",
        "    mock_session.run = MagicMock()\n",
        "    train_neural_network(mock_session, test_optimizer, test_k, test_x, test_y)\n",
        "\n",
        "    assert mock_session.run.called, 'Session not used'\n",
        "\n",
        "    print(\"Training test passed.\")\n",
        "    \n",
        "test_train_nn(train_nn)"
      ],
      "execution_count": 30,
      "outputs": [
        {
          "output_type": "stream",
          "text": [
            "Training test passed.\n"
          ],
          "name": "stdout"
        }
      ]
    },
    {
      "cell_type": "code",
      "metadata": {
        "id": "9ZyW-sMz7kH6",
        "colab_type": "code",
        "colab": {}
      },
      "source": [
        "epochs = 10 \n",
        "keep_probability = 0.2"
      ],
      "execution_count": 0,
      "outputs": []
    },
    {
      "cell_type": "code",
      "metadata": {
        "id": "hffgzEaURhp9",
        "colab_type": "code",
        "outputId": "5eb0fb14-309d-41e5-bf98-e1ae555677fd",
        "colab": {
          "base_uri": "https://localhost:8080/",
          "height": 2952
        }
      },
      "source": [
        "print(\"Checking training on a single batch... \")\n",
        "\n",
        "#handle = tf.placeholder(tf.string, shape=[])\n",
        "with tf.Session() as sess:\n",
        "  sess.run(tf.global_variables_initializer())\n",
        "  \n",
        "  train_handle = sess.run(train_iter.string_handle())\n",
        "  valid_handle = sess.run(valid_iter.string_handle())\n",
        "  \n",
        "  sess.run(valid_iter.initializer)\n",
        "  sess.run(train_iter.initializer)\n",
        "  \n",
        "  for epoch in range(epochs):\n",
        "    batch_i = 1\n",
        "    min_batch = 0\n",
        "    try:\n",
        "      while True:\n",
        "        features, labels, _ = sess.run(next_elements1, feed_dict ={handle1: train_handle})    \n",
        "        train_nn(sess, optimizer, keep_probability, features, labels)\n",
        "        print('Epoch {:>2}, Batch {}:  '.format(epoch + 1, batch_i), end='')\n",
        "        print_stats(sess, features, labels, cost, accuracy)\n",
        "        min_batch += 1\n",
        "    except tf.errors.OutOfRangeError:\n",
        "      pass\n",
        "    print(min_batch) # should return 158\n",
        "  \n",
        "  #x,y, _ = sess.run(next_elements, feed_dict = {handle: train_handle})\n",
        "  #print(x.shape)\n",
        "  #print(\"Training\")\n",
        "  #print(x[0], y[0])\n",
        "  #break\n",
        "  #x1, y2, _ = sess.run(next_elements, feed_dict = {handle: valid_handle})\n",
        "  #print(\"Valid\")\n",
        "  #print(x1[0], y2[0])"
      ],
      "execution_count": 25,
      "outputs": [
        {
          "output_type": "stream",
          "text": [
            "Checking training on a single batch... \n",
            "Epoch  1, Batch 1:  Loss: 30895.8867 Accuracy: 0.164062\n",
            "Epoch  1, Batch 1:  Loss: 32500.1074 Accuracy: 0.148438\n",
            "Epoch  1, Batch 1:  Loss: 34314.8438 Accuracy: 0.101562\n",
            "Epoch  1, Batch 1:  Loss: 30076.6289 Accuracy: 0.109375\n",
            "Epoch  1, Batch 1:  Loss: 28660.2344 Accuracy: 0.070312\n",
            "Epoch  1, Batch 1:  Loss: 22638.9258 Accuracy: 0.117188\n",
            "Epoch  1, Batch 1:  Loss: 21014.5215 Accuracy: 0.132812\n",
            "Epoch  1, Batch 1:  Loss: 16103.7051 Accuracy: 0.187500\n",
            "Epoch  1, Batch 1:  Loss: 16626.7324 Accuracy: 0.171875\n",
            "Epoch  1, Batch 1:  Loss: 15914.1719 Accuracy: 0.125000\n",
            "Epoch  1, Batch 1:  Loss: 11709.0723 Accuracy: 0.179688\n",
            "Epoch  1, Batch 1:  Loss: 11642.9414 Accuracy: 0.132812\n",
            "Epoch  1, Batch 1:  Loss:  8758.2568 Accuracy: 0.187500\n",
            "Epoch  1, Batch 1:  Loss:  7411.7930 Accuracy: 0.132812\n",
            "Epoch  1, Batch 1:  Loss:  7970.1709 Accuracy: 0.187500\n",
            "Epoch  1, Batch 1:  Loss:  7310.9751 Accuracy: 0.156250\n",
            "Epoch  1, Batch 1:  Loss:  8808.0068 Accuracy: 0.132812\n",
            "Epoch  1, Batch 1:  Loss:  8947.6436 Accuracy: 0.187500\n",
            "Epoch  1, Batch 1:  Loss:  8911.4600 Accuracy: 0.179688\n",
            "Epoch  1, Batch 1:  Loss:  7224.0532 Accuracy: 0.179688\n",
            "Epoch  1, Batch 1:  Loss:  6612.0942 Accuracy: 0.179688\n",
            "Epoch  1, Batch 1:  Loss:  4632.3110 Accuracy: 0.257812\n",
            "Epoch  1, Batch 1:  Loss:  5193.2788 Accuracy: 0.203125\n",
            "Epoch  1, Batch 1:  Loss:  4618.1904 Accuracy: 0.156250\n",
            "Epoch  1, Batch 1:  Loss:  4961.9883 Accuracy: 0.101562\n",
            "Epoch  1, Batch 1:  Loss:  5411.4844 Accuracy: 0.140625\n",
            "Epoch  1, Batch 1:  Loss:  4692.0098 Accuracy: 0.148438\n",
            "Epoch  1, Batch 1:  Loss:  4881.6748 Accuracy: 0.164062\n",
            "Epoch  1, Batch 1:  Loss:  3245.5190 Accuracy: 0.218750\n",
            "Epoch  1, Batch 1:  Loss:  3729.9507 Accuracy: 0.226562\n",
            "Epoch  1, Batch 1:  Loss:  3394.3433 Accuracy: 0.218750\n",
            "Epoch  1, Batch 1:  Loss:  3599.2510 Accuracy: 0.195312\n",
            "Epoch  1, Batch 1:  Loss:  3873.5754 Accuracy: 0.218750\n",
            "Epoch  1, Batch 1:  Loss:  4377.1924 Accuracy: 0.203125\n",
            "Epoch  1, Batch 1:  Loss:  3595.6177 Accuracy: 0.226562\n",
            "Epoch  1, Batch 1:  Loss:  3146.9302 Accuracy: 0.210938\n",
            "Epoch  1, Batch 1:  Loss:  2772.0251 Accuracy: 0.210938\n",
            "Epoch  1, Batch 1:  Loss:  3189.6687 Accuracy: 0.187500\n",
            "Epoch  1, Batch 1:  Loss:  2873.1372 Accuracy: 0.218750\n",
            "Epoch  1, Batch 1:  Loss:  2884.9563 Accuracy: 0.273438\n",
            "Epoch  1, Batch 1:  Loss:  3005.2100 Accuracy: 0.226562\n",
            "Epoch  1, Batch 1:  Loss:  3034.7627 Accuracy: 0.242188\n",
            "Epoch  1, Batch 1:  Loss:  2559.5259 Accuracy: 0.304688\n",
            "Epoch  1, Batch 1:  Loss:  2751.6572 Accuracy: 0.273438\n",
            "Epoch  1, Batch 1:  Loss:  2564.4875 Accuracy: 0.281250\n",
            "Epoch  1, Batch 1:  Loss:  2216.5195 Accuracy: 0.296875\n",
            "Epoch  1, Batch 1:  Loss:  2355.7344 Accuracy: 0.265625\n",
            "Epoch  1, Batch 1:  Loss:  2933.6079 Accuracy: 0.210938\n",
            "Epoch  1, Batch 1:  Loss:  2780.7656 Accuracy: 0.250000\n",
            "Epoch  1, Batch 1:  Loss:  2472.1284 Accuracy: 0.312500\n",
            "Epoch  1, Batch 1:  Loss:  2067.9392 Accuracy: 0.320312\n",
            "Epoch  1, Batch 1:  Loss:  1975.0569 Accuracy: 0.273438\n",
            "Epoch  1, Batch 1:  Loss:  2006.9541 Accuracy: 0.312500\n",
            "Epoch  1, Batch 1:  Loss:  2709.0068 Accuracy: 0.242188\n",
            "Epoch  1, Batch 1:  Loss:  2221.1189 Accuracy: 0.312500\n",
            "Epoch  1, Batch 1:  Loss:  2215.0029 Accuracy: 0.304688\n",
            "Epoch  1, Batch 1:  Loss:  1972.0039 Accuracy: 0.242188\n",
            "Epoch  1, Batch 1:  Loss:  1923.4287 Accuracy: 0.335938\n",
            "Epoch  1, Batch 1:  Loss:  2178.2839 Accuracy: 0.289062\n",
            "Epoch  1, Batch 1:  Loss:  1826.7845 Accuracy: 0.335938\n",
            "Epoch  1, Batch 1:  Loss:  1891.9929 Accuracy: 0.359375\n",
            "Epoch  1, Batch 1:  Loss:  1881.0903 Accuracy: 0.281250\n",
            "Epoch  1, Batch 1:  Loss:  2145.5200 Accuracy: 0.242188\n",
            "Epoch  1, Batch 1:  Loss:  1794.4094 Accuracy: 0.351562\n",
            "Epoch  1, Batch 1:  Loss:  2074.5374 Accuracy: 0.281250\n",
            "Epoch  1, Batch 1:  Loss:  1910.5358 Accuracy: 0.351562\n",
            "Epoch  1, Batch 1:  Loss:  1727.8687 Accuracy: 0.320312\n",
            "Epoch  1, Batch 1:  Loss:  1949.5847 Accuracy: 0.359375\n",
            "Epoch  1, Batch 1:  Loss:  2047.5468 Accuracy: 0.281250\n",
            "Epoch  1, Batch 1:  Loss:  1500.1873 Accuracy: 0.351562\n",
            "Epoch  1, Batch 1:  Loss:  1802.7954 Accuracy: 0.351562\n",
            "Epoch  1, Batch 1:  Loss:  2025.6300 Accuracy: 0.289062\n",
            "Epoch  1, Batch 1:  Loss:  1878.6354 Accuracy: 0.320312\n",
            "Epoch  1, Batch 1:  Loss:  1500.6987 Accuracy: 0.390625\n",
            "Epoch  1, Batch 1:  Loss:  1689.4390 Accuracy: 0.351562\n",
            "Epoch  1, Batch 1:  Loss:  1622.2432 Accuracy: 0.328125\n",
            "Epoch  1, Batch 1:  Loss:  1507.6887 Accuracy: 0.375000\n",
            "Epoch  1, Batch 1:  Loss:  1494.9656 Accuracy: 0.351562\n",
            "Epoch  1, Batch 1:  Loss:  1610.8320 Accuracy: 0.343750\n",
            "Epoch  1, Batch 1:  Loss:  1320.0084 Accuracy: 0.390625\n",
            "Epoch  1, Batch 1:  Loss:  1569.6880 Accuracy: 0.390625\n",
            "Epoch  1, Batch 1:  Loss:  1297.8613 Accuracy: 0.359375\n",
            "Epoch  1, Batch 1:  Loss:  1321.0251 Accuracy: 0.429688\n",
            "Epoch  1, Batch 1:  Loss:  1784.3048 Accuracy: 0.320312\n",
            "Epoch  1, Batch 1:  Loss:  1152.4978 Accuracy: 0.453125\n",
            "Epoch  1, Batch 1:  Loss:  1071.4331 Accuracy: 0.460938\n",
            "Epoch  1, Batch 1:  Loss:  1338.2830 Accuracy: 0.398438\n",
            "Epoch  1, Batch 1:  Loss:  1291.8885 Accuracy: 0.429688\n",
            "Epoch  1, Batch 1:  Loss:  1085.0758 Accuracy: 0.468750\n",
            "Epoch  1, Batch 1:  Loss:   989.9708 Accuracy: 0.523438\n",
            "Epoch  1, Batch 1:  Loss:  1216.5392 Accuracy: 0.398438\n",
            "Epoch  1, Batch 1:  Loss:   985.0565 Accuracy: 0.437500\n",
            "Epoch  1, Batch 1:  Loss:  1005.7692 Accuracy: 0.445312\n",
            "Epoch  1, Batch 1:  Loss:  1002.8879 Accuracy: 0.476562\n",
            "Epoch  1, Batch 1:  Loss:  1347.6865 Accuracy: 0.351562\n",
            "Epoch  1, Batch 1:  Loss:  1212.9707 Accuracy: 0.445312\n",
            "Epoch  1, Batch 1:  Loss:  1209.6033 Accuracy: 0.359375\n",
            "Epoch  1, Batch 1:  Loss:  1183.7288 Accuracy: 0.414062\n",
            "Epoch  1, Batch 1:  Loss:  1294.4860 Accuracy: 0.460938\n",
            "Epoch  1, Batch 1:  Loss:  1432.3389 Accuracy: 0.375000\n",
            "Epoch  1, Batch 1:  Loss:  1229.2864 Accuracy: 0.453125\n",
            "Epoch  1, Batch 1:  Loss:  1086.3312 Accuracy: 0.484375\n",
            "Epoch  1, Batch 1:  Loss:  1189.4666 Accuracy: 0.421875\n",
            "Epoch  1, Batch 1:  Loss:  1352.8906 Accuracy: 0.429688\n",
            "Epoch  1, Batch 1:  Loss:  1084.4187 Accuracy: 0.382812\n",
            "Epoch  1, Batch 1:  Loss:   918.8830 Accuracy: 0.460938\n",
            "Epoch  1, Batch 1:  Loss:  1215.2561 Accuracy: 0.437500\n",
            "Epoch  1, Batch 1:  Loss:  1126.9255 Accuracy: 0.453125\n",
            "Epoch  1, Batch 1:  Loss:  1029.1334 Accuracy: 0.507812\n",
            "Epoch  1, Batch 1:  Loss:   966.4905 Accuracy: 0.484375\n",
            "Epoch  1, Batch 1:  Loss:   921.4495 Accuracy: 0.453125\n",
            "Epoch  1, Batch 1:  Loss:   843.9136 Accuracy: 0.546875\n",
            "Epoch  1, Batch 1:  Loss:  1182.1633 Accuracy: 0.437500\n",
            "Epoch  1, Batch 1:  Loss:   989.4656 Accuracy: 0.515625\n",
            "Epoch  1, Batch 1:  Loss:  1007.2823 Accuracy: 0.460938\n",
            "Epoch  1, Batch 1:  Loss:   996.0891 Accuracy: 0.453125\n",
            "Epoch  1, Batch 1:  Loss:   911.8096 Accuracy: 0.515625\n",
            "Epoch  1, Batch 1:  Loss:   869.0994 Accuracy: 0.531250\n",
            "Epoch  1, Batch 1:  Loss:   788.9087 Accuracy: 0.460938\n",
            "Epoch  1, Batch 1:  Loss:  1258.5022 Accuracy: 0.453125\n",
            "Epoch  1, Batch 1:  Loss:   754.3784 Accuracy: 0.531250\n",
            "Epoch  1, Batch 1:  Loss:   850.8030 Accuracy: 0.468750\n",
            "Epoch  1, Batch 1:  Loss:   838.7515 Accuracy: 0.546875\n",
            "Epoch  1, Batch 1:  Loss:   758.6765 Accuracy: 0.609375\n",
            "Epoch  1, Batch 1:  Loss:  1143.6041 Accuracy: 0.382812\n",
            "Epoch  1, Batch 1:  Loss:   957.7495 Accuracy: 0.507812\n",
            "Epoch  1, Batch 1:  Loss:   716.3472 Accuracy: 0.562500\n",
            "Epoch  1, Batch 1:  Loss:   975.9023 Accuracy: 0.476562\n",
            "Epoch  1, Batch 1:  Loss:  1115.7758 Accuracy: 0.523438\n",
            "Epoch  1, Batch 1:  Loss:  1000.0706 Accuracy: 0.523438\n",
            "Epoch  1, Batch 1:  Loss:  1012.5327 Accuracy: 0.500000\n",
            "Epoch  1, Batch 1:  Loss:   564.7622 Accuracy: 0.625000\n",
            "Epoch  1, Batch 1:  Loss:   745.8964 Accuracy: 0.476562\n",
            "Epoch  1, Batch 1:  Loss:   987.7643 Accuracy: 0.500000\n",
            "Epoch  1, Batch 1:  Loss:   949.9707 Accuracy: 0.437500\n",
            "Epoch  1, Batch 1:  Loss:   660.6965 Accuracy: 0.539062\n",
            "Epoch  1, Batch 1:  Loss:  1007.3698 Accuracy: 0.468750\n",
            "Epoch  1, Batch 1:  Loss:   981.6965 Accuracy: 0.515625\n",
            "Epoch  1, Batch 1:  Loss:   816.0607 Accuracy: 0.507812\n",
            "Epoch  1, Batch 1:  Loss:   902.8391 Accuracy: 0.578125\n",
            "Epoch  1, Batch 1:  Loss:   948.0021 Accuracy: 0.484375\n",
            "Epoch  1, Batch 1:  Loss:   887.2581 Accuracy: 0.546875\n",
            "Epoch  1, Batch 1:  Loss:   803.2402 Accuracy: 0.476562\n",
            "Epoch  1, Batch 1:  Loss:   948.3967 Accuracy: 0.507812\n",
            "Epoch  1, Batch 1:  Loss:   830.2616 Accuracy: 0.492188\n",
            "Epoch  1, Batch 1:  Loss:   928.7095 Accuracy: 0.523438\n",
            "Epoch  1, Batch 1:  Loss:   912.8343 Accuracy: 0.546875\n",
            "Epoch  1, Batch 1:  Loss:   744.2770 Accuracy: 0.515625\n",
            "Epoch  1, Batch 1:  Loss:   670.1764 Accuracy: 0.539062\n",
            "Epoch  1, Batch 1:  Loss:   879.2830 Accuracy: 0.492188\n",
            "Epoch  1, Batch 1:  Loss:   745.6643 Accuracy: 0.476562\n",
            "Epoch  1, Batch 1:  Loss:   864.2147 Accuracy: 0.523438\n",
            "Epoch  1, Batch 1:  Loss:   640.9138 Accuracy: 0.554688\n",
            "Epoch  1, Batch 1:  Loss:   748.2302 Accuracy: 0.492188\n",
            "Epoch  1, Batch 1:  Loss:   758.4003 Accuracy: 0.585938\n",
            "Epoch  1, Batch 1:  Loss:   808.4469 Accuracy: 0.570312\n",
            "Epoch  1, Batch 1:  Loss:   606.5471 Accuracy: 0.578125\n",
            "Epoch  1, Batch 1:  Loss:   631.8792 Accuracy: 0.647059\n",
            "158\n",
            "0\n",
            "0\n",
            "0\n",
            "0\n",
            "0\n",
            "0\n",
            "0\n",
            "0\n",
            "0\n"
          ],
          "name": "stdout"
        }
      ]
    },
    {
      "cell_type": "code",
      "metadata": {
        "id": "cw-Cv3R4CmyN",
        "colab_type": "code",
        "colab": {}
      },
      "source": [
        ""
      ],
      "execution_count": 0,
      "outputs": []
    }
  ]
}