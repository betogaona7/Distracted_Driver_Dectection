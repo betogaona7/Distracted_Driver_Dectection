{
  "nbformat": 4,
  "nbformat_minor": 0,
  "metadata": {
    "colab": {
      "name": "Distracted.ipynb",
      "version": "0.3.2",
      "provenance": [],
      "collapsed_sections": []
    },
    "kernelspec": {
      "name": "python3",
      "display_name": "Python 3"
    }
  },
  "cells": [
    {
      "cell_type": "markdown",
      "metadata": {
        "id": "LHHZJUxGa08N",
        "colab_type": "text"
      },
      "source": [
        "## Connect with Drive"
      ]
    },
    {
      "cell_type": "code",
      "metadata": {
        "id": "Uq5bdOPEakdN",
        "colab_type": "code",
        "colab": {}
      },
      "source": [
        "from google.colab import drive\n",
        "drive.mount(\"/betogaona7\")"
      ],
      "execution_count": 0,
      "outputs": []
    },
    {
      "cell_type": "code",
      "metadata": {
        "id": "YmNyou92atnI",
        "colab_type": "code",
        "colab": {
          "base_uri": "https://localhost:8080/",
          "height": 34
        },
        "outputId": "faff5804-a971-4f09-b01f-b58958d7b0ce"
      },
      "source": [
        "%cd ./../betogaona7/My\\ Drive/app/Distracted"
      ],
      "execution_count": 2,
      "outputs": [
        {
          "output_type": "stream",
          "text": [
            "/betogaona7/My Drive/app/Distracted\n"
          ],
          "name": "stdout"
        }
      ]
    },
    {
      "cell_type": "markdown",
      "metadata": {
        "id": "wh7fTEx2bC32",
        "colab_type": "text"
      },
      "source": [
        "## Imports "
      ]
    },
    {
      "cell_type": "code",
      "metadata": {
        "id": "lL2NkIhYbA0B",
        "colab_type": "code",
        "colab": {}
      },
      "source": [
        "import os \n",
        "import random\n",
        "from PIL import Image \n",
        "import numpy as np\n",
        "import matplotlib.pyplot as plt\n",
        "import csv\n",
        "import scipy \n",
        "\n",
        "import tensorflow as tf"
      ],
      "execution_count": 0,
      "outputs": []
    },
    {
      "cell_type": "markdown",
      "metadata": {
        "id": "5jSWxOnbbFSn",
        "colab_type": "text"
      },
      "source": [
        "## Create train and validation TFRecord files"
      ]
    },
    {
      "cell_type": "code",
      "metadata": {
        "id": "ugDfG9V2lT9n",
        "colab_type": "code",
        "colab": {}
      },
      "source": [
        "def imgs_with_labels(src):\n",
        "  data = []\n",
        "  total = 0\n",
        "  for path, subdir, files in os.walk(src):\n",
        "    for file in files:\n",
        "      if file[-3:] == 'jpg': \n",
        "        data.append((os.path.join(path, file), path[-1:]))\n",
        "      total += 1\n",
        "  return data, total\n",
        "\n",
        "data, total = imgs_with_labels(\"./data/test/\")"
      ],
      "execution_count": 0,
      "outputs": []
    },
    {
      "cell_type": "code",
      "metadata": {
        "id": "owYTFog5vigm",
        "colab_type": "code",
        "colab": {}
      },
      "source": [
        "print(total)\n",
        "img_path, label = data[random.randint(0, total)]\n",
        "print(\"img: \", img_path, \" label: \", label, \" total: \", total )"
      ],
      "execution_count": 0,
      "outputs": []
    },
    {
      "cell_type": "code",
      "metadata": {
        "id": "Oi84VKBor1ld",
        "colab_type": "code",
        "colab": {}
      },
      "source": [
        "print(data[:10])\n",
        "random.shuffle(data)\n",
        "print(data[:10])"
      ],
      "execution_count": 0,
      "outputs": []
    },
    {
      "cell_type": "code",
      "metadata": {
        "id": "iTWaqSYzrkWc",
        "colab_type": "code",
        "colab": {}
      },
      "source": [
        "total = 22424\n",
        "\n",
        "tsize = int(0.8*total)+1\n",
        "vsize = int(0.2*total)\n",
        "\n",
        "train_data = data[:tsize]\n",
        "valid_data = data[-vsize:]\n",
        "\n",
        "print(len(train_data), len(valid_data), tsize+vsize)\n",
        "print(train_data[-10:])\n",
        "print(valid_data[:10])"
      ],
      "execution_count": 0,
      "outputs": []
    },
    {
      "cell_type": "code",
      "metadata": {
        "id": "IQSp7kjKl_xI",
        "colab_type": "code",
        "colab": {}
      },
      "source": [
        "def _bytes_feature(value):\n",
        "  return tf.train.Feature(bytes_list=tf.train.BytesList(value=[value]))\n",
        "\n",
        "def _int64_feature(value):\n",
        "  return tf.train.Feature(int64_list=tf.train.Int64List(value=[value]))\n",
        "\n",
        "def create_tf_record(tfr_name, data):\n",
        "  writer = tf.python_io.TFRecordWriter(tfr_name)\n",
        "  i = 1\n",
        "  for img_path, img_class in data:\n",
        "    img = np.array(Image.open(img_path))\n",
        "\n",
        "    img_raw = open(img_path, 'rb').read()\n",
        "    label = int(img_class)\n",
        "    path = str.encode(img_path)\n",
        "\n",
        "    example = tf.train.Example(features=tf.train.Features(feature={\n",
        "        'image': _bytes_feature(img_raw),\n",
        "        'label': _int64_feature(label),\n",
        "        'height': _int64_feature(img.shape[0]),\n",
        "        'width': _int64_feature(img.shape[1]),\n",
        "        'depth': _int64_feature(img.shape[2]),\n",
        "        'path': _bytes_feature(path) }))\n",
        "    writer.write(example.SerializeToString())\n",
        "    if(i%100 == 0):\n",
        "        print(i)\n",
        "    i+= 1\n",
        "  writer.close()\n",
        "  \n",
        "#create_tf_record(\"train2.tfrecord\", train_data)\n",
        "#create_tf_record(\"valid2.tfrecord\", valid_data)\n"
      ],
      "execution_count": 0,
      "outputs": []
    },
    {
      "cell_type": "code",
      "metadata": {
        "id": "RqsWpGPNupua",
        "colab_type": "code",
        "colab": {}
      },
      "source": [
        "for example in tf.python_io.tf_record_iterator(\"test.tfrecord\"):\n",
        "  result = tf.train.Example.FromString(example)\n",
        "print(result)"
      ],
      "execution_count": 0,
      "outputs": []
    },
    {
      "cell_type": "code",
      "metadata": {
        "id": "GLl_WRcY3tmt",
        "colab_type": "code",
        "outputId": "87e3df2d-2f4d-4fbd-e76f-42c334717001",
        "colab": {
          "base_uri": "https://localhost:8080/",
          "height": 69
        }
      },
      "source": [
        "!du -lh valid.tfrecord\n",
        "!du -lh train.tfrecord\n",
        "!du -sh ./data/train/"
      ],
      "execution_count": 0,
      "outputs": [
        {
          "output_type": "stream",
          "text": [
            "91M\tvalid.tfrecord\n",
            "820M\ttrain.tfrecord\n",
            "913M\t./data/train/\n"
          ],
          "name": "stdout"
        }
      ]
    },
    {
      "cell_type": "code",
      "metadata": {
        "id": "C3QcMMXjA1m3",
        "colab_type": "code",
        "outputId": "ae5d85ba-00a8-42f3-8b4f-8a19c5178cb8",
        "colab": {
          "base_uri": "https://localhost:8080/",
          "height": 34
        }
      },
      "source": [
        "!du -lh test.tfrecord"
      ],
      "execution_count": 0,
      "outputs": [
        {
          "output_type": "stream",
          "text": [
            "3.2G\ttest.tfrecord\n"
          ],
          "name": "stdout"
        }
      ]
    },
    {
      "cell_type": "markdown",
      "metadata": {
        "id": "VvnwbEyO_tvX",
        "colab_type": "text"
      },
      "source": [
        "## Dataset "
      ]
    },
    {
      "cell_type": "markdown",
      "metadata": {
        "id": "w9bBhMVUplqc",
        "colab_type": "text"
      },
      "source": [
        "### Affine transforms\n",
        "\n",
        "Functions taken from Keras preprocessing [code](https://github.com/keras-team/keras-preprocessing/blob/master/keras_preprocessing/image/affine_transformations.py)"
      ]
    },
    {
      "cell_type": "code",
      "metadata": {
        "id": "nH8zJRKFl_8p",
        "colab_type": "code",
        "colab": {}
      },
      "source": [
        "def apply_affine_transform(x, shear=0, zx=1, zy=1, channel_axis=0,\n",
        "                           fill_mode='nearest', cval=0., order=1):\n",
        "    transform_matrix = None\n",
        "\n",
        "    if shear != 0:\n",
        "        shear = np.deg2rad(shear)\n",
        "        shear_matrix = np.array([[1, -np.sin(shear), 0],\n",
        "                                 [0, np.cos(shear), 0],\n",
        "                                 [0, 0, 1]])\n",
        "        if transform_matrix is None:\n",
        "            transform_matrix = shear_matrix\n",
        "        else:\n",
        "            transform_matrix = np.dot(transform_matrix, shear_matrix)\n",
        "\n",
        "    if zx != 1 or zy != 1:\n",
        "        zoom_matrix = np.array([[zx, 0, 0],\n",
        "                                [0, zy, 0],\n",
        "                                [0, 0, 1]])\n",
        "        if transform_matrix is None:\n",
        "            transform_matrix = zoom_matrix\n",
        "        else:\n",
        "            transform_matrix = np.dot(transform_matrix, zoom_matrix)\n",
        "\n",
        "    if transform_matrix is not None:\n",
        "        h, w = x.shape[row_axis], x.shape[col_axis]\n",
        "        transform_matrix = transform_matrix_offset_center(\n",
        "            transform_matrix, h, w)\n",
        "        x = np.rollaxis(x, channel_axis, 0)\n",
        "        final_affine_matrix = transform_matrix[:2, :2]\n",
        "        final_offset = transform_matrix[:2, 2]\n",
        "\n",
        "        channel_images = [ndimage.interpolation.affine_transform(\n",
        "            x_channel,\n",
        "            final_affine_matrix,\n",
        "            final_offset,\n",
        "            order=order,\n",
        "            mode=fill_mode,\n",
        "            cval=cval) for x_channel in x]\n",
        "        x = np.stack(channel_images, axis=0)\n",
        "        x = np.rollaxis(x, 0, channel_axis + 1)\n",
        "return x"
      ],
      "execution_count": 0,
      "outputs": []
    },
    {
      "cell_type": "code",
      "metadata": {
        "id": "s056RmMNjYVv",
        "colab_type": "code",
        "colab": {}
      },
      "source": [
        "def random_shear(image, intensity):\n",
        "  shear = np.random.uniform(-intensity, intensity)\n",
        "  image = apply_affine_transform(image, shear=shear)\n",
        "  return image\n",
        "\n",
        "def random_zoom(image, zoom_range):\n",
        "  zx, zy = np.random.uniform(zoom_range[0], zoom_range[1], 2)\n",
        "  image = apply_affine_transform(image, zx=zx, zy=zy)\n",
        "  return image "
      ],
      "execution_count": 0,
      "outputs": []
    },
    {
      "cell_type": "markdown",
      "metadata": {
        "id": "zJ_UDTCdpzcv",
        "colab_type": "text"
      },
      "source": [
        "### Build the dataset using TFRecords"
      ]
    },
    {
      "cell_type": "code",
      "metadata": {
        "id": "3LHNp5RZ8g9K",
        "colab_type": "code",
        "colab": {}
      },
      "source": [
        "def StateFarmDataset(image_size, tfrecord_file, shuffle_buffer_size, batch_size):\n",
        "  img_size = tf.cast(image_size, tf.int32)\n",
        "  \n",
        "  def _parse_function(example):\n",
        "    features = {'label': tf.FixedLenFeature((), tf.int64),\n",
        "                'image': tf.FixedLenFeature((), tf.string),\n",
        "                'height': tf.FixedLenFeature((), tf.int64),\n",
        "                'width': tf.FixedLenFeature((), tf.int64),\n",
        "                'depth': tf.FixedLenFeature((), tf.int64),\n",
        "                'path': tf.FixedLenFeature((), tf.string)}\n",
        "    parsed_features = tf.parse_single_example(example, features)\n",
        "    \n",
        "    # Reconstruct image \n",
        "    image = tf.image.decode_jpeg(parsed_features['image'], 3)\n",
        "    img_shape = tf.stack([tf.cast(parsed_features['height'], tf.int32),\n",
        "                          tf.cast(parsed_features['width'], tf.int32),\n",
        "                          tf.cast(parsed_features['depth'], tf.int32)])\n",
        "    image = tf.reshape(image, img_shape)\n",
        "    \n",
        "    # Normalize the image in the range 0 to 1\n",
        "    image = tf.image.convert_image_dtype(image, tf.float32)\n",
        "    \n",
        "    # Reshape image \n",
        "    image = tf.image.resize(image, [image_size, image_size])\n",
        "        \n",
        "    # One-hot encoding\n",
        "    label = tf.one_hot(parsed_features['label'], 10, dtype=tf.int32)\n",
        "    \n",
        "    return image, label, parsed_features['path']\n",
        "  \n",
        "  dataset = tf.data.TFRecordDataset(tfrecord_file)\n",
        "  dataset = dataset.shuffle(shuffle_buffer_size)\n",
        "  dataset = dataset.map(_parse_function)\n",
        "  \n",
        "  dataset = dataset.batch(batch_size)\n",
        "  dataset = dataset.prefetch(1)\n",
        "  \n",
        "  return dataset         "
      ],
      "execution_count": 0,
      "outputs": []
    },
    {
      "cell_type": "code",
      "metadata": {
        "id": "_lZYHZQOFZ7Y",
        "colab_type": "code",
        "outputId": "04f93429-8ebf-42df-a9d2-ffe2f7234b51",
        "colab": {
          "base_uri": "https://localhost:8080/",
          "height": 34
        }
      },
      "source": [
        "total = 22424\n",
        "dataset = StateFarmDataset(64, \"train2.tfrecord\", total, 1)\n",
        "print(dataset)"
      ],
      "execution_count": 5,
      "outputs": [
        {
          "output_type": "stream",
          "text": [
            "<DatasetV1Adapter shapes: ((?, 64, 64, ?), (?, 10), (?,)), types: (tf.float32, tf.int32, tf.string)>\n"
          ],
          "name": "stdout"
        }
      ]
    },
    {
      "cell_type": "code",
      "metadata": {
        "id": "VobVutrvFu33",
        "colab_type": "code",
        "colab": {}
      },
      "source": [
        "def test_normalization(image):\n",
        "  assert image.max() <= 1 and image.min() >= 0,\\\n",
        "        'Incorect Range. {} to {} found'.format(image().min(), image.to_numpy().max())\n",
        "  print(\"Fine.\")\n",
        "    \n",
        "\n",
        "\n",
        "iterator = dataset.make_one_shot_iterator()\n",
        "record = iterator.get_next()\n",
        "with tf.Session() as sess:\n",
        "  img, label, img_path = sess.run(record)\n",
        "  print(\"Label: \", label)\n",
        "  print(\"Img path: \", img_path)\n",
        "  print(\"Img shape: \", img.shape)\n",
        "  test_normalization(img[0])\n",
        "  plt.imshow(img[0])"
      ],
      "execution_count": 0,
      "outputs": []
    },
    {
      "cell_type": "code",
      "metadata": {
        "id": "7mwmueSikRfZ",
        "colab_type": "code",
        "outputId": "2f449909-3cc8-4b83-8aec-e9751f4783ad",
        "colab": {
          "base_uri": "https://localhost:8080/",
          "height": 124
        }
      },
      "source": [
        "train_samples = 20181\n",
        "valid_samples =  2242\n",
        "img_size = 64\n",
        "batch_size = 128\n",
        "\n",
        "train_dataset = StateFarmDataset(img_size, \"train.tfrecord\", train_samples, batch_size)\n",
        "valid_dataset = StateFarmDataset(img_size, \"valid.tfrecord\", valid_samples, valid_samples)\n",
        "\n",
        "handle = tf.placeholder(tf.string, shape=[], name=\"handle\")\n",
        "train_iterator = tf.data.Iterator.from_string_handle(handle, train_dataset.output_types, train_dataset.output_shapes)\n",
        "next_train_elements = train_iterator.get_next()\n",
        "train_iter = train_dataset.make_initializable_iterator()\n",
        "\n",
        "\n",
        "#handle2 = tf.placeholder(tf.string, shape=[])\n",
        "#valid_iterator = tf.data.Iterator.from_string_handle(handle2, valid_dataset.output_types, valid_dataset.output_shapes)\n",
        "#next_valid_elements = valid_iterator.get_next()\n",
        "#valid_iter = valid_dataset.make_initializable_iterator(shared_name=\"iterator\")\n",
        "\n",
        "\n",
        "valid_iterator = valid_dataset.make_one_shot_iterator()\n",
        "next_valid_elements = valid_iterator.get_next()\n",
        "\n",
        "\n",
        "print(\"Samples in training: \", train_samples, \"Number of trainining mini-batches: \", int(train_samples/batch_size)+1)\n",
        "print(\"Samples in validation: \", valid_samples, \"Number of validation mini-batches: \", int(valid_samples/valid_samples))"
      ],
      "execution_count": 7,
      "outputs": [
        {
          "output_type": "stream",
          "text": [
            "WARNING:tensorflow:From /usr/local/lib/python3.6/dist-packages/tensorflow/python/data/ops/dataset_ops.py:1419: colocate_with (from tensorflow.python.framework.ops) is deprecated and will be removed in a future version.\n",
            "Instructions for updating:\n",
            "Colocations handled automatically by placer.\n",
            "Samples in training:  20181 Number of trainining mini-batches:  158\n",
            "Samples in validation:  2242 Number of validation mini-batches:  1\n"
          ],
          "name": "stdout"
        }
      ]
    },
    {
      "cell_type": "markdown",
      "metadata": {
        "id": "49qUeQAFilxG",
        "colab_type": "text"
      },
      "source": [
        "## Build network"
      ]
    },
    {
      "cell_type": "code",
      "metadata": {
        "id": "8Ynlm9ICKblS",
        "colab_type": "code",
        "colab": {}
      },
      "source": [
        "def nn_input(img_shape):\n",
        "  return tf.placeholder(tf.float32, shape=[None, img_shape[0], img_shape[1], img_shape[2]], name=\"x\")\n",
        "\n",
        "def nn_label(n_classes):\n",
        "  return tf.placeholder(tf.float32, shape=[None, n_classes], name='y')\n",
        "\n",
        "def nn_keep_prob():\n",
        "  return tf.placeholder(tf.float32, name='keep_prob')\n",
        "\n",
        "def conv2d_maxpool(x_tensor, outs, conv_ksize, conv_strides, pool_ksize, pool_strides):\n",
        "  weights = tf.Variable(tf.truncated_normal([conv_ksize, conv_ksize, int(x_tensor.shape[3]), outs]))\n",
        "  bias = tf.Variable(tf.zeros([outs]))\n",
        "  \n",
        "  x = tf.nn.conv2d(x_tensor, weights, strides=[1, conv_strides, conv_strides, 1], padding=\"SAME\")\n",
        "  x = tf.nn.bias_add(x, bias)\n",
        "  x = tf.nn.relu(x)\n",
        "  x = tf.nn.max_pool(x, ksize=[1, pool_ksize, pool_ksize, 1], strides=[1, pool_strides, pool_strides, 1], padding=\"SAME\")\n",
        "  return x\n",
        "\n",
        "def flatten(x_tensor):\n",
        "  dimensions = x_tensor.get_shape().as_list()\n",
        "  img_flat_size = dimensions[1] * dimensions[2] * dimensions[3]\n",
        "  return tf.reshape(x_tensor, [-1, img_flat_size])\n",
        "\n",
        "def dense(x_tensor, n_outputs):\n",
        "  weights = tf.Variable(tf.truncated_normal([int(x_tensor.shape[-1]), n_outputs], mean=0.0, stddev=0.1))\n",
        "  bias = tf.Variable(tf.zeros([n_outputs]))\n",
        "  \n",
        "  x = tf.add(tf.matmul(x_tensor, weights), bias)\n",
        "  x = tf.nn.relu(x)\n",
        "  return x\n",
        "\n",
        "def nn_output(x_tensor, n_outputs):\n",
        "  weights = tf.Variable(tf.truncated_normal([int(x_tensor.shape[-1]), n_outputs], mean=0.0, stddev=0.1))\n",
        "  bias = tf.Variable(tf.zeros([n_outputs]))\n",
        "  \n",
        "  x = tf.add(tf.matmul(x_tensor, weights), bias)\n",
        "  return x"
      ],
      "execution_count": 0,
      "outputs": []
    },
    {
      "cell_type": "code",
      "metadata": {
        "id": "IqvHqNlk0Msl",
        "colab_type": "code",
        "colab": {}
      },
      "source": [
        "def model(x, keep_prob):\n",
        "  conv1 = conv2d_maxpool(x, 128, 3, 1, pool_ksize=2, pool_strides=2)\n",
        "  conv2 = conv2d_maxpool(conv1, 64, 3, 1, pool_ksize=2, pool_strides=2)\n",
        "  conv3 = conv2d_maxpool(conv2, 32, 3, 1, pool_ksize=2, pool_strides=2)\n",
        "  conv4 = conv2d_maxpool(conv3, 16, 3, 1, pool_ksize=2, pool_strides=2)\n",
        "  \n",
        "  fc1 = flatten(conv4)\n",
        "  fc1 = dense(fc1, 1024)\n",
        "  \n",
        "  out = nn_output(fc1, 10)\n",
        "  return out \n",
        "\n",
        "x = nn_input((64, 64, 3))\n",
        "y = nn_label(10)\n",
        "keep_prob = nn_keep_prob()\n",
        "\n",
        "logits = model(x, keep_prob)\n",
        "logits = tf.identity(logits, name=\"logits\")\n",
        "\n",
        "cost = tf.reduce_mean(tf.nn.softmax_cross_entropy_with_logits_v2(logits=logits, labels=y))\n",
        "optimizer = tf.train.AdamOptimizer().minimize(cost)\n",
        "\n",
        "correct_pred = tf.equal(tf.argmax(logits, 1), tf.argmax(y, 1))\n",
        "accuracy = tf.reduce_mean(tf.cast(correct_pred, tf.float32), name=\"accuracy\")"
      ],
      "execution_count": 0,
      "outputs": []
    },
    {
      "cell_type": "markdown",
      "metadata": {
        "id": "9DhpKlR55t88",
        "colab_type": "text"
      },
      "source": [
        "## Train"
      ]
    },
    {
      "cell_type": "code",
      "metadata": {
        "id": "IG3a7xeVlGIi",
        "colab_type": "code",
        "outputId": "40e7a2b3-6fa3-4e4d-fd25-7ed48fe090a6",
        "colab": {
          "base_uri": "https://localhost:8080/",
          "height": 34
        }
      },
      "source": [
        "if not tf.test.gpu_device_name():\n",
        "  print(\"You don't have the GPU activated\")\n",
        "else:\n",
        "  print('Default GPU Device: {}'.format(tf.test.gpu_device_name()))"
      ],
      "execution_count": 10,
      "outputs": [
        {
          "output_type": "stream",
          "text": [
            "Default GPU Device: /device:GPU:0\n"
          ],
          "name": "stdout"
        }
      ]
    },
    {
      "cell_type": "markdown",
      "metadata": {
        "id": "VJf8zWtV5y_I",
        "colab_type": "text"
      },
      "source": [
        "### Single optimization"
      ]
    },
    {
      "cell_type": "code",
      "metadata": {
        "id": "drIDmI3Z3fB-",
        "colab_type": "code",
        "colab": {}
      },
      "source": [
        "def train_nn(session, optimizer, keep_probability, feature_batch, label_batch):\n",
        "  return session.run(optimizer, feed_dict={x:feature_batch, y:label_batch, keep_prob:keep_probability})\n",
        "\n",
        "def print_stats(session, feature_batch, label_batch, cost, accuracy):\n",
        "  loss = sess.run(cost, feed_dict={x:feature_batch, y:label_batch, keep_prob:1.})\n",
        "  \n",
        "  valid_acc = sess.run(accuracy, feed_dict={x:feature_batch, y:label_batch, keep_prob:1.})\n",
        "  print(\"Loss: {:>10.4f} Accuracy: {:.6f}\".format(loss, valid_acc))\n",
        "  return None"
      ],
      "execution_count": 0,
      "outputs": []
    },
    {
      "cell_type": "code",
      "metadata": {
        "id": "9ZyW-sMz7kH6",
        "colab_type": "code",
        "colab": {}
      },
      "source": [
        "epochs = 10\n",
        "keep_probability = 1.0"
      ],
      "execution_count": 0,
      "outputs": []
    },
    {
      "cell_type": "code",
      "metadata": {
        "id": "hffgzEaURhp9",
        "colab_type": "code",
        "colab": {}
      },
      "source": [
        "print(\"Checking training on a single mini batch... \")\n",
        "\n",
        "with tf.Session() as sess:\n",
        "  sess.run(tf.global_variables_initializer())\n",
        "  \n",
        "  train_handle = sess.run(train_iter.string_handle())\n",
        "  sess.run(train_iter.initializer)\n",
        "  \n",
        "  valid_features, valid_labels,_ = sess.run(next_valid_elements)\n",
        "  features, labels, _ = sess.run(next_train_elements, feed_dict={handle: train_handle}) # First mini batch\n",
        "  \n",
        "  for epoch in range(epochs):\n",
        "    batch_i = 1\n",
        "    train_nn(sess, optimizer, keep_probability, features, labels)\n",
        "    print('Epoch {:>2}, Batch {}:  '.format(epoch + 1, batch_i), end='')\n",
        "    print_stats(sess, valid_features, valid_labels, cost, accuracy)"
      ],
      "execution_count": 0,
      "outputs": []
    },
    {
      "cell_type": "markdown",
      "metadata": {
        "id": "gB7A1SkraOpV",
        "colab_type": "text"
      },
      "source": [
        "## Full train"
      ]
    },
    {
      "cell_type": "code",
      "metadata": {
        "id": "cw-Cv3R4CmyN",
        "colab_type": "code",
        "outputId": "1c477132-42fe-4e8f-e5b3-f812b386c7e0",
        "colab": {
          "base_uri": "https://localhost:8080/",
          "height": 208
        }
      },
      "source": [
        "print(\"Training...\")\n",
        "\n",
        "with tf.Session() as  sess:\n",
        "  sess.run(tf.global_variables_initializer())\n",
        "  \n",
        "  train_handle = sess.run(train_iter.string_handle())\n",
        "  #valid_handle = sess.run(valid_iter.string_handle())\n",
        "  \n",
        "  valid_features, valid_labels,_ = sess.run(next_valid_elements)\n",
        "  \n",
        "  for epoch in range(epochs):\n",
        "    sess.run(train_iter.initializer)\n",
        "    for minibatch in range(158):\n",
        "      features, labels, _ = sess.run(next_train_elements, feed_dict={handle: train_handle})\n",
        "      train_nn(sess, optimizer, keep_probability, features, labels)\n",
        "    print('Epoch {:>2}, Batch {}:  '.format(epoch + 1, 1), end='')\n",
        "    print_stats(sess, valid_features, valid_labels, cost, accuracy)\n",
        "    \n",
        "  \"\"\"  \n",
        "  sess.run(valid_iter.initializer)\n",
        "  print(\"\\nValidation average accuracy: \", end='')\n",
        "  total_acc = 0\n",
        "  for minibatch in range(35):\n",
        "    features, labels, _ = sess.run(next_valid_elements, feed_dict={handle2: valid_handle})\n",
        "    valid_acc = sess.run(accuracy, feed_dict={x:features, y:labels, keep_prob:1.})\n",
        "    total_acc += valid_acc\n",
        "  print(\"{:.6f}\".format(total_acc/35))\"\"\"\n",
        "  \n",
        "  saver = tf.train.Saver()\n",
        "  save_path = saver.save(sess, \"./trained-model\")"
      ],
      "execution_count": 13,
      "outputs": [
        {
          "output_type": "stream",
          "text": [
            "Training...\n",
            "Epoch  1, Batch 1:  Loss:   521.1396 Accuracy: 0.611954\n",
            "Epoch  2, Batch 1:  Loss:   271.5670 Accuracy: 0.748439\n",
            "Epoch  3, Batch 1:  Loss:   133.4597 Accuracy: 0.863515\n",
            "Epoch  4, Batch 1:  Loss:   118.0047 Accuracy: 0.871543\n",
            "Epoch  5, Batch 1:  Loss:    98.8571 Accuracy: 0.892953\n",
            "Epoch  6, Batch 1:  Loss:    97.1895 Accuracy: 0.891615\n",
            "Epoch  7, Batch 1:  Loss:    68.7601 Accuracy: 0.920161\n",
            "Epoch  8, Batch 1:  Loss:    74.7848 Accuracy: 0.916146\n",
            "Epoch  9, Batch 1:  Loss:    79.2344 Accuracy: 0.919715\n",
            "Epoch 10, Batch 1:  Loss:    62.5490 Accuracy: 0.935326\n"
          ],
          "name": "stdout"
        }
      ]
    },
    {
      "cell_type": "markdown",
      "metadata": {
        "id": "H1Esg0l5hBBd",
        "colab_type": "text"
      },
      "source": [
        "## Evaluate"
      ]
    },
    {
      "cell_type": "code",
      "metadata": {
        "id": "IhLo8lCDaFvo",
        "colab_type": "code",
        "colab": {}
      },
      "source": [
        "for example in tf.python_io.tf_record_iterator(\"test.tfrecord\"):\n",
        "  result = tf.train.Example.FromString(example)\n",
        "print(result)"
      ],
      "execution_count": 0,
      "outputs": []
    },
    {
      "cell_type": "code",
      "metadata": {
        "id": "w83ldRALcEKv",
        "colab_type": "code",
        "outputId": "df221613-01bf-45d3-e8f9-c568dddcd8d8",
        "colab": {
          "base_uri": "https://localhost:8080/",
          "height": 34
        }
      },
      "source": [
        "def get_test_data(image_size, tfrecord_file, batch_size):\n",
        "  img_size = tf.cast(image_size, tf.int32)\n",
        "  \n",
        "  def _parse_function(example):\n",
        "    features = {'image': tf.FixedLenFeature((), tf.string),\n",
        "                'height': tf.FixedLenFeature((), tf.int64),\n",
        "                'width': tf.FixedLenFeature((), tf.int64),\n",
        "                'depth': tf.FixedLenFeature((), tf.int64),\n",
        "                'path': tf.FixedLenFeature((), tf.string)}\n",
        "    parsed_features = tf.parse_single_example(example, features)\n",
        "    \n",
        "    # Reconstruct image \n",
        "    image = tf.image.decode_jpeg(parsed_features['image'], 3)\n",
        "    img_shape = tf.stack([tf.cast(parsed_features['height'], tf.int32),\n",
        "                          tf.cast(parsed_features['width'], tf.int32),\n",
        "                          tf.cast(parsed_features['depth'], tf.int32)])\n",
        "    image = tf.reshape(image, img_shape)\n",
        "    \n",
        "    # Normalize the image in the range 0 to 1\n",
        "    image = tf.image.convert_image_dtype(image, tf.float32)\n",
        "    \n",
        "    # Reshape image \n",
        "    image = tf.image.resize(image, [image_size, image_size])\n",
        "    \n",
        "    return image, parsed_features['path']\n",
        "  \n",
        "  dataset = tf.data.TFRecordDataset(tfrecord_file)\n",
        "  dataset = dataset.map(_parse_function)\n",
        "  dataset = dataset.batch(batch_size)\n",
        "  dataset = dataset.prefetch(1)\n",
        "  \n",
        "  return dataset        \n",
        "\n",
        "test_data = get_test_data(64, \"test.tfrecord\", 1)\n",
        "print(test_data)"
      ],
      "execution_count": 4,
      "outputs": [
        {
          "output_type": "stream",
          "text": [
            "<DatasetV1Adapter shapes: ((?, 64, 64, ?), (?,)), types: (tf.float32, tf.string)>\n"
          ],
          "name": "stdout"
        }
      ]
    },
    {
      "cell_type": "markdown",
      "metadata": {
        "id": "P2zXCnKtUTgT",
        "colab_type": "text"
      },
      "source": [
        "### Display a single test image"
      ]
    },
    {
      "cell_type": "code",
      "metadata": {
        "id": "NThhCDBEUgf2",
        "colab_type": "code",
        "outputId": "885d1344-7b42-4a9a-a772-eb184c458ccd",
        "colab": {
          "base_uri": "https://localhost:8080/",
          "height": 304
        }
      },
      "source": [
        "iterator = test_data.make_one_shot_iterator()\n",
        "record = iterator.get_next()\n",
        "with tf.Session() as sess:\n",
        "  img, img_path = sess.run(record)\n",
        "  print(\"Img path: \", img_path)\n",
        "  print(\"Img shape: \", img.shape)\n",
        "  testing_image = img\n",
        "  plt.imshow(img[0])"
      ],
      "execution_count": 10,
      "outputs": [
        {
          "output_type": "stream",
          "text": [
            "Img path:  [b'./test/img_95953.jpg']\n",
            "Img shape:  (1, 64, 64, 3)\n"
          ],
          "name": "stdout"
        },
        {
          "output_type": "display_data",
          "data": {
            "image/png": "[encoded data removed]",
            "text/plain": [
              "<Figure size 432x288 with 1 Axes>"
            ]
          },
          "metadata": {
            "tags": []
          }
        }
      ]
    },
    {
      "cell_type": "markdown",
      "metadata": {
        "id": "k2UIVQLfVWQq",
        "colab_type": "text"
      },
      "source": [
        "### Get predictions"
      ]
    },
    {
      "cell_type": "code",
      "metadata": {
        "id": "8HI2d5YVZZ-R",
        "colab_type": "code",
        "colab": {
          "base_uri": "https://localhost:8080/",
          "height": 34
        },
        "outputId": "14f7ed5e-2899-40ca-d7a5-ba0daeddf46d"
      },
      "source": [
        "save_model_path=\"./trained-model\"\n",
        "batch_size = 128\n",
        "\n",
        "tf.reset_default_graph()\n",
        "\n",
        "rel_graph = tf.Graph()\n",
        "\n",
        "with rel_graph.as_default(): \n",
        "  test_data = get_test_data(64, \"test.tfrecord\", batch_size)\n",
        "  \n",
        "  handle = tf.placeholder(tf.string, shape=[], name=\"handle\")\n",
        "  test_iterator = tf.data.Iterator.from_string_handle(handle, test_data.output_types, test_data.output_shapes)\n",
        "  next_elements = test_iterator.get_next()\n",
        "  test_iter = test_data.make_initializable_iterator()\n",
        "  \n",
        "\n",
        "\n",
        "def get_predictions(loaded_graph, csv_file):\n",
        "  \n",
        "  csvfile = open(csv_file, 'w', newline='')\n",
        "  doc = csv.writer(csvfile)\n",
        "  doc.writerow(['img', 'c0', 'c1', 'c2', 'c3', 'c4', 'c5', 'c6', 'c7', 'c8', 'c9'])\n",
        "  \n",
        "  #loaded_graph = tf.Graph()\n",
        "  with tf.Session(graph=loaded_graph) as sess:\n",
        "    \n",
        "    # Load model \n",
        "    loader = tf.train.import_meta_graph(save_model_path + '.meta')\n",
        "    loader.restore(sess, save_model_path)\n",
        "    \n",
        "    # Get tensor from loaded model\n",
        "    loaded_x = loaded_graph.get_tensor_by_name(\"x:0\")\n",
        "    loaded_y = loaded_graph.get_tensor_by_name(\"y:0\")\n",
        "    loaded_keep_prob = loaded_graph.get_tensor_by_name(\"keep_prob:0\")\n",
        "    loaded_logits = loaded_graph.get_tensor_by_name(\"logits:0\")\n",
        "    loaded_acc = loaded_graph.get_tensor_by_name(\"accuracy:0\")\n",
        "        \n",
        "    fake_label = np.zeros([1,10], dtype=np.int32)    \n",
        "    \n",
        "    test_handle = sess.run(test_iter.string_handle())\n",
        "    sess.run(test_iter.initializer)\n",
        "    \n",
        "    for minibatch in range(623): #79726/128\n",
        "      imgs, names = sess.run(next_elements, feed_dict={handle: test_handle})\n",
        "      p = sess.run(tf.nn.softmax(loaded_logits), feed_dict={loaded_x: imgs,\n",
        "                                                            loaded_y: fake_label,\n",
        "                                                            loaded_keep_prob: 1.0})\n",
        "      \n",
        "      for i in range(len(imgs)):\n",
        "        doc.writerow([names[i][7:].decode(\"utf-8\"), \n",
        "                      p[i][0], p[i][1], p[i][2], p[i][3], p[i][4], \n",
        "                      p[i][5], p[i][6], p[i][7], p[i][8], p[i][9]])\n",
        "        \n",
        "      if(minibatch%10 == 0):\n",
        "        print(minibatch , \" minibatches tested.\")\n",
        "      imgs, names, p = None, None, None\n",
        "      \n",
        "    csvfile.close()\n",
        "    \n",
        "get_predictions(rel_graph, \"predictions.csv\")"
      ],
      "execution_count": 32,
      "outputs": [
        {
          "output_type": "stream",
          "text": [
            "620  minibatches tested.\n"
          ],
          "name": "stdout"
        }
      ]
    },
    {
      "cell_type": "code",
      "metadata": {
        "id": "BEcMkFqPs00s",
        "colab_type": "code",
        "colab": {}
      },
      "source": [
        ""
      ],
      "execution_count": 0,
      "outputs": []
    }
  ]
}