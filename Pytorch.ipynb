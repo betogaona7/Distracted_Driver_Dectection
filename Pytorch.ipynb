{
  "nbformat": 4,
  "nbformat_minor": 0,
  "metadata": {
    "colab": {
      "name": "Pytorch.ipynb",
      "version": "0.3.2",
      "provenance": [],
      "collapsed_sections": []
    },
    "kernelspec": {
      "name": "python3",
      "display_name": "Python 3"
    },
    "accelerator": "GPU"
  },
  "cells": [
    {
      "cell_type": "markdown",
      "metadata": {
        "id": "I2nGgnEFPqHw",
        "colab_type": "text"
      },
      "source": [
        "#Distracted driver detection. \n",
        "\n",
        "\n",
        "**An AI challenge by ImaGR**  \n",
        "\n",
        "*Base model:*  A pretrained VGG16 with batch normalization layers, and a modified classifier with two dense layers. Adam optimizer, 10 epochs, and a batch size of 256. Validation accuracy of 99.64317, and a Kaggle average score of 0.52\n",
        "\n",
        "*Augmented model: *\n",
        "Papers: \n",
        "- [Attention Augmented Convolutional Networks]()\n",
        "- [Bag of Tricks for for Image Classification with CNNs]()\n",
        "- [EfficientNet: Rethinking Model Scaling for CNNs]()\n",
        "\n",
        "\n"
      ]
    },
    {
      "cell_type": "markdown",
      "metadata": {
        "id": "YHj2YxWpYO5q",
        "colab_type": "text"
      },
      "source": [
        "### Connect with Colab"
      ]
    },
    {
      "cell_type": "code",
      "metadata": {
        "id": "XUK4BHalYMtB",
        "colab_type": "code",
        "colab": {}
      },
      "source": [
        "from google.colab import drive\n",
        "drive.mount(\"/betogaona7\")"
      ],
      "execution_count": 0,
      "outputs": []
    },
    {
      "cell_type": "code",
      "metadata": {
        "id": "sNj7bCfkX262",
        "colab_type": "code",
        "colab": {}
      },
      "source": [
        "%cd ./../betogaona7/My\\ Drive/app/Distracted"
      ],
      "execution_count": 0,
      "outputs": []
    },
    {
      "cell_type": "markdown",
      "metadata": {
        "id": "GjoEVFdWYcPS",
        "colab_type": "text"
      },
      "source": [
        "### Imports "
      ]
    },
    {
      "cell_type": "code",
      "metadata": {
        "id": "nLQNhD8SYdnm",
        "colab_type": "code",
        "colab": {}
      },
      "source": [
        "import os \n",
        "import random\n",
        "from PIL import Image \n",
        "import matplotlib.pyplot as plt\n",
        "import numpy as np\n",
        "from collections import OrderedDict\n",
        "import csv\n",
        "\n",
        "\n",
        "from torch.utils.data.sampler import SubsetRandomSampler\n",
        "\n",
        "import torch\n",
        "import torch.nn as nn\n",
        "import torch.functional as F\n",
        "from torch import optim\n",
        "\n",
        "from torchvision import models, datasets, transforms, utils\n",
        "from torchvision.models.vgg import VGG\n",
        "from torch.utils.data import Dataset"
      ],
      "execution_count": 0,
      "outputs": []
    },
    {
      "cell_type": "markdown",
      "metadata": {
        "id": "dGMGPRaLt3NH",
        "colab_type": "text"
      },
      "source": [
        "### Helper functions"
      ]
    },
    {
      "cell_type": "code",
      "metadata": {
        "id": "ALCMyKj6t5wd",
        "colab_type": "code",
        "colab": {}
      },
      "source": [
        "def unnormalize(img):\n",
        "  img = (img/2)+0.5 \n",
        "  npimg = img.numpy()\n",
        "  return np.transpose(npimg, (1, 2, 0))\n",
        "\n",
        "def plot_imgs(images = [], titles = [], figsize = (10,10)):\n",
        "  size = len(images)\n",
        "  fig = plt.figure(figsize=figsize)\n",
        "  i = 1\n",
        "  for image in images:\n",
        "    ax = fig.add_subplot(1,size,i)\n",
        "    ax.set_xticks([])\n",
        "    ax.set_yticks([])\n",
        "    ax.set_title(titles[i-1])\n",
        "    ax.imshow(image)\n",
        "    i += 1\n",
        "  return None\n",
        "\n",
        "def decode_label(label):\n",
        "  actions = [\"safe driving\",\n",
        "             \"texting - right\",\n",
        "             \"talking on the phone - right\",\n",
        "             \"texting - left\",\n",
        "             \"talking on the phone - left\",\n",
        "             \"operating the radio\",\n",
        "             \"drinking\",\n",
        "             \"reaching behing\",\n",
        "             \"hair and makeup\",\n",
        "             \"talking to passanger\"]\n",
        "  return actions[label]\n",
        "\n",
        "def transform_matrix_offset_center(matrix, x, y):\n",
        "  o_x = float(x) / 2 + 0.5\n",
        "  o_y = float(y) / 2 + 0.5\n",
        "  offset_matrix = np.array([[1, 0, o_x], [0, 1, o_y], [0, 0, 1]])\n",
        "  reset_matrix = np.array([[1, 0, -o_x], [0, 1, -o_y], [0, 0, 1]])\n",
        "  transform_matrix = np.dot(np.dot(offset_matrix, matrix), reset_matrix)\n",
        "  return transform_matrix"
      ],
      "execution_count": 0,
      "outputs": []
    },
    {
      "cell_type": "markdown",
      "metadata": {
        "id": "IZE9OOJ3ba98",
        "colab_type": "text"
      },
      "source": [
        "### Build dataset "
      ]
    },
    {
      "cell_type": "code",
      "metadata": {
        "id": "_bvkjXcSJvWj",
        "colab_type": "code",
        "outputId": "0bb96108-4a49-4248-a8f3-1cf0cc3d0981",
        "colab": {
          "base_uri": "https://localhost:8080/",
          "height": 86
        }
      },
      "source": [
        "datadir = './data/train'\n",
        "valid_size= 0.20\n",
        "\n",
        "train_transforms = transforms.Compose([transforms.RandomAffine(0.2, shear=0.2, scale=(1, 1.2)),\n",
        "                                       transforms.Resize((64, 64)),\n",
        "                                       transforms.ColorJitter(0.2),\n",
        "                                       transforms.\n",
        "                                       transforms.ToTensor(),\n",
        "                                       transforms.Normalize((0.5, 0.5, 0.5), (0.5, 0.5, 0.5))\n",
        "                                      ])\n",
        "\n",
        "valid_transforms = transforms.Compose([transforms.Resize((64, 64)),\n",
        "                                       transforms.ToTensor(),\n",
        "                                       transforms.Normalize((0.5, 0.5, 0.5), (0.5, 0.5, 0.5))])\n",
        "\n",
        "train_data = datasets.ImageFolder(datadir, transform=train_transforms)\n",
        "valid_data = datasets.ImageFolder(datadir, transform=valid_transforms)\n",
        "\n",
        "num_train = len(train_data)\n",
        "indices = list(range(num_train))\n",
        "\n",
        "# shuffle indices \n",
        "np.random.shuffle(indices)\n",
        "\n",
        "split = int(np.floor(valid_size * num_train))\n",
        "\n",
        "# Shuffle twice \n",
        "np.random.shuffle(indices)\n",
        "\n",
        "train_idx, valid_idx = indices[split:], indices[:split]\n",
        "train_sampler = SubsetRandomSampler(train_idx)\n",
        "valid_sampler = SubsetRandomSampler(valid_idx)\n",
        "\n",
        "trainloader = torch.utils.data.DataLoader(train_data, sampler=train_sampler, num_workers=8, batch_size=256)\n",
        "validloader = torch.utils.data.DataLoader(valid_data, sampler=valid_sampler, num_workers=8, batch_size=256)\n",
        "\n",
        "print(len(train_idx), \" samples in training. \")\n",
        "print(len(valid_idx), \" samples in validation.\")\n",
        "print(len(train_idx)+len(valid_idx), \" total samples.\")\n",
        "print(\"Classes: \", trainloader.dataset.classes)"
      ],
      "execution_count": 71,
      "outputs": [
        {
          "output_type": "stream",
          "text": [
            "17940  samples in training. \n",
            "4484  samples in validation.\n",
            "22424  total samples.\n",
            "Classes:  ['c0', 'c1', 'c2', 'c3', 'c4', 'c5', 'c6', 'c7', 'c8', 'c9']\n"
          ],
          "name": "stdout"
        }
      ]
    },
    {
      "cell_type": "markdown",
      "metadata": {
        "id": "S6qV6ROkW2xo",
        "colab_type": "text"
      },
      "source": [
        "### Visualize training samples"
      ]
    },
    {
      "cell_type": "code",
      "metadata": {
        "id": "CWyDw7_Zs0Hl",
        "colab_type": "code",
        "outputId": "87a5c485-dd5e-40e4-e6d5-dbb0e0c7fbbb",
        "colab": {
          "base_uri": "https://localhost:8080/",
          "height": 195
        }
      },
      "source": [
        "batch = next(iter(trainloader))\n",
        "\n",
        "imgs = []\n",
        "actions = []\n",
        "for i in range(5):\n",
        "  sample = random.randint(0, 15)\n",
        "  img =  unnormalize(batch[0][sample])\n",
        "  action = decode_label(int(batch[1][sample]))\n",
        "  imgs.append(img)\n",
        "  actions.append(action)\n",
        "  \n",
        "test = batch[0] # For attention test\n",
        "\n",
        "plot_imgs(imgs, actions, (15,15))"
      ],
      "execution_count": 72,
      "outputs": [
        {
          "output_type": "display_data",
          "data": {
            "image/png": "[encoded data removed]",
            "text/plain": [
              "<Figure size 1080x1080 with 5 Axes>"
            ]
          },
          "metadata": {
            "tags": []
          }
        }
      ]
    },
    {
      "cell_type": "markdown",
      "metadata": {
        "id": "IbENsk_dxuq1",
        "colab_type": "text"
      },
      "source": [
        "## Model"
      ]
    },
    {
      "cell_type": "code",
      "metadata": {
        "id": "DVEblVNyxuZ8",
        "colab_type": "code",
        "colab": {}
      },
      "source": [
        "model = models.vgg16_bn(pretrained=True)\n",
        "model"
      ],
      "execution_count": 0,
      "outputs": []
    },
    {
      "cell_type": "markdown",
      "metadata": {
        "id": "_lgOSqEsUqOd",
        "colab_type": "text"
      },
      "source": [
        "### Self-attention mechanism\n",
        "\n",
        "Employing self-attiention along the entire architecture. \n",
        "The use of multi-head attentipn allows the model to attend jointly to both spatial and feature subspaces. \n",
        "Enhance the represantional power of self-attention to two dimensional inputs allowing us to model translation equivariance in a principal way.\n",
        "Produce additional feature maps, rather than recalibrating convolutional features via addition or gating. This allows us tp flexibly adjust the fraction of attention channels and consder  sprectrum of achitectures.\n",
        "\n"
      ]
    },
    {
      "cell_type": "code",
      "metadata": {
        "id": "CBUIXe9pfRGg",
        "colab_type": "code",
        "colab": {}
      },
      "source": [
        "class attentiveConv(nn.Module):\n",
        "  \"\"\"\n",
        "     Perfoms multihead attention. \n",
        "     Args: \n",
        "      in_channels : (Tensor) Image with dimensions [batch, channels, height, width].\n",
        "      out_channls : (int) Number of output filters. \n",
        "      k_size: (int) Kernel size.\n",
        "      dk: (int) Depth of queries and keys in multihead attention. \n",
        "      dv: (int) Depth of values.\n",
        "      nh: (int) Number of heads.\n",
        "      relative: (bool) True for relative positional encodings.\n",
        "     Return: \n",
        "      (tensor) Attention augmented convolution.\n",
        "  \"\"\"\n",
        "  def __init__(self, in_channels, out_channels, k_size, dk, dv, nh, relative=False):\n",
        "    super(attentiveConv, self).__init__()\n",
        "    self.f_in = in_channels\n",
        "    self.f_out = out_channels\n",
        "    self.k = k_size\n",
        "    self.dk = dk \n",
        "    self.dv = dv\n",
        "    self.nh = nh\n",
        "    self.relative = relative\n",
        "    \n",
        "    assert self.nh != 0, \"nh must be equal or greater than 1\"\n",
        "    assert self.dk % self.nh == 0, \"dk must be divisible by nh\"\n",
        "    assert self.dv % self.nh == 0, \"dv must be divisible by nh\"\n",
        "    \n",
        "    self.conv_out = nn.Conv2d(self.f_in, out_channels=self.f_out-self.dv, kernel_size=self.k, padding=(self.k-1)//2)\n",
        "    self.qkv_conv = nn.Conv2d(self.f_in, out_channels= 2*self.dk+self.dv, kernel_size=self.k, padding=(self.k-1)//2)\n",
        "    self.attn_out = nn.Conv2d(self.dv, self.dv, kernel_size=1)\n",
        "\n",
        "  def forward(self, x):\n",
        "    conv_out = self.conv_out(x)\n",
        "    B, _, H, W = conv_out.size()\n",
        "    \n",
        "    #print(conv_out.size())\n",
        "    flat_q, flat_k, flat_v, q = self.compute_flat_qkv(x, self.dk, self.dv, self.nh)\n",
        "    logits = torch.matmul(flat_q.transpose(2, 3), flat_k)\n",
        "    if self.relative:\n",
        "      h_rel_logits, w_rel_logits = self.relative_logits(q)\n",
        "      logits += h_rel_logits\n",
        "      logits += w_rel_logits \n",
        "    weights = nn.functional.softmax(logits, dim=-1)\n",
        "    attn_out = torch.matmul(weights, flat_v.transpose(2, 3))\n",
        "    # Reshaped into a tensor (H,W, dv) to match the original spatial dimensions.\n",
        "    attn_out = torch.reshape(attn_out, (B, self.nh, self.dv // self.nh, H, W))\n",
        "    attn_out = self.combine_heads_2d(attn_out)\n",
        "    attn_out = self.attn_out(attn_out)\n",
        "    \n",
        "    flat_q, flatk_k, flat_v, q = None, None, None, None\n",
        "    # Returns an attention augmented convolution\n",
        "    return torch.cat((conv_out, attn_out), dim=1)\n",
        "  \n",
        "  def split_heads_2d(self, x, nh):\n",
        "    \"\"\"\n",
        "      Splits channels into multiple heads.\n",
        "    \"\"\"\n",
        "    B, C, H, W = x.size()\n",
        "    ret_shape = (B, nh, C // nh, H, W)\n",
        "    return torch.reshape(x, ret_shape)\n",
        "  \n",
        "  def combine_heads_2d(self, x):\n",
        "    \"\"\"\n",
        "      Combine miltiple heads.\n",
        "    \"\"\"\n",
        "    B, nh, dv, H, W = x.size()\n",
        "    ret_shape = (B, nh*dv, H, W)\n",
        "    return torch.reshape(x, ret_shape)\n",
        "  \n",
        "  def compute_flat_qkv(self, x, dk, dv, nh):\n",
        "    \"\"\"\n",
        "      Computes flattenend queries, keys, and values. \n",
        "    \"\"\"\n",
        "    qkv = self.qkv_conv(x)\n",
        "    B, _, H, W = qkv.size()\n",
        "    q, k, v = torch.split(qkv, [dk, dk, dv], dim=1)\n",
        "    q = self.split_heads_2d(q, nh)\n",
        "    k = self.split_heads_2d(k, nh)\n",
        "    v = self.split_heads_2d(v, nh)\n",
        "    dkh = dk // nh\n",
        "    q *= dkh**-0.5\n",
        "    flat_q = torch.reshape(q, (B, nh, dk // nh, H*W))\n",
        "    flat_k = torch.reshape(k, (B, nh, dk // nh, H*W))\n",
        "    flat_v = torch.reshape(v, (B, nh, dv // nh, H*W))\n",
        "    return flat_q, flat_k, flat_v, q\n",
        "  \n",
        "  def rel_to_abs(self, x):\n",
        "    \"\"\"\n",
        "      Convert tensor from relative to absolute indexing.\n",
        "    \"\"\"\n",
        "    B, nh, L, _ = x.size()\n",
        "    col_pad = torch.zeros((B, nh, L, 1)).to(x)\n",
        "    x = torch.cat((x, col_pad), dim=3)\n",
        "    flat_x = torch.reshape(x, (B, nh, L*2*L))\n",
        "    flat_pad = torch.zeros((B, nh, L-1)).to(x) \n",
        "    flat_x_padded = torch.cat((flat_x, flat_pad), dim=2)\n",
        "    final_x = torch.reshape(flat_x_padded, (B, nh, L+1, 2*L-1))\n",
        "    return final_x[:, :, :L, L-1:]\n",
        "  \n",
        "  def relative_logits_1d(self, q, rel_k, H, W, nh, case):\n",
        "    \"\"\"\n",
        "      Computes relative logits alonge one dimension.\n",
        "    \"\"\"\n",
        "    rel_logits = torch.einsum('bhxyd,md->bhxym', q, rel_k)\n",
        "    rel_logits = torch.reshape(rel_logits, (-1, nh*H, W, 2*W-1))\n",
        "    rel_logits = self.rel_to_abs(rel_logits)\n",
        "    \n",
        "    rel_logits = torch.reshape(rel_logits, (-1, nh, H, W, W))\n",
        "    rel_logits = torch.unsqueeze(rel_logits, dim=3)\n",
        "    rel_logits = rel_logits.repeat((1, 1, 1, H, 1, 1))\n",
        "    \n",
        "    if case == \"w\":\n",
        "      rel_logits = torch.transpose(rel_logits, 3, 4)\n",
        "    elif case == \"h\":\n",
        "      rel_logits = torch.transpose(rel_logits, 2, 4).transpose(4, 5).transpose(3, 5)\n",
        "    return torch.reshape(rel_logits, (-1, nh, H*W, H*W))\n",
        "  \n",
        "  def relative_logits(self, q):\n",
        "    \"\"\"\n",
        "      Computes relative positions logits. \n",
        "    \"\"\"\n",
        "    B, nh, dk, H, W = q.size()\n",
        "    q = torch.transpose(q, 2, 4).transpose(2, 3)\n",
        "    key_rel_w = nn.Parameter(torch.randn((2*W-1, dk), requires_grad=True)).to(device) # Send to device\n",
        "    rel_logits_w = self.relative_logits_1d(q, key_rel_w, H, W, nh, \"w\")\n",
        "    \n",
        "    key_rel_h = nn.Parameter(torch.randn((2*H-1, dk), requires_grad=True)).to(device) # Send to device\n",
        "    rel_logits_h = self.relative_logits_1d(torch.transpose(q, 2, 3), key_rel_h, W, H, nh, \"h\")\n",
        "    return rel_logits_h, rel_logits_w"
      ],
      "execution_count": 0,
      "outputs": []
    },
    {
      "cell_type": "code",
      "metadata": {
        "id": "NmeVSrPGUxUj",
        "colab_type": "code",
        "outputId": "79188ea3-c619-43fa-c971-1525cb07901e",
        "colab": {
          "base_uri": "https://localhost:8080/",
          "height": 52
        }
      },
      "source": [
        "# ultra computational expesive! \n",
        "\n",
        "print(\"Input: \", test.shape)\n",
        "attentConv1 = attentiveConv(in_channels=3, out_channels=32, k_size=3, dk=40, dv=4, nh=4, relative=False)\n",
        "conv_out1 = attentConv1(test) \n",
        "print(\"Output: \", conv_out1.shape)"
      ],
      "execution_count": 0,
      "outputs": [
        {
          "output_type": "stream",
          "text": [
            "Input:  torch.Size([16, 3, 64, 64])\n",
            "Output:  torch.Size([16, 32, 64, 64])\n"
          ],
          "name": "stdout"
        }
      ]
    },
    {
      "cell_type": "markdown",
      "metadata": {
        "id": "MxzwgLHt02Q-",
        "colab_type": "text"
      },
      "source": [
        "### Modify pretrained model"
      ]
    },
    {
      "cell_type": "code",
      "metadata": {
        "id": "Iu04xUL5pZBo",
        "colab_type": "code",
        "colab": {
          "base_uri": "https://localhost:8080/",
          "height": 1059
        },
        "outputId": "ef33f1e6-7912-4633-9174-89b2d01c6e27"
      },
      "source": [
        "model.features.add_module(\"attentConv1\", attentiveConv(512, 512, 3, dk=1024, dv=128, nh=2))\n",
        "model.features.add_module(\"Relu\", nn.ReLU(inplace=True))\n",
        "model.features.add_module(\"bn\", nn.BatchNorm2d(512, eps=1e-05, momentum=0.1, affine=True, track_running_stats=True))\n",
        "\n",
        "\n",
        "model.classifier = nn.Sequential(OrderedDict([('0', nn.Linear(25088, 1024)),\n",
        "                                              ('1', nn.Linear(1024, 10))\n",
        "                                              ]))\n",
        "model"
      ],
      "execution_count": 85,
      "outputs": [
        {
          "output_type": "execute_result",
          "data": {
            "text/plain": [
              "VGG(\n",
              "  (features): Sequential(\n",
              "    (0): Conv2d(3, 64, kernel_size=(3, 3), stride=(1, 1), padding=(1, 1))\n",
              "    (1): BatchNorm2d(64, eps=1e-05, momentum=0.1, affine=True, track_running_stats=True)\n",
              "    (2): ReLU(inplace)\n",
              "    (3): Conv2d(64, 64, kernel_size=(3, 3), stride=(1, 1), padding=(1, 1))\n",
              "    (4): BatchNorm2d(64, eps=1e-05, momentum=0.1, affine=True, track_running_stats=True)\n",
              "    (5): ReLU(inplace)\n",
              "    (6): MaxPool2d(kernel_size=2, stride=2, padding=0, dilation=1, ceil_mode=False)\n",
              "    (7): Conv2d(64, 128, kernel_size=(3, 3), stride=(1, 1), padding=(1, 1))\n",
              "    (8): BatchNorm2d(128, eps=1e-05, momentum=0.1, affine=True, track_running_stats=True)\n",
              "    (9): ReLU(inplace)\n",
              "    (10): Conv2d(128, 128, kernel_size=(3, 3), stride=(1, 1), padding=(1, 1))\n",
              "    (11): BatchNorm2d(128, eps=1e-05, momentum=0.1, affine=True, track_running_stats=True)\n",
              "    (12): ReLU(inplace)\n",
              "    (13): MaxPool2d(kernel_size=2, stride=2, padding=0, dilation=1, ceil_mode=False)\n",
              "    (14): Conv2d(128, 256, kernel_size=(3, 3), stride=(1, 1), padding=(1, 1))\n",
              "    (15): BatchNorm2d(256, eps=1e-05, momentum=0.1, affine=True, track_running_stats=True)\n",
              "    (16): ReLU(inplace)\n",
              "    (17): Conv2d(256, 256, kernel_size=(3, 3), stride=(1, 1), padding=(1, 1))\n",
              "    (18): BatchNorm2d(256, eps=1e-05, momentum=0.1, affine=True, track_running_stats=True)\n",
              "    (19): ReLU(inplace)\n",
              "    (20): Conv2d(256, 256, kernel_size=(3, 3), stride=(1, 1), padding=(1, 1))\n",
              "    (21): BatchNorm2d(256, eps=1e-05, momentum=0.1, affine=True, track_running_stats=True)\n",
              "    (22): ReLU(inplace)\n",
              "    (23): MaxPool2d(kernel_size=2, stride=2, padding=0, dilation=1, ceil_mode=False)\n",
              "    (24): Conv2d(256, 512, kernel_size=(3, 3), stride=(1, 1), padding=(1, 1))\n",
              "    (25): BatchNorm2d(512, eps=1e-05, momentum=0.1, affine=True, track_running_stats=True)\n",
              "    (26): ReLU(inplace)\n",
              "    (27): Conv2d(512, 512, kernel_size=(3, 3), stride=(1, 1), padding=(1, 1))\n",
              "    (28): BatchNorm2d(512, eps=1e-05, momentum=0.1, affine=True, track_running_stats=True)\n",
              "    (29): ReLU(inplace)\n",
              "    (30): Conv2d(512, 512, kernel_size=(3, 3), stride=(1, 1), padding=(1, 1))\n",
              "    (31): BatchNorm2d(512, eps=1e-05, momentum=0.1, affine=True, track_running_stats=True)\n",
              "    (32): ReLU(inplace)\n",
              "    (33): MaxPool2d(kernel_size=2, stride=2, padding=0, dilation=1, ceil_mode=False)\n",
              "    (34): Conv2d(512, 512, kernel_size=(3, 3), stride=(1, 1), padding=(1, 1))\n",
              "    (35): BatchNorm2d(512, eps=1e-05, momentum=0.1, affine=True, track_running_stats=True)\n",
              "    (36): ReLU(inplace)\n",
              "    (37): Conv2d(512, 512, kernel_size=(3, 3), stride=(1, 1), padding=(1, 1))\n",
              "    (38): BatchNorm2d(512, eps=1e-05, momentum=0.1, affine=True, track_running_stats=True)\n",
              "    (39): ReLU(inplace)\n",
              "    (40): Conv2d(512, 512, kernel_size=(3, 3), stride=(1, 1), padding=(1, 1))\n",
              "    (41): BatchNorm2d(512, eps=1e-05, momentum=0.1, affine=True, track_running_stats=True)\n",
              "    (42): ReLU(inplace)\n",
              "    (43): MaxPool2d(kernel_size=2, stride=2, padding=0, dilation=1, ceil_mode=False)\n",
              "    (attentConv1): attentiveConv(\n",
              "      (conv_out): Conv2d(512, 384, kernel_size=(3, 3), stride=(1, 1), padding=(1, 1))\n",
              "      (qkv_conv): Conv2d(512, 2176, kernel_size=(3, 3), stride=(1, 1), padding=(1, 1))\n",
              "      (attn_out): Conv2d(128, 128, kernel_size=(1, 1), stride=(1, 1))\n",
              "    )\n",
              "    (Relu): ReLU(inplace)\n",
              "    (bn): BatchNorm2d(512, eps=1e-05, momentum=0.1, affine=True, track_running_stats=True)\n",
              "  )\n",
              "  (avgpool): AdaptiveAvgPool2d(output_size=(7, 7))\n",
              "  (classifier): Sequential(\n",
              "    (0): Linear(in_features=25088, out_features=1024, bias=True)\n",
              "    (1): Linear(in_features=1024, out_features=10, bias=True)\n",
              "  )\n",
              ")"
            ]
          },
          "metadata": {
            "tags": []
          },
          "execution_count": 85
        }
      ]
    },
    {
      "cell_type": "markdown",
      "metadata": {
        "id": "TS3Svhq0jr29",
        "colab_type": "text"
      },
      "source": [
        "### Copied CNN architecture to test the Attention augmented convolution. \n",
        "\n",
        "It worked. The base CNN (wiithout attention) got 96% of accuracy while the CNN (with attention) got 98%. "
      ]
    },
    {
      "cell_type": "code",
      "metadata": {
        "id": "LKk_6hT9ehbT",
        "colab_type": "code",
        "colab": {}
      },
      "source": [
        "class AttentionCNN(nn.Module):\n",
        "  def __init__(self):\n",
        "    super().__init__()\n",
        "    \n",
        "    self.relu = nn.ReLU(inplace=True)\n",
        "    \n",
        "    self.conv1 = nn.Conv2d(3, 128, 3)     # 64\n",
        "    self.pool1 = nn.MaxPool2d(2, 2) # 32\n",
        "    self.bn1 = nn.BatchNorm2d(128)\n",
        "    \n",
        "    self.conv2 = nn.Conv2d(128, 64, 3) # 32\n",
        "    self.pool2 = nn.MaxPool2d(2, 2)   #16\n",
        "    self.bn2 = nn.BatchNorm2d(64)\n",
        "    \n",
        "    self.conv3 = nn.Conv2d(64, 32, 3) # 16\n",
        "    self.pool3 = nn.MaxPool2d(2, 2) # 8\n",
        "    self.bn3 = nn.BatchNorm2d(32)\n",
        "    \n",
        "    #self.attentConv1 = attentiveConv(32, 16, 3, dk=8, dv=4, nh=4) # 8\n",
        "    #self.conv4 = nn.Conv2d(32, 16, 3)\n",
        "    #self.pool4 = nn.MaxPool2d(2, 2)\n",
        "    self.bn4 = nn.BatchNorm2d(16)\n",
        "        \n",
        "    self.fc1 = nn.Linear(16*6*6, 1024)\n",
        "    self.fc2 = nn.Linear(1024, 10)\n",
        "    \n",
        "  def forward(self, x):\n",
        "    x = self.pool1(self.relu(self.conv1(x)))\n",
        "    x = self.bn1(x)\n",
        "    x = self.pool2(self.relu(self.conv2(x)))\n",
        "    x = self.bn2(x)\n",
        "    x = self.pool3(self.relu(self.conv3(x)))\n",
        "    x = self.bn3(x)\n",
        "    x = self.relu(self.attentConv1(x))\n",
        "    #x = self.pool4(self.relu(self.conv4(x)))\n",
        "    x = self.bn4(x)\n",
        "    \n",
        "    \n",
        "    #print(x.size())\n",
        "    \n",
        "    x = x.view(x.size()[0], -1)\n",
        "    \n",
        "    x = self.fc1(x)\n",
        "    x = self.fc2(x)\n",
        "    return x"
      ],
      "execution_count": 0,
      "outputs": []
    },
    {
      "cell_type": "markdown",
      "metadata": {
        "id": "npxzf9eWB9bV",
        "colab_type": "text"
      },
      "source": [
        "## Training"
      ]
    },
    {
      "cell_type": "markdown",
      "metadata": {
        "id": "u4Dai87SCCo_",
        "colab_type": "text"
      },
      "source": [
        "### Check for GPU"
      ]
    },
    {
      "cell_type": "code",
      "metadata": {
        "id": "av2FWCjZCGmx",
        "colab_type": "code",
        "outputId": "d6f4df4e-e470-4f25-a6fe-487ba33b1645",
        "colab": {
          "base_uri": "https://localhost:8080/",
          "height": 34
        }
      },
      "source": [
        "device = torch.device(\"cuda:0\" if torch.cuda.is_available() else \"cpu\")\n",
        "device"
      ],
      "execution_count": 86,
      "outputs": [
        {
          "output_type": "execute_result",
          "data": {
            "text/plain": [
              "device(type='cuda', index=0)"
            ]
          },
          "metadata": {
            "tags": []
          },
          "execution_count": 86
        }
      ]
    },
    {
      "cell_type": "code",
      "metadata": {
        "id": "DzK4RI0N2k_Q",
        "colab_type": "code",
        "colab": {}
      },
      "source": [
        "#model = AttentionCNN()\n",
        "model.to(device)\n",
        "criterion = nn.CrossEntropyLoss()\n",
        "optimizer = optim.Adam(model.parameters())"
      ],
      "execution_count": 0,
      "outputs": []
    },
    {
      "cell_type": "markdown",
      "metadata": {
        "id": "z2VQpyslCh9V",
        "colab_type": "text"
      },
      "source": [
        "### Train a single epoch"
      ]
    },
    {
      "cell_type": "code",
      "metadata": {
        "id": "nq5ITWdqCSuJ",
        "colab_type": "code",
        "colab": {}
      },
      "source": [
        "counter = []\n",
        "history = []\n",
        "iteration = 0\n",
        "\n",
        "\n",
        "for i, batch in enumerate(trainloader):\n",
        "  images, labels = batch\n",
        "  images, labels = images.to(device), labels.to(device)\n",
        "  optimizer.zero_grad()\n",
        "  \n",
        "  outputs = model.forward(images)\n",
        "  loss = criterion(outputs, labels)\n",
        "  loss.backward()\n",
        "  optimizer.step()\n",
        "  print(\"Minibatch: {} loss: {}\".format(i, loss.item()))\n",
        "  iteration += i\n",
        "  counter.append(iteration)\n",
        "  history.append(loss.item())\n"
      ],
      "execution_count": 0,
      "outputs": []
    },
    {
      "cell_type": "code",
      "metadata": {
        "id": "a4Kit9aYexw3",
        "colab_type": "code",
        "outputId": "8d36cc0a-1f49-425b-9b91-b8d889e79de0",
        "colab": {
          "base_uri": "https://localhost:8080/",
          "height": 269
        }
      },
      "source": [
        "torch.save(model.state_dict(), \"./pytorch-model.pth\")\n",
        "plt.plot(counter, history)\n",
        "plt.show()"
      ],
      "execution_count": 0,
      "outputs": [
        {
          "output_type": "display_data",
          "data": {
            "image/png": "[encoded data removed]",
            "text/plain": [
              "<Figure size 432x288 with 1 Axes>"
            ]
          },
          "metadata": {
            "tags": []
          }
        }
      ]
    },
    {
      "cell_type": "markdown",
      "metadata": {
        "id": "63_wVNroEMF3",
        "colab_type": "text"
      },
      "source": [
        "### Full training"
      ]
    },
    {
      "cell_type": "code",
      "metadata": {
        "id": "kvK44puqJgLL",
        "colab_type": "code",
        "colab": {}
      },
      "source": [
        "def validation(model, validloader, criterion):\n",
        "  correct = 0\n",
        "  total = 0\n",
        "  for minibatch, batch in enumerate(validloader):\n",
        "    images, labels = batch[0].to(device), batch[1].to(device)\n",
        "    outputs = model(images)\n",
        "    _, predicted = torch.max(outputs.data, 1)\n",
        "    total += labels.size(0)\n",
        "    correct += (predicted == labels).sum().item()\n",
        "  return 100 * correct / total"
      ],
      "execution_count": 0,
      "outputs": []
    },
    {
      "cell_type": "code",
      "metadata": {
        "id": "wiEUYgHfPFOk",
        "colab_type": "code",
        "colab": {}
      },
      "source": [
        "epochs = 15\n",
        "print_every = 20"
      ],
      "execution_count": 0,
      "outputs": []
    },
    {
      "cell_type": "code",
      "metadata": {
        "id": "WJl_9_p6lRIO",
        "colab_type": "code",
        "colab": {}
      },
      "source": [
        "best = 100\n",
        "\n",
        "for epoch in range(epochs):\n",
        "  for minibatch, batch in enumerate(trainloader):\n",
        "    images, labels = batch[0].to(device), batch[1].to(device)\n",
        "    optimizer.zero_grad()\n",
        "    \n",
        "    outputs = model.forward(images)\n",
        "    loss = criterion(outputs, labels)\n",
        "    loss.backward()\n",
        "    optimizer.step()\n",
        "    if minibatch % print_every == 0:\n",
        "      model.eval()\n",
        "      with torch.no_grad():\n",
        "        accuracy = validation(model, validloader, criterion)\n",
        "        training_loss = loss.item()\n",
        "        print(\"Epoch: {}/{}.. \".format(epoch+1, epochs),\n",
        "              \"Loss: {:.5f}.. \".format(training_loss),\n",
        "              \"Accuracy: {}.. \".format(accuracy))\n",
        "        if best > training_loss:\n",
        "          torch.save(model.state_dict(), \"./lessloss-accuracy-pytorch.pth\")\n",
        "          best = training_loss\n",
        "      model.train()\n",
        "      \n",
        "torch.save(model.state_dict(), \"./full-trained-pytorch.pth\")"
      ],
      "execution_count": 0,
      "outputs": []
    },
    {
      "cell_type": "markdown",
      "metadata": {
        "id": "3rhAvnKnQJSX",
        "colab_type": "text"
      },
      "source": [
        "### Evaluate"
      ]
    },
    {
      "cell_type": "code",
      "metadata": {
        "id": "Chp-nDBEJg-b",
        "colab_type": "code",
        "outputId": "74efc609-404d-46ae-9e74-276fcebceaed",
        "colab": {
          "base_uri": "https://localhost:8080/",
          "height": 34
        }
      },
      "source": [
        "saved_file = \"./lessloss-accuracy-pytorch.pth\"\n",
        "saved_file2 = \"./full-trained-pytorch.pth\"\n",
        "\n",
        "state_dict = torch.load(saved_file)\n",
        "model.load_state_dict(state_dict)\n",
        "\n",
        "model.eval()\n",
        "with torch.no_grad():\n",
        "  acc = validation(model, validloader, criterion)\n",
        "  print(\"Validation accuracy: \", acc)"
      ],
      "execution_count": 92,
      "outputs": [
        {
          "output_type": "stream",
          "text": [
            "Validation accuracy:  98.63960749330954\n"
          ],
          "name": "stdout"
        }
      ]
    },
    {
      "cell_type": "code",
      "metadata": {
        "id": "q3EPH1SQRQ3z",
        "colab_type": "code",
        "outputId": "c3ffdb07-259b-4edb-8c80-1d13489fbd95",
        "colab": {
          "base_uri": "https://localhost:8080/",
          "height": 191
        }
      },
      "source": [
        "class_correct = list(0. for i in range(10))\n",
        "class_total = list(0. for i in range(10))\n",
        "\n",
        "with torch.no_grad():\n",
        "  for minibatch, batch in enumerate(validloader):\n",
        "    images, labels = batch[0].to(device), batch[1].to(device)\n",
        "    outputs = model(images)\n",
        "    _, predicted = torch.max(outputs, 1)\n",
        "    c = (predicted == labels).squeeze()\n",
        "    \n",
        "    for sample in range(32):\n",
        "      try:\n",
        "        label = labels[sample]\n",
        "        class_correct[label] += c[sample].item()\n",
        "        class_total[label] += 1\n",
        "      except:\n",
        "        break\n",
        "      \n",
        "for i in range(10):\n",
        "  print(\"Accuracy of %5s : %2d %%\" % (decode_label(i), 100*class_correct[i]/class_total[i]))\n",
        "    "
      ],
      "execution_count": 93,
      "outputs": [
        {
          "output_type": "stream",
          "text": [
            "Accuracy of safe driving : 95 %\n",
            "Accuracy of texting - right : 96 %\n",
            "Accuracy of talking on the phone - right : 94 %\n",
            "Accuracy of texting - left : 96 %\n",
            "Accuracy of talking on the phone - left : 98 %\n",
            "Accuracy of operating the radio : 100 %\n",
            "Accuracy of drinking : 96 %\n",
            "Accuracy of reaching behing : 100 %\n",
            "Accuracy of hair and makeup : 94 %\n",
            "Accuracy of talking to passanger : 96 %\n"
          ],
          "name": "stdout"
        }
      ]
    },
    {
      "cell_type": "markdown",
      "metadata": {
        "id": "pNMdXJSeQhWw",
        "colab_type": "text"
      },
      "source": [
        "## Test "
      ]
    },
    {
      "cell_type": "markdown",
      "metadata": {
        "id": "KQi66kQJkO3v",
        "colab_type": "text"
      },
      "source": [
        "### Move test images to virtual environment file system"
      ]
    },
    {
      "cell_type": "code",
      "metadata": {
        "id": "UOegKHCsHECx",
        "colab_type": "code",
        "colab": {
          "base_uri": "https://localhost:8080/",
          "height": 34
        },
        "outputId": "21bdbb39-eb5e-45ff-9592-f22ce142d385"
      },
      "source": [
        "!ls ./../../../../content/"
      ],
      "execution_count": 94,
      "outputs": [
        {
          "output_type": "stream",
          "text": [
            "sample_data  test\n"
          ],
          "name": "stdout"
        }
      ]
    },
    {
      "cell_type": "code",
      "metadata": {
        "id": "i2K1W7h-i7yz",
        "colab_type": "code",
        "colab": {}
      },
      "source": [
        "!cp data/test.zip  ./../../../../content/"
      ],
      "execution_count": 0,
      "outputs": []
    },
    {
      "cell_type": "code",
      "metadata": {
        "id": "ML7NxX0wqdxO",
        "colab_type": "code",
        "colab": {}
      },
      "source": [
        "%cd /content\n",
        "%ls "
      ],
      "execution_count": 0,
      "outputs": []
    },
    {
      "cell_type": "code",
      "metadata": {
        "id": "BNmfy0azj6vh",
        "colab_type": "code",
        "colab": {}
      },
      "source": [
        "!unzip -qq test.zip"
      ],
      "execution_count": 0,
      "outputs": []
    },
    {
      "cell_type": "code",
      "metadata": {
        "id": "nu9I6N5uqTvV",
        "colab_type": "code",
        "colab": {}
      },
      "source": [
        "%rm test.zip"
      ],
      "execution_count": 0,
      "outputs": []
    },
    {
      "cell_type": "code",
      "metadata": {
        "id": "4GEVLPdDjwCe",
        "colab_type": "code",
        "colab": {
          "base_uri": "https://localhost:8080/",
          "height": 34
        },
        "outputId": "62e4d32e-43ea-41a9-d8de-7572af1e0b5f"
      },
      "source": [
        "%cd ./../betogaona7/My\\ Drive/app/Distracted"
      ],
      "execution_count": 65,
      "outputs": [
        {
          "output_type": "stream",
          "text": [
            "/betogaona7/My Drive/app/Distracted\n"
          ],
          "name": "stdout"
        }
      ]
    },
    {
      "cell_type": "markdown",
      "metadata": {
        "id": "gWX11cAawm4I",
        "colab_type": "text"
      },
      "source": [
        "### Get test data"
      ]
    },
    {
      "cell_type": "code",
      "metadata": {
        "id": "YtINPYFKwp3x",
        "colab_type": "code",
        "colab": {}
      },
      "source": [
        "def get_data(src):\n",
        "  data = []\n",
        "  total = 0\n",
        "  for path, subdir, files in os.walk(src):\n",
        "    for file in files:\n",
        "      if file[-3:] == 'jpg': \n",
        "        data.append(os.path.join(path, file))\n",
        "      total += 1\n",
        "  return data, total\n",
        "\n",
        "\n",
        "test_data, total = get_data(\"./../../../../content/test/\")"
      ],
      "execution_count": 0,
      "outputs": []
    },
    {
      "cell_type": "code",
      "metadata": {
        "id": "mJLFeo3NxH-s",
        "colab_type": "code",
        "outputId": "2660d9dd-8c31-4521-ce41-e00dc96fb5ec",
        "colab": {
          "base_uri": "https://localhost:8080/",
          "height": 34
        }
      },
      "source": [
        "print(\"Test sample: \", test_data[0], \" Total samples: \", total)"
      ],
      "execution_count": 96,
      "outputs": [
        {
          "output_type": "stream",
          "text": [
            "Test sample:  ./../../../../content/test/img_9825.jpg  Total samples:  79726\n"
          ],
          "name": "stdout"
        }
      ]
    },
    {
      "cell_type": "code",
      "metadata": {
        "id": "sReU7ppjxWgX",
        "colab_type": "code",
        "colab": {}
      },
      "source": [
        "class stateFarmTestset(Dataset):\n",
        "  def __init__(self, data, transform=None):\n",
        "    self.data = data\n",
        "    self.transform = transform\n",
        "    \n",
        "  def __getitem__(self, index):\n",
        "    img = self.data[index]\n",
        "    img_name = img[27:]\n",
        "    \n",
        "    img = Image.open(img)\n",
        "    \n",
        "    if self.transform is not None:\n",
        "      img = self.transform(img)\n",
        "    \n",
        "    return img, img_name\n",
        "  \n",
        "  def __len__(self):\n",
        "    return len(self.data)"
      ],
      "execution_count": 0,
      "outputs": []
    },
    {
      "cell_type": "code",
      "metadata": {
        "id": "kRZfsFIrcfh6",
        "colab_type": "code",
        "colab": {}
      },
      "source": [
        "test_transforms = transforms.Compose([transforms.Resize((64, 64)),\n",
        "                                      transforms.ToTensor(),\n",
        "                                      transforms.Normalize((0.5, 0.5, 0.5), (0.5, 0.5, 0.5))])\n",
        "\n",
        "test_dataset = stateFarmTestset(test_data, transform = test_transforms)\n",
        "testloader = torch.utils.data.DataLoader(test_dataset, shuffle=False, num_workers=8, batch_size=256)"
      ],
      "execution_count": 0,
      "outputs": []
    },
    {
      "cell_type": "markdown",
      "metadata": {
        "id": "OXASpPS3zwbk",
        "colab_type": "text"
      },
      "source": [
        "### Visualize test sample"
      ]
    },
    {
      "cell_type": "code",
      "metadata": {
        "id": "iR6wptPJghNQ",
        "colab_type": "code",
        "outputId": "dc5b538c-8fdb-49d4-d675-fe9612c9a76b",
        "colab": {
          "base_uri": "https://localhost:8080/",
          "height": 339
        }
      },
      "source": [
        "sample = random.randint(0, 64)\n",
        "\n",
        "batch = next(iter(testloader))\n",
        "\n",
        "img = unnormalize(batch[0][sample])\n",
        "img_name = batch[1][sample]\n",
        "\n",
        "print(img.shape)\n",
        "plot_imgs([img], [img_name], (5,5))"
      ],
      "execution_count": 38,
      "outputs": [
        {
          "output_type": "stream",
          "text": [
            "(64, 64, 3)\n"
          ],
          "name": "stdout"
        },
        {
          "output_type": "display_data",
          "data": {
            "image/png": "[encoded data removed]",
            "text/plain": [
              "<Figure size 360x360 with 1 Axes>"
            ]
          },
          "metadata": {
            "tags": []
          }
        }
      ]
    },
    {
      "cell_type": "markdown",
      "metadata": {
        "id": "mdl4Oau62IQu",
        "colab_type": "text"
      },
      "source": [
        "### Get predictions and create CSV"
      ]
    },
    {
      "cell_type": "code",
      "metadata": {
        "id": "Wkh_i7Ke0Nnd",
        "colab_type": "code",
        "colab": {
          "base_uri": "https://localhost:8080/",
          "height": 573
        },
        "outputId": "f6ed48d1-2263-4e86-cd8d-b6f3251337e2"
      },
      "source": [
        "csvfile = open(\"new-predictions.csv\", 'w', newline='')\n",
        "doc = csv.writer(csvfile)\n",
        "doc.writerow(['img', 'c0', 'c1', 'c2', 'c3', 'c4', 'c5', 'c6', 'c7', 'c8', 'c9'])\n",
        "\n",
        "with torch.no_grad():\n",
        "  for minibatch, batch in enumerate(testloader):\n",
        "    images, names = batch[0].to(device), batch[1]\n",
        "    outputs = model(images)\n",
        "    predictions = outputs.data\n",
        "    \n",
        "    for i in range(len(predictions)):\n",
        "      p = nn.functional.softmax(predictions[i], dim=-1).cpu().numpy()\n",
        "      n = names[i]\n",
        "      doc.writerow([n, p[0], p[1], p[2], p[3], p[4], p[5], p[6], p[7], p[8], p[9]])\n",
        "      \n",
        "    if(minibatch%10 == 0):\n",
        "      print(minibatch, \" minibatches tested.\")\n",
        "    \n",
        "csvfile.close()"
      ],
      "execution_count": 99,
      "outputs": [
        {
          "output_type": "stream",
          "text": [
            "0  minibatches tested.\n",
            "10  minibatches tested.\n",
            "20  minibatches tested.\n",
            "30  minibatches tested.\n",
            "40  minibatches tested.\n",
            "50  minibatches tested.\n",
            "60  minibatches tested.\n",
            "70  minibatches tested.\n",
            "80  minibatches tested.\n",
            "90  minibatches tested.\n",
            "100  minibatches tested.\n",
            "110  minibatches tested.\n",
            "120  minibatches tested.\n",
            "130  minibatches tested.\n",
            "140  minibatches tested.\n",
            "150  minibatches tested.\n",
            "160  minibatches tested.\n",
            "170  minibatches tested.\n",
            "180  minibatches tested.\n",
            "190  minibatches tested.\n",
            "200  minibatches tested.\n",
            "210  minibatches tested.\n",
            "220  minibatches tested.\n",
            "230  minibatches tested.\n",
            "240  minibatches tested.\n",
            "250  minibatches tested.\n",
            "260  minibatches tested.\n",
            "270  minibatches tested.\n",
            "280  minibatches tested.\n",
            "290  minibatches tested.\n",
            "300  minibatches tested.\n",
            "310  minibatches tested.\n"
          ],
          "name": "stdout"
        }
      ]
    },
    {
      "cell_type": "code",
      "metadata": {
        "id": "68p_O5MuHxpg",
        "colab_type": "code",
        "colab": {}
      },
      "source": [
        ""
      ],
      "execution_count": 0,
      "outputs": []
    }
  ]
}