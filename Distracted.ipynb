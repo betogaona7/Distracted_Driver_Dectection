{
  "nbformat": 4,
  "nbformat_minor": 0,
  "metadata": {
    "colab": {
      "name": "Distracted.ipynb",
      "version": "0.3.2",
      "provenance": [],
      "collapsed_sections": [],
      "include_colab_link": true
    },
    "kernelspec": {
      "name": "python3",
      "display_name": "Python 3"
    }
  },
  "cells": [
    {
      "cell_type": "markdown",
      "metadata": {
        "id": "view-in-github",
        "colab_type": "text"
      },
      "source": [
        "<a href=\"https://colab.research.google.com/github/betogaona7/Distracted_Driver_Detection/blob/master/Distracted.ipynb\" target=\"_parent\"><img src=\"https://colab.research.google.com/assets/colab-badge.svg\" alt=\"Open In Colab\"/></a>"
      ]
    },
    {
      "cell_type": "markdown",
      "metadata": {
        "id": "LHHZJUxGa08N",
        "colab_type": "text"
      },
      "source": [
        "## Connect with Drive"
      ]
    },
    {
      "cell_type": "code",
      "metadata": {
        "id": "Uq5bdOPEakdN",
        "colab_type": "code",
        "colab": {}
      },
      "source": [
        "from google.colab import drive\n",
        "drive.mount(\"/betogaona7\")"
      ],
      "execution_count": 0,
      "outputs": []
    },
    {
      "cell_type": "code",
      "metadata": {
        "id": "YmNyou92atnI",
        "colab_type": "code",
        "colab": {}
      },
      "source": [
        "%cd ./../betogaona7/My\\ Drive/app/Distracted"
      ],
      "execution_count": 0,
      "outputs": []
    },
    {
      "cell_type": "markdown",
      "metadata": {
        "id": "wh7fTEx2bC32",
        "colab_type": "text"
      },
      "source": [
        "## Imports "
      ]
    },
    {
      "cell_type": "code",
      "metadata": {
        "id": "lL2NkIhYbA0B",
        "colab_type": "code",
        "colab": {}
      },
      "source": [
        "import os \n",
        "import random\n",
        "from PIL import Image \n",
        "import numpy as np\n",
        "import matplotlib.pyplot as plt\n",
        "import csv\n",
        "\n",
        "import tensorflow as tf"
      ],
      "execution_count": 0,
      "outputs": []
    },
    {
      "cell_type": "markdown",
      "metadata": {
        "id": "5jSWxOnbbFSn",
        "colab_type": "text"
      },
      "source": [
        "## Create train and validation TFRecord files"
      ]
    },
    {
      "cell_type": "code",
      "metadata": {
        "id": "ugDfG9V2lT9n",
        "colab_type": "code",
        "colab": {}
      },
      "source": [
        "def imgs_with_labels(src):\n",
        "  data = []\n",
        "  total = 0\n",
        "  for path, subdir, files in os.walk(src):\n",
        "    for file in files:\n",
        "      if file[-3:] == 'jpg': \n",
        "        data.append((os.path.join(path, file), path[-1:]))\n",
        "      total += 1\n",
        "  return data, total\n",
        "\n",
        "data, total = imgs_with_labels(\"./data/test/\")"
      ],
      "execution_count": 0,
      "outputs": []
    },
    {
      "cell_type": "code",
      "metadata": {
        "id": "owYTFog5vigm",
        "colab_type": "code",
        "colab": {}
      },
      "source": [
        "print(total)\n",
        "img_path, label = data[random.randint(0, total)]\n",
        "print(\"img: \", img_path, \" label: \", label, \" total: \", total )"
      ],
      "execution_count": 0,
      "outputs": []
    },
    {
      "cell_type": "code",
      "metadata": {
        "id": "Oi84VKBor1ld",
        "colab_type": "code",
        "colab": {}
      },
      "source": [
        "print(data[:10])\n",
        "random.shuffle(data)\n",
        "print(data[:10])"
      ],
      "execution_count": 0,
      "outputs": []
    },
    {
      "cell_type": "code",
      "metadata": {
        "id": "iTWaqSYzrkWc",
        "colab_type": "code",
        "colab": {}
      },
      "source": [
        "total = 22424\n",
        "\n",
        "tsize = int(0.8*total)+1\n",
        "vsize = int(0.2*total)\n",
        "\n",
        "train_data = data[:tsize]\n",
        "valid_data = data[-vsize:]\n",
        "\n",
        "print(len(train_data), len(valid_data), tsize+vsize)\n",
        "print(train_data[-10:])\n",
        "print(valid_data[:10])"
      ],
      "execution_count": 0,
      "outputs": []
    },
    {
      "cell_type": "code",
      "metadata": {
        "id": "IQSp7kjKl_xI",
        "colab_type": "code",
        "colab": {}
      },
      "source": [
        "def _bytes_feature(value):\n",
        "  return tf.train.Feature(bytes_list=tf.train.BytesList(value=[value]))\n",
        "\n",
        "def _int64_feature(value):\n",
        "  return tf.train.Feature(int64_list=tf.train.Int64List(value=[value]))\n",
        "\n",
        "def create_tf_record(tfr_name, data):\n",
        "  writer = tf.python_io.TFRecordWriter(tfr_name)\n",
        "  i = 1\n",
        "  for img_path, img_class in data:\n",
        "    img = np.array(Image.open(img_path))\n",
        "\n",
        "    img_raw = open(img_path, 'rb').read()\n",
        "    label = int(img_class)\n",
        "    path = str.encode(img_path)\n",
        "\n",
        "    example = tf.train.Example(features=tf.train.Features(feature={\n",
        "        'image': _bytes_feature(img_raw),\n",
        "        'label': _int64_feature(label),\n",
        "        'height': _int64_feature(img.shape[0]),\n",
        "        'width': _int64_feature(img.shape[1]),\n",
        "        'depth': _int64_feature(img.shape[2]),\n",
        "        'path': _bytes_feature(path) }))\n",
        "    writer.write(example.SerializeToString())\n",
        "    if(i%100 == 0):\n",
        "        print(i)\n",
        "    i+= 1\n",
        "  writer.close()\n",
        "  \n",
        "#create_tf_record(\"train2.tfrecord\", train_data)\n",
        "#create_tf_record(\"valid2.tfrecord\", valid_data)\n"
      ],
      "execution_count": 0,
      "outputs": []
    },
    {
      "cell_type": "code",
      "metadata": {
        "id": "RqsWpGPNupua",
        "colab_type": "code",
        "colab": {}
      },
      "source": [
        "for example in tf.python_io.tf_record_iterator(\"train.tfrecord\"):\n",
        "  result = tf.train.Example.FromString(example)\n",
        "print(result)"
      ],
      "execution_count": 0,
      "outputs": []
    },
    {
      "cell_type": "code",
      "metadata": {
        "id": "GLl_WRcY3tmt",
        "colab_type": "code",
        "outputId": "87e3df2d-2f4d-4fbd-e76f-42c334717001",
        "colab": {
          "base_uri": "https://localhost:8080/",
          "height": 69
        }
      },
      "source": [
        "!du -lh valid.tfrecord\n",
        "!du -lh train.tfrecord\n",
        "!du -sh ./data/train/"
      ],
      "execution_count": 0,
      "outputs": [
        {
          "output_type": "stream",
          "text": [
            "91M\tvalid.tfrecord\n",
            "820M\ttrain.tfrecord\n",
            "913M\t./data/train/\n"
          ],
          "name": "stdout"
        }
      ]
    },
    {
      "cell_type": "code",
      "metadata": {
        "id": "C3QcMMXjA1m3",
        "colab_type": "code",
        "outputId": "17d3580f-d3ab-43af-f380-47b91eb56fda",
        "colab": {
          "base_uri": "https://localhost:8080/",
          "height": 34
        }
      },
      "source": [
        "!du -lh test.tfrecord"
      ],
      "execution_count": 0,
      "outputs": [
        {
          "output_type": "stream",
          "text": [
            "du: cannot access 'test.tfrecord': No such file or directory\n"
          ],
          "name": "stdout"
        }
      ]
    },
    {
      "cell_type": "markdown",
      "metadata": {
        "id": "VvnwbEyO_tvX",
        "colab_type": "text"
      },
      "source": [
        "## Build dataset "
      ]
    },
    {
      "cell_type": "code",
      "metadata": {
        "id": "3LHNp5RZ8g9K",
        "colab_type": "code",
        "colab": {}
      },
      "source": [
        "def StateFarmDataset(image_size, tfrecord_file, shuffle_buffer_size, batch_size):\n",
        "  img_size = tf.cast(image_size, tf.int32)\n",
        "  \n",
        "  def _parse_function(example):\n",
        "    features = {'label': tf.FixedLenFeature((), tf.int64),\n",
        "                'image': tf.FixedLenFeature((), tf.string),\n",
        "                'height': tf.FixedLenFeature((), tf.int64),\n",
        "                'width': tf.FixedLenFeature((), tf.int64),\n",
        "                'depth': tf.FixedLenFeature((), tf.int64),\n",
        "                'path': tf.FixedLenFeature((), tf.string)}\n",
        "    parsed_features = tf.parse_single_example(example, features)\n",
        "    \n",
        "    # Reconstruct image \n",
        "    image = tf.image.decode_jpeg(parsed_features['image'], 3)\n",
        "    img_shape = tf.stack([tf.cast(parsed_features['height'], tf.int32),\n",
        "                          tf.cast(parsed_features['width'], tf.int32),\n",
        "                          tf.cast(parsed_features['depth'], tf.int32)])\n",
        "    image = tf.reshape(image, img_shape)\n",
        "    \n",
        "    # Normalize the image in the range 0 to 1\n",
        "    image = tf.image.convert_image_dtype(image, tf.float32)\n",
        "    \n",
        "    # Reshape image \n",
        "    image = tf.image.resize(image, [image_size, image_size])\n",
        "        \n",
        "    # One-hot encoding\n",
        "    label = tf.one_hot(parsed_features['label'], 10, dtype=tf.int32)\n",
        "    \n",
        "    return image, label, parsed_features['path']\n",
        "  \n",
        "  dataset = tf.data.TFRecordDataset(tfrecord_file)\n",
        "  dataset = dataset.shuffle(shuffle_buffer_size)\n",
        "  dataset = dataset.map(_parse_function)\n",
        "  \n",
        "  dataset = dataset.batch(batch_size)\n",
        "  dataset = dataset.prefetch(1)\n",
        "  \n",
        "  return dataset         "
      ],
      "execution_count": 0,
      "outputs": []
    },
    {
      "cell_type": "code",
      "metadata": {
        "id": "_lZYHZQOFZ7Y",
        "colab_type": "code",
        "outputId": "5ea79551-c5c6-4535-a7cb-75179982d9bd",
        "colab": {
          "base_uri": "https://localhost:8080/",
          "height": 34
        }
      },
      "source": [
        "total = 22424\n",
        "dataset = StateFarmDataset(64, \"train2.tfrecord\", total, 1)\n",
        "print(dataset)"
      ],
      "execution_count": 6,
      "outputs": [
        {
          "output_type": "stream",
          "text": [
            "<DatasetV1Adapter shapes: ((?, 64, 64, ?), (?, 10), (?,)), types: (tf.float32, tf.int32, tf.string)>\n"
          ],
          "name": "stdout"
        }
      ]
    },
    {
      "cell_type": "code",
      "metadata": {
        "id": "VobVutrvFu33",
        "colab_type": "code",
        "outputId": "2e9b97ad-53ca-495d-a518-36e9551da17f",
        "colab": {
          "base_uri": "https://localhost:8080/",
          "height": 338
        }
      },
      "source": [
        "def test_normalization(image):\n",
        "  assert image.max() <= 1 and image.min() >= 0,\\\n",
        "        'Incorect Range. {} to {} found'.format(image().min(), image.to_numpy().max())\n",
        "  print(\"Fine.\")\n",
        "    \n",
        "\n",
        "\n",
        "iterator = dataset.make_one_shot_iterator()\n",
        "record = iterator.get_next()\n",
        "with tf.Session() as sess:\n",
        "  img, label, img_path = sess.run(record)\n",
        "  print(\"Label: \", label)\n",
        "  print(\"Img path: \", img_path)\n",
        "  print(\"Img shape: \", img.shape)\n",
        "  test_normalization(img[0])\n",
        "  #print(img)\n",
        "  plt.imshow(img[0])"
      ],
      "execution_count": 7,
      "outputs": [
        {
          "output_type": "stream",
          "text": [
            "Label:  [[0 0 0 0 0 0 1 0 0 0]]\n",
            "Img path:  [b'./data/train/c6/img_97195.jpg']\n",
            "Img shape:  (1, 64, 64, 3)\n",
            "Fine.\n"
          ],
          "name": "stdout"
        },
        {
          "output_type": "display_data",
          "data": {
            "image/png": "[encoded data removed]",
            "text/plain": [
              "<Figure size 432x288 with 1 Axes>"
            ]
          },
          "metadata": {
            "tags": []
          }
        }
      ]
    },
    {
      "cell_type": "code",
      "metadata": {
        "id": "7mwmueSikRfZ",
        "colab_type": "code",
        "outputId": "be0aa6c7-9e6b-41b6-8525-3d07db77487c",
        "colab": {
          "base_uri": "https://localhost:8080/",
          "height": 52
        }
      },
      "source": [
        "train_samples = 17943\n",
        "valid_samples =  4481\n",
        "img_size = 64\n",
        "batch_size = 128\n",
        "\n",
        "train_dataset = StateFarmDataset(img_size, \"train2.tfrecord\", train_samples, batch_size)\n",
        "valid_dataset = StateFarmDataset(img_size, \"valid2.tfrecord\", valid_samples, valid_samples)\n",
        "\n",
        "handle = tf.placeholder(tf.string, shape=[])\n",
        "train_iterator = tf.data.Iterator.from_string_handle(handle, train_dataset.output_types, train_dataset.output_shapes)\n",
        "next_train_elements = train_iterator.get_next()\n",
        "train_iter = train_dataset.make_initializable_iterator()\n",
        "\n",
        "valid_iterator = valid_dataset.make_one_shot_iterator()\n",
        "next_valid_elements = valid_iterator.get_next()\n",
        "\n",
        "\n",
        "print(\"Samples in training: \", train_samples, \"Number of trainining mini-batches: \", int(train_samples/batch_size))\n",
        "print(\"Samples in validation: \", valid_samples, \"Number of validation mini-batches: \", int(valid_samples/valid_samples))"
      ],
      "execution_count": 9,
      "outputs": [
        {
          "output_type": "stream",
          "text": [
            "Samples in training:  17943 Number of trainining mini-batches:  140\n",
            "Samples in validation:  4481 Number of validation mini-batches:  1\n"
          ],
          "name": "stdout"
        }
      ]
    },
    {
      "cell_type": "markdown",
      "metadata": {
        "id": "49qUeQAFilxG",
        "colab_type": "text"
      },
      "source": [
        "## Build network"
      ]
    },
    {
      "cell_type": "code",
      "metadata": {
        "id": "8Ynlm9ICKblS",
        "colab_type": "code",
        "colab": {}
      },
      "source": [
        "def nn_input(img_shape):\n",
        "  return tf.placeholder(tf.float32, shape=[None, img_shape[0], img_shape[1], img_shape[2]], name=\"x\")\n",
        "\n",
        "def nn_label(n_classes):\n",
        "  return tf.placeholder(tf.float32, shape=[None, n_classes], name='y')\n",
        "\n",
        "def nn_keep_prob():\n",
        "  return tf.placeholder(tf.float32, name='keep_prob')\n",
        "\n",
        "def conv2d_maxpool(x_tensor, outs, conv_ksize, conv_strides, pool_ksize, pool_strides):\n",
        "  weights = tf.Variable(tf.truncated_normal([conv_ksize, conv_ksize, int(x_tensor.shape[3]), outs]))\n",
        "  bias = tf.Variable(tf.zeros([outs]))\n",
        "  \n",
        "  x = tf.nn.conv2d(x_tensor, weights, strides=[1, conv_strides, conv_strides, 1], padding=\"SAME\")\n",
        "  x = tf.nn.bias_add(x, bias)\n",
        "  x = tf.nn.relu(x)\n",
        "  x = tf.nn.max_pool(x, ksize=[1, pool_ksize, pool_ksize, 1], strides=[1, pool_strides, pool_strides, 1], padding=\"SAME\")\n",
        "  return x\n",
        "\n",
        "def flatten(x_tensor):\n",
        "  dimensions = x_tensor.get_shape().as_list()\n",
        "  img_flat_size = dimensions[1] * dimensions[2] * dimensions[3]\n",
        "  return tf.reshape(x_tensor, [-1, img_flat_size])\n",
        "\n",
        "def dense(x_tensor, n_outputs):\n",
        "  weights = tf.Variable(tf.truncated_normal([int(x_tensor.shape[-1]), n_outputs], mean=0.0, stddev=0.1))\n",
        "  bias = tf.Variable(tf.zeros([n_outputs]))\n",
        "  \n",
        "  x = tf.add(tf.matmul(x_tensor, weights), bias)\n",
        "  x = tf.nn.relu(x)\n",
        "  return x\n",
        "\n",
        "def nn_output(x_tensor, n_outputs):\n",
        "  weights = tf.Variable(tf.truncated_normal([int(x_tensor.shape[-1]), n_outputs], mean=0.0, stddev=0.1))\n",
        "  bias = tf.Variable(tf.zeros([n_outputs]))\n",
        "  \n",
        "  x = tf.add(tf.matmul(x_tensor, weights), bias)\n",
        "  return x"
      ],
      "execution_count": 0,
      "outputs": []
    },
    {
      "cell_type": "markdown",
      "metadata": {
        "id": "SMa5bVQ6cwSG",
        "colab_type": "text"
      },
      "source": [
        "### Unit tests"
      ]
    },
    {
      "cell_type": "code",
      "metadata": {
        "id": "uG5ov2thbf8e",
        "colab_type": "code",
        "outputId": "5790b255-0ff8-4f2b-afe9-311f97fc603a",
        "colab": {
          "base_uri": "https://localhost:8080/",
          "height": 139
        }
      },
      "source": [
        "def test_nn_input(neural_net_image_input):\n",
        "    image_shape = (64, 64, 3)\n",
        "    nn_inputs_out_x = nn_input(image_shape)\n",
        "\n",
        "    assert nn_inputs_out_x.get_shape().as_list() == [None, image_shape[0], image_shape[1], image_shape[2]],\\\n",
        "        'Incorrect Image Shape.  Found {} shape'.format(nn_inputs_out_x.get_shape().as_list())\n",
        "\n",
        "    assert nn_inputs_out_x.op.type == 'Placeholder',\\\n",
        "        'Incorrect Image Type.  Found {} type'.format(nn_inputs_out_x.op.type)\n",
        "\n",
        "    assert nn_inputs_out_x.name == 'x:0', \\\n",
        "        'Incorrect Name.  Found {}'.format(nn_inputs_out_x.name)\n",
        "\n",
        "    print(\"Image input tests passed.\")\n",
        "\n",
        "\n",
        "def test_nn_label(neural_net_label_input):\n",
        "    n_classes = 10\n",
        "    nn_inputs_out_y = nn_label(n_classes)\n",
        "\n",
        "    assert nn_inputs_out_y.get_shape().as_list() == [None, n_classes],\\\n",
        "        'Incorrect Label Shape.  Found {} shape'.format(nn_inputs_out_y.get_shape().as_list())\n",
        "\n",
        "    assert nn_inputs_out_y.op.type == 'Placeholder',\\\n",
        "        'Incorrect Label Type.  Found {} type'.format(nn_inputs_out_y.op.type)\n",
        "\n",
        "    assert nn_inputs_out_y.name == 'y:0', \\\n",
        "        'Incorrect Name.  Found {}'.format(nn_inputs_out_y.name)\n",
        "\n",
        "    print(\"Label input tests passed.\")\n",
        "    \n",
        "def test_nn_keep_prob(neural_net_keep_prob_input):\n",
        "    nn_inputs_out_k = nn_keep_prob()\n",
        "\n",
        "    assert nn_inputs_out_k.get_shape().ndims is None,\\\n",
        "        'Too many dimensions found for keep prob.  Found {} dimensions.  It should be a scalar (0-Dimension Tensor).'.format(nn_inputs_out_k.get_shape().ndims)\n",
        "\n",
        "    assert nn_inputs_out_k.op.type == 'Placeholder',\\\n",
        "        'Incorrect keep prob Type.  Found {} type'.format(nn_inputs_out_k.op.type)\n",
        "\n",
        "    assert nn_inputs_out_k.name == 'keep_prob:0', \\\n",
        "        'Incorrect Name.  Found {}'.format(nn_inputs_out_k.name)\n",
        "    \n",
        "    print(\"Keep prob tests passed.\")\n",
        "    \n",
        "def test_conv2d_maxpool(conv2d_maxpool):\n",
        "    test_x = tf.placeholder(tf.float32, [None, 64, 64, 5])\n",
        "    test_num_outputs = 10\n",
        "    test_con_k = 2\n",
        "    test_con_s = 4\n",
        "    test_pool_k = 2\n",
        "    test_pool_s = 2\n",
        "\n",
        "    conv2d_maxpool_out = conv2d_maxpool(test_x, test_num_outputs, test_con_k, test_con_s, test_pool_k, test_pool_s)\n",
        "\n",
        "    assert conv2d_maxpool_out.get_shape().as_list() == [None, 8, 8, 10],\\\n",
        "        'Incorrect Shape.  Found {} shape'.format(conv2d_maxpool_out.get_shape().as_list())\n",
        "\n",
        "    print(\"Conv layer test passed.\")\n",
        "    \n",
        "def test_flatten(flatten):\n",
        "    test_x = tf.placeholder(tf.float32, [None, 10, 30, 6])\n",
        "    flat_out = flatten(test_x)\n",
        "\n",
        "    assert flat_out.get_shape().as_list() == [None, 10*30*6],\\\n",
        "        'Incorrect Shape.  Found {} shape'.format(flat_out.get_shape().as_list())\n",
        "\n",
        "    print(\"Flatten test passed.\")\n",
        "    \n",
        "def test_dense(fully_conn):\n",
        "    test_x = tf.placeholder(tf.float32, [None, 128])\n",
        "    test_num_outputs = 40\n",
        "\n",
        "    fc_out = fully_conn(test_x, test_num_outputs)\n",
        "\n",
        "    assert fc_out.get_shape().as_list() == [None, 40],\\\n",
        "        'Incorrect Shape.  Found {} shape'.format(fc_out.get_shape().as_list())\n",
        "\n",
        "    print(\"Dense layer test passed.\")\n",
        "\n",
        "\n",
        "def test_output(output):\n",
        "    test_x = tf.placeholder(tf.float32, [None, 128])\n",
        "    test_num_outputs = 40\n",
        "\n",
        "    output_out = output(test_x, test_num_outputs)\n",
        "\n",
        "    assert output_out.get_shape().as_list() == [None, 40],\\\n",
        "        'Incorrect Shape.  Found {} shape'.format(output_out.get_shape().as_list())\n",
        "\n",
        "    print(\"Output test passed\")\n",
        "\n",
        "test_nn_input(nn_input)\n",
        "test_nn_label(nn_label)\n",
        "test_nn_keep_prob(nn_keep_prob)\n",
        "test_conv2d_maxpool(conv2d_maxpool)\n",
        "test_flatten(flatten)\n",
        "test_dense(dense)\n",
        "test_output(nn_output)"
      ],
      "execution_count": 0,
      "outputs": [
        {
          "output_type": "stream",
          "text": [
            "Image input tests passed.\n",
            "Label input tests passed.\n",
            "Keep prob tests passed.\n",
            "Conv layer test passed.\n",
            "Flatten test passed.\n",
            "Dense layer test passed.\n",
            "Output test passed\n"
          ],
          "name": "stdout"
        }
      ]
    },
    {
      "cell_type": "code",
      "metadata": {
        "id": "IqvHqNlk0Msl",
        "colab_type": "code",
        "colab": {}
      },
      "source": [
        "def model(x, keep_prob):\n",
        "  conv1 = conv2d_maxpool(x, 128, 3, 1, pool_ksize=2, pool_strides=2)\n",
        "  conv2 = conv2d_maxpool(conv1, 64, 3, 1, pool_ksize=2, pool_strides=2)\n",
        "  conv3 = conv2d_maxpool(conv2, 32, 3, 1, pool_ksize=2, pool_strides=2)\n",
        "  conv4 = conv2d_maxpool(conv3, 16, 3, 1, pool_ksize=2, pool_strides=2)\n",
        "  \n",
        "  fc1 = flatten(conv4)\n",
        "  fc1 = dense(fc1, 1024)\n",
        "  \n",
        "  out = nn_output(fc1, 10)\n",
        "  return out \n",
        "\n",
        "x = nn_input((64, 64, 3))\n",
        "y = nn_label(10)\n",
        "keep_prob = nn_keep_prob()\n",
        "\n",
        "logits = model(x, keep_prob)\n",
        "logits = tf.identity(logits, name=\"logits\")\n",
        "\n",
        "cost = tf.reduce_mean(tf.nn.softmax_cross_entropy_with_logits_v2(logits=logits, labels=y))\n",
        "optimizer = tf.train.AdamOptimizer().minimize(cost)\n",
        "\n",
        "correct_pred = tf.equal(tf.argmax(logits, 1), tf.argmax(y, 1))\n",
        "accuracy = tf.reduce_mean(tf.cast(correct_pred, tf.float32), name=\"accuracy\")"
      ],
      "execution_count": 0,
      "outputs": []
    },
    {
      "cell_type": "code",
      "metadata": {
        "id": "gU3sqXQrhS82",
        "colab_type": "code",
        "outputId": "7611ccd5-e1a5-4b84-9e64-c24666d54d3d",
        "colab": {
          "base_uri": "https://localhost:8080/",
          "height": 34
        }
      },
      "source": [
        "def test_model(model):\n",
        "    test_x = tf.placeholder(tf.float32, [None, 64, 64, 3])\n",
        "    test_k = tf.placeholder(tf.float32)\n",
        "\n",
        "    logits_out = model(test_x, test_k)\n",
        "\n",
        "    assert logits_out.get_shape().as_list() == [None, 10],\\\n",
        "        'Incorrect Model Output.  Found {}'.format(logits_out.get_shape().as_list())\n",
        "\n",
        "    print(\"Model test passed.\")\n",
        "    \n",
        "test_model(model)"
      ],
      "execution_count": 0,
      "outputs": [
        {
          "output_type": "stream",
          "text": [
            "Model test passed.\n"
          ],
          "name": "stdout"
        }
      ]
    },
    {
      "cell_type": "markdown",
      "metadata": {
        "id": "9DhpKlR55t88",
        "colab_type": "text"
      },
      "source": [
        "## Train"
      ]
    },
    {
      "cell_type": "code",
      "metadata": {
        "id": "IG3a7xeVlGIi",
        "colab_type": "code",
        "outputId": "441a0db7-af8f-494e-88c1-03c7ef941eb7",
        "colab": {
          "base_uri": "https://localhost:8080/",
          "height": 34
        }
      },
      "source": [
        "if not tf.test.gpu_device_name():\n",
        "  print(\"You don't have the GPU activated\")\n",
        "else:\n",
        "  print('Default GPU Device: {}'.format(tf.test.gpu_device_name()))"
      ],
      "execution_count": 12,
      "outputs": [
        {
          "output_type": "stream",
          "text": [
            "Default GPU Device: /device:GPU:0\n"
          ],
          "name": "stdout"
        }
      ]
    },
    {
      "cell_type": "markdown",
      "metadata": {
        "id": "VJf8zWtV5y_I",
        "colab_type": "text"
      },
      "source": [
        "### Single optimization"
      ]
    },
    {
      "cell_type": "code",
      "metadata": {
        "id": "drIDmI3Z3fB-",
        "colab_type": "code",
        "colab": {}
      },
      "source": [
        "def train_nn(session, optimizer, keep_probability, feature_batch, label_batch):\n",
        "  return session.run(optimizer, feed_dict={x:feature_batch, y:label_batch, keep_prob:keep_probability})\n",
        "\n",
        "def print_stats(session, feature_batch, label_batch, cost, accuracy):\n",
        "  loss = sess.run(cost, feed_dict={x:feature_batch, y:label_batch, keep_prob:1.})\n",
        "  \n",
        "  valid_acc = sess.run(accuracy, feed_dict={x:feature_batch, y:label_batch, keep_prob:1.})\n",
        "  print(\"Loss: {:>10.4f} Validation accuracy: {:.6f}\".format(loss, valid_acc))\n",
        "  return None"
      ],
      "execution_count": 0,
      "outputs": []
    },
    {
      "cell_type": "code",
      "metadata": {
        "id": "LvA7VA2_i7Ql",
        "colab_type": "code",
        "outputId": "aa6b9abe-d299-4d81-aca6-103d7d50800f",
        "colab": {
          "base_uri": "https://localhost:8080/",
          "height": 34
        }
      },
      "source": [
        "from unittest.mock import MagicMock\n",
        "\n",
        "def test_train_nn(train_neural_network):\n",
        "    mock_session = tf.Session()\n",
        "    test_x = np.random.rand(128, 64, 64, 3)\n",
        "    test_y = np.random.rand(128, 10)\n",
        "    test_k = np.random.rand(1)\n",
        "    test_optimizer = tf.train.AdamOptimizer()\n",
        "\n",
        "    mock_session.run = MagicMock()\n",
        "    train_neural_network(mock_session, test_optimizer, test_k, test_x, test_y)\n",
        "\n",
        "    assert mock_session.run.called, 'Session not used'\n",
        "\n",
        "    print(\"Training test passed.\")\n",
        "    \n",
        "test_train_nn(train_nn)"
      ],
      "execution_count": 0,
      "outputs": [
        {
          "output_type": "stream",
          "text": [
            "Training test passed.\n"
          ],
          "name": "stdout"
        }
      ]
    },
    {
      "cell_type": "code",
      "metadata": {
        "id": "9ZyW-sMz7kH6",
        "colab_type": "code",
        "colab": {}
      },
      "source": [
        "epochs = 15 \n",
        "keep_probability = 1.0"
      ],
      "execution_count": 0,
      "outputs": []
    },
    {
      "cell_type": "code",
      "metadata": {
        "id": "hffgzEaURhp9",
        "colab_type": "code",
        "outputId": "1b6b0465-19e8-498f-f2b3-d69615043096",
        "colab": {
          "base_uri": "https://localhost:8080/",
          "height": 52
        }
      },
      "source": [
        "print(\"Checking training on a single mini batch... \")\n",
        "\n",
        "with tf.Session() as sess:\n",
        "  sess.run(tf.global_variables_initializer())\n",
        "  \n",
        "  train_handle = sess.run(train_iter.string_handle())\n",
        "  sess.run(train_iter.initializer)\n",
        "  \n",
        "  valid_features, valid_labels,_ = sess.run(next_valid_elements)\n",
        "  features, labels, _ = sess.run(next_train_elements, feed_dict={handle: train_handle}) # First mini batch\n",
        "  \n",
        "  for epoch in range(epochs):\n",
        "    batch_i = 1\n",
        "    train_nn(sess, optimizer, keep_probability, features, labels)\n",
        "    print('Epoch {:>2}, Batch {}:  '.format(epoch + 1, batch_i), end='')\n",
        "    print_stats(sess, valid_features, valid_labels, cost, accuracy)"
      ],
      "execution_count": 0,
      "outputs": [
        {
          "output_type": "stream",
          "text": [
            "Checking training on a single mini batch... \n",
            "Epoch  1, Batch 1:  "
          ],
          "name": "stdout"
        }
      ]
    },
    {
      "cell_type": "markdown",
      "metadata": {
        "id": "gB7A1SkraOpV",
        "colab_type": "text"
      },
      "source": [
        "## Full train"
      ]
    },
    {
      "cell_type": "code",
      "metadata": {
        "id": "cw-Cv3R4CmyN",
        "colab_type": "code",
        "outputId": "4bbc6f81-bf27-4b75-fa9a-06ef39626b9f",
        "colab": {
          "base_uri": "https://localhost:8080/",
          "height": 347
        }
      },
      "source": [
        "print(\"Training...\")\n",
        "\n",
        "with tf.Session() as  sess:\n",
        "  sess.run(tf.global_variables_initializer())\n",
        "  \n",
        "  train_handle = sess.run(train_iter.string_handle())\n",
        "  \n",
        "  \n",
        "  valid_features, valid_labels,_ = sess.run(next_valid_elements)\n",
        "  \n",
        "  for epoch in range(epochs):\n",
        "    sess.run(train_iter.initializer)\n",
        "    for batch in range(158):\n",
        "      features, labels, _ = sess.run(next_train_elements, feed_dict={handle: train_handle})\n",
        "      train_nn(sess, optimizer, keep_probability, features, labels)\n",
        "    print('Epoch {:>2}, Batch {}:  '.format(epoch + 1, 1), end='')\n",
        "    print_stats(sess, valid_features, valid_labels, cost, accuracy)\n",
        "    \n",
        "  saver = tf.train.Saver()\n",
        "  save_path = saver.save(sess, \"./model\")"
      ],
      "execution_count": 0,
      "outputs": [
        {
          "output_type": "stream",
          "text": [
            "Epoch  2, Batch 1:  Loss:   152.9061 Validation accuracy: 0.748885\n",
            "Epoch  3, Batch 1:  Loss:    99.1391 Validation accuracy: 0.830508\n",
            "Epoch  4, Batch 1:  Loss:    83.0813 Validation accuracy: 0.844781\n",
            "Epoch  5, Batch 1:  Loss:    61.5902 Validation accuracy: 0.884478\n",
            "Epoch  6, Batch 1:  Loss:    60.7555 Validation accuracy: 0.893399\n",
            "Epoch  7, Batch 1:  Loss:    65.3486 Validation accuracy: 0.884032\n",
            "Epoch  8, Batch 1:  Loss:    58.1882 Validation accuracy: 0.893845\n",
            "Epoch  9, Batch 1:  Loss:    68.6058 Validation accuracy: 0.876896\n",
            "Epoch 10, Batch 1:  Loss:    40.7528 Validation accuracy: 0.921053\n",
            "Epoch 11, Batch 1:  Loss:    40.5651 Validation accuracy: 0.919715\n",
            "Epoch 12, Batch 1:  Loss:    47.2211 Validation accuracy: 0.918822\n",
            "Epoch 13, Batch 1:  Loss:    36.6121 Validation accuracy: 0.931311\n",
            "Epoch 14, Batch 1:  Loss:    37.8650 Validation accuracy: 0.937110\n",
            "Epoch 15, Batch 1:  Loss:    40.6515 Validation accuracy: 0.935326\n",
            "Epoch 16, Batch 1:  Loss:    33.6616 Validation accuracy: 0.946922\n",
            "Epoch 17, Batch 1:  Loss:    56.2697 Validation accuracy: 0.909010\n",
            "Epoch 18, Batch 1:  Loss:    39.1968 Validation accuracy: 0.937556\n",
            "Epoch 19, Batch 1:  Loss:    37.0022 Validation accuracy: 0.946476\n",
            "Epoch 20, Batch 1:  Loss:    61.5578 Validation accuracy: 0.914362\n"
          ],
          "name": "stdout"
        }
      ]
    },
    {
      "cell_type": "markdown",
      "metadata": {
        "id": "H1Esg0l5hBBd",
        "colab_type": "text"
      },
      "source": [
        "## Evaluate"
      ]
    },
    {
      "cell_type": "code",
      "metadata": {
        "id": "IhLo8lCDaFvo",
        "colab_type": "code",
        "colab": {}
      },
      "source": [
        "for example in tf.python_io.tf_record_iterator(\"test.tfrecord\"):\n",
        "  result = tf.train.Example.FromString(example)\n",
        "print(result)"
      ],
      "execution_count": 0,
      "outputs": []
    },
    {
      "cell_type": "code",
      "metadata": {
        "id": "w83ldRALcEKv",
        "colab_type": "code",
        "outputId": "a842e259-b97d-4c83-828c-dd38238fe398",
        "colab": {
          "base_uri": "https://localhost:8080/",
          "height": 34
        }
      },
      "source": [
        "def get_test_data(image_size, tfrecord_file, batch_size):\n",
        "  img_size = tf.cast(image_size, tf.int32)\n",
        "  \n",
        "  def _parse_function(example):\n",
        "    features = {'image': tf.FixedLenFeature((), tf.string),\n",
        "                'height': tf.FixedLenFeature((), tf.int64),\n",
        "                'width': tf.FixedLenFeature((), tf.int64),\n",
        "                'depth': tf.FixedLenFeature((), tf.int64),\n",
        "                'path': tf.FixedLenFeature((), tf.string)}\n",
        "    parsed_features = tf.parse_single_example(example, features)\n",
        "    \n",
        "    # Reconstruct image \n",
        "    image = tf.image.decode_jpeg(parsed_features['image'], 3)\n",
        "    img_shape = tf.stack([tf.cast(parsed_features['height'], tf.int32),\n",
        "                          tf.cast(parsed_features['width'], tf.int32),\n",
        "                          tf.cast(parsed_features['depth'], tf.int32)])\n",
        "    image = tf.reshape(image, img_shape)\n",
        "    \n",
        "    # Normalize the image in the range 0 to 1\n",
        "    image = tf.image.convert_image_dtype(image, tf.float32)\n",
        "    \n",
        "    # Reshape image \n",
        "    image = tf.image.resize(image, [image_size, image_size])\n",
        "    \n",
        "    return image, parsed_features['path']\n",
        "  \n",
        "  dataset = tf.data.TFRecordDataset(tfrecord_file)\n",
        "  dataset = dataset.map(_parse_function)\n",
        "  \n",
        "  dataset = dataset.batch(batch_size)\n",
        "  dataset = dataset.prefetch(1)\n",
        "  \n",
        "  return dataset        \n",
        "\n",
        "test_data = get_test_data(64, \"test.tfrecord\", 128)\n",
        "print(test_data)"
      ],
      "execution_count": 0,
      "outputs": [
        {
          "output_type": "stream",
          "text": [
            "<DatasetV1Adapter shapes: ((?, 45, 60, ?), (?,)), types: (tf.float32, tf.string)>\n"
          ],
          "name": "stdout"
        }
      ]
    },
    {
      "cell_type": "markdown",
      "metadata": {
        "id": "P2zXCnKtUTgT",
        "colab_type": "text"
      },
      "source": [
        "### Display a single test image"
      ]
    },
    {
      "cell_type": "code",
      "metadata": {
        "id": "3-rC-Mx_ZA79",
        "colab_type": "code",
        "colab": {}
      },
      "source": [
        "iterator = test_data.make_one_shot_iterator()\n",
        "record = iterator.get_next()\n",
        "with tf.Session() as sess:\n",
        "  img, img_path = sess.run(record)\n",
        "  print(\"Img path: \", img_path)\n",
        "  print(\"Img shape: \", img.shape)\n",
        "  plt.imshow(img[0])"
      ],
      "execution_count": 0,
      "outputs": []
    },
    {
      "cell_type": "markdown",
      "metadata": {
        "id": "k2UIVQLfVWQq",
        "colab_type": "text"
      },
      "source": [
        "### Build test iterator"
      ]
    },
    {
      "cell_type": "code",
      "metadata": {
        "id": "aHzzEK2dVVaf",
        "colab_type": "code",
        "colab": {}
      },
      "source": [
        "test_dataset = get_test_data(64, \"test.tfrecord\", 1)\n",
        "\n",
        "handle = tf.placeholder(tf.string, shape=[])\n",
        "\n",
        "test_iterator = tf.data.Iterator.from_string_handle(handle, test_dataset.output_types, test_dataset.output_shapes)\n",
        "next_test_elements = train_iterator.get_next()\n",
        "test_iter = test_dataset.make_initializable_iterator()"
      ],
      "execution_count": 0,
      "outputs": []
    },
    {
      "cell_type": "code",
      "metadata": {
        "id": "8HI2d5YVZZ-R",
        "colab_type": "code",
        "colab": {}
      },
      "source": [
        "save_model_path=\"./model\"\n",
        "n_samples = 3\n",
        "top_n_predictions = 3\n",
        "\n",
        "def get_predictions():\n",
        "  img_predictionsp = []\n",
        "  loaded_graph = tf.Graph()\n",
        "  with tf.Session(graph=loaded_graph) as sess:\n",
        "    # Load model \n",
        "    loader = tf.train.import_meta_graph(save_model_path + '.meta')\n",
        "    loader.restore(sess, saved_model_path)\n",
        "    \n",
        "    # Get tensor from loaded model\n",
        "    loaded_x = loaded_graph.get_tensor_by_name(\"x:0\")\n",
        "    loaded_y = loaded_graph.get_tensor_by_name(\"y:0\")\n",
        "    loaded_keep_prob = loaded_graph.get_tensor_by_name(\"keep_prob:0\")\n",
        "    loaded_logits = loaded_graph.get_tensor_by_name(\"logits:0\")\n",
        "    loaded_acc = loaded_graph.get_tensor_by_name(\"accuracy:0\")\n",
        "    \n",
        "    # Initialize batch iterator\n",
        "    test_handle = sess.run(test_iter.string_handle())\n",
        "    sess.run(test_iter.initializer)\n",
        "    \n",
        "    for testsample in range(79726):\n",
        "      image, image_name = sess.run(next_test_elements, feed_dict={handle: test_handle})\n",
        "      image_predictions = sess.run(tf.nn.softmax(loaded_logits), feed_dict={loaded_x: images,\n",
        "                                                                            loaded_y: None,\n",
        "                                                                            loadedl_keep_prob: 1.0}\n",
        "      print(image_name,  predictions.shape)\n",
        "      print(predictions)\n",
        "      break\n",
        "                               "
      ],
      "execution_count": 0,
      "outputs": []
    },
    {
      "cell_type": "markdown",
      "metadata": {
        "id": "UTV-9H_ah32q",
        "colab_type": "text"
      },
      "source": [
        "### Save CSV file "
      ]
    },
    {
      "cell_type": "code",
      "metadata": {
        "id": "Kpn_sCb1gBkg",
        "colab_type": "code",
        "colab": {}
      },
      "source": [
        "with open('predictions.csv', 'w', newline='') as csvfile:\n",
        "  doc = csv.writer(csvfile)\n",
        "  doc.writerow(['img', 'c0', 'c1', 'c2', 'c3', 'c4', 'c5', 'c6', 'c7', 'c8', 'c9'])\n",
        "  for i in range(79726):\n",
        "    doc.writerow([t[i][0], t[i][1], t[i][2], t[i][3], t[i][4], t[i][5], t[i][6], t[i][7], t[i][8],\n",
        "                  t[i][9], t[i][10], t[i][11]])"
      ],
      "execution_count": 0,
      "outputs": []
    }
  ]
}